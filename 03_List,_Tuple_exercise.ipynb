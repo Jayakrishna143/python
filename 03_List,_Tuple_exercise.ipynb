{
  "cells": [
    {
      "cell_type": "markdown",
      "metadata": {
        "id": "view-in-github",
        "colab_type": "text"
      },
      "source": [
        "<a href=\"https://colab.research.google.com/github/Jayakrishna143/python/blob/main/03_List%2C_Tuple_exercise.ipynb\" target=\"_parent\"><img src=\"https://colab.research.google.com/assets/colab-badge.svg\" alt=\"Open In Colab\"/></a>"
      ]
    },
    {
      "cell_type": "markdown",
      "metadata": {
        "id": "wuLgyHeeVQ5l"
      },
      "source": [
        "# Assignment Instructions\n",
        "\n",
        "`Hello Innominion,`\n",
        "\n",
        "- **Try to attempt all the questions in every possible way.**\n",
        "- **Some other topics are required to solve some questions. don't panic.**\n",
        "- **Those questions can be answered after the topics are taught.**\n",
        "\n",
        "\n",
        "- `Join Mentoring Session for the Support/Doubts Resolving with Our Technical Mentors (2.00 PM - 6.00 PM  Mon-Sat)`\n",
        "\n",
        "Happy Learning !!!"
      ]
    },
    {
      "cell_type": "markdown",
      "metadata": {
        "id": "Szkl_H9zVQ5p"
      },
      "source": [
        "###  LIST"
      ]
    },
    {
      "cell_type": "markdown",
      "metadata": {
        "id": "Kxb06eFiVQ5q"
      },
      "source": [
        "`Question:`:Create a list of numbers\n",
        "> nums = [1,2,3,4]"
      ]
    },
    {
      "cell_type": "code",
      "execution_count": 9,
      "metadata": {
        "colab": {
          "base_uri": "https://localhost:8080/"
        },
        "id": "AyqMh9J0VQ5r",
        "outputId": "837940b6-fe91-4155-9c9c-653d5386d216"
      },
      "outputs": [
        {
          "output_type": "execute_result",
          "data": {
            "text/plain": [
              "[1, 2, 3, 4]"
            ]
          },
          "metadata": {},
          "execution_count": 9
        }
      ],
      "source": [
        "nums =[1,2,3,4]\n",
        "nums"
      ]
    },
    {
      "cell_type": "markdown",
      "metadata": {
        "id": "EG3aLLkVVQ5t"
      },
      "source": [
        "** `Question:` Remove number \"3\" in a list**"
      ]
    },
    {
      "cell_type": "code",
      "execution_count": 3,
      "metadata": {
        "colab": {
          "base_uri": "https://localhost:8080/"
        },
        "id": "l_sryVAoVQ5t",
        "outputId": "ed76bb52-7322-41b6-b203-1f4546ede63a"
      },
      "outputs": [
        {
          "output_type": "execute_result",
          "data": {
            "text/plain": [
              "[1, 2, 4]"
            ]
          },
          "metadata": {},
          "execution_count": 3
        }
      ],
      "source": [
        "# Method 1\n",
        "nums.remove(3)\n",
        "nums"
      ]
    },
    {
      "cell_type": "code",
      "execution_count": 7,
      "metadata": {
        "colab": {
          "base_uri": "https://localhost:8080/"
        },
        "id": "-NaBbhuZVQ5u",
        "outputId": "f7df7303-d68c-4b77-d074-51168449040e"
      },
      "outputs": [
        {
          "output_type": "execute_result",
          "data": {
            "text/plain": [
              "[1, 2, 4]"
            ]
          },
          "metadata": {},
          "execution_count": 7
        }
      ],
      "source": [
        "# Method 2\n",
        "nums.pop(2)\n",
        "nums"
      ]
    },
    {
      "cell_type": "code",
      "execution_count": 10,
      "metadata": {
        "colab": {
          "base_uri": "https://localhost:8080/"
        },
        "id": "LUopNIIfVQ5v",
        "outputId": "6d63f61a-023c-4b0f-8fbd-a469bee5418b"
      },
      "outputs": [
        {
          "output_type": "execute_result",
          "data": {
            "text/plain": [
              "[1, 2, 4]"
            ]
          },
          "metadata": {},
          "execution_count": 10
        }
      ],
      "source": [
        "# Method 3\n",
        "nums=[1,2,3,4]\n",
        "del nums[2]\n",
        "nums"
      ]
    },
    {
      "cell_type": "markdown",
      "metadata": {
        "id": "PTkhK_KYVQ5v"
      },
      "source": [
        "**`Question:` :Insert number \"1\" in 0th position**\n",
        "- lst = [2,3,4]"
      ]
    },
    {
      "cell_type": "code",
      "execution_count": 12,
      "metadata": {
        "colab": {
          "base_uri": "https://localhost:8080/"
        },
        "id": "m6XrD6l4VQ5w",
        "outputId": "0b60802c-1c2e-4852-a4f1-aa89965f60bc"
      },
      "outputs": [
        {
          "output_type": "execute_result",
          "data": {
            "text/plain": [
              "[1, 2, 3, 4]"
            ]
          },
          "metadata": {},
          "execution_count": 12
        }
      ],
      "source": [
        "lst=[2,3,4]\n",
        "lst.insert(0,1)\n",
        "lst"
      ]
    },
    {
      "cell_type": "markdown",
      "metadata": {
        "id": "K7BZFOW7VQ5w"
      },
      "source": [
        "**`Question:` Insert \"two-and-half\" in 2nd position**"
      ]
    },
    {
      "cell_type": "code",
      "execution_count": null,
      "metadata": {
        "id": "RyDbG97RVQ5w"
      },
      "outputs": [],
      "source": []
    },
    {
      "cell_type": "code",
      "execution_count": null,
      "metadata": {
        "id": "CfRZKjW7VQ5x",
        "outputId": "49949cf1-c8a7-4270-b30e-4b9eb4979cac"
      },
      "outputs": [
        {
          "data": {
            "text/plain": [
              "[1, 2, 'two-and-half', 3, 4]"
            ]
          },
          "execution_count": 37,
          "metadata": {},
          "output_type": "execute_result"
        }
      ],
      "source": []
    },
    {
      "cell_type": "markdown",
      "metadata": {
        "id": "bxKEtXY0VQ5x"
      },
      "source": [
        "**`Question:` phrase = \"Don't panic!\"**\n",
        "- **Convert above text into list**"
      ]
    },
    {
      "cell_type": "code",
      "execution_count": null,
      "metadata": {
        "id": "fzgUlpleVQ5x"
      },
      "outputs": [],
      "source": [
        "# CODE HERE"
      ]
    },
    {
      "cell_type": "markdown",
      "metadata": {
        "id": "jK1ibaQxVQ5y"
      },
      "source": [
        "*convert into list*"
      ]
    },
    {
      "cell_type": "code",
      "execution_count": null,
      "metadata": {
        "id": "me9xUZj4VQ5y"
      },
      "outputs": [],
      "source": []
    },
    {
      "cell_type": "code",
      "execution_count": null,
      "metadata": {
        "id": "0HFPZ3Y-VQ5y",
        "outputId": "d3e73c50-5748-45a5-f67b-3f35e5f78fff"
      },
      "outputs": [
        {
          "data": {
            "text/plain": [
              "['D', 'o', 'n', \"'\", 't', ' ', 'p', 'a', 'n', 'i', 'c', '!']"
            ]
          },
          "execution_count": 41,
          "metadata": {},
          "output_type": "execute_result"
        }
      ],
      "source": []
    },
    {
      "cell_type": "markdown",
      "metadata": {
        "id": "kMQ1J29iVQ5y"
      },
      "source": [
        "`Question:` Remove ** '** and **!** in the list"
      ]
    },
    {
      "cell_type": "code",
      "execution_count": null,
      "metadata": {
        "id": "wY2Kw2KHVQ5z"
      },
      "outputs": [],
      "source": []
    },
    {
      "cell_type": "code",
      "execution_count": null,
      "metadata": {
        "id": "k5jJCMuyVQ5z",
        "outputId": "a6c5d2c1-5909-4ffe-8471-a6731d34063a"
      },
      "outputs": [
        {
          "data": {
            "text/plain": [
              "['D', 'o', 'n', 't', ' ', 'p', 'a', 'n', 'i', 'c']"
            ]
          },
          "execution_count": 43,
          "metadata": {},
          "output_type": "execute_result"
        }
      ],
      "source": []
    },
    {
      "cell_type": "markdown",
      "metadata": {
        "id": "aKHWxP5iVQ5z"
      },
      "source": [
        "**`Question:` Remove \"p\" , \"a\", \"n\",\"D\" and extend at the last**"
      ]
    },
    {
      "cell_type": "code",
      "execution_count": null,
      "metadata": {
        "id": "xMvPZKWqVQ5z"
      },
      "outputs": [],
      "source": [
        "# CODE HERE"
      ]
    },
    {
      "cell_type": "code",
      "execution_count": null,
      "metadata": {
        "id": "zEPKncZZVQ50",
        "outputId": "ff2ffd91-ee31-4b70-e928-1d0251addb7e"
      },
      "outputs": [
        {
          "data": {
            "text/plain": [
              "['o', 'n', 't', ' ', 'i', 'c', 'p', 'a', 'n', 'D']"
            ]
          },
          "execution_count": 45,
          "metadata": {},
          "output_type": "execute_result"
        }
      ],
      "source": []
    },
    {
      "cell_type": "markdown",
      "metadata": {
        "id": "UXGmTKNAVQ50"
      },
      "source": [
        "**`Question:` Join the given list ['p', 'a', 'n', 'D', 'a']**"
      ]
    },
    {
      "cell_type": "code",
      "execution_count": null,
      "metadata": {
        "id": "haAo6xwrVQ50"
      },
      "outputs": [],
      "source": [
        "# CODE HERE"
      ]
    },
    {
      "cell_type": "code",
      "execution_count": null,
      "metadata": {
        "id": "fbu6emk_VQ51",
        "outputId": "1c39909f-067e-4e41-fc95-2c7eb62b0b5d"
      },
      "outputs": [
        {
          "data": {
            "text/plain": [
              "'panDa'"
            ]
          },
          "execution_count": 21,
          "metadata": {},
          "output_type": "execute_result"
        }
      ],
      "source": []
    },
    {
      "cell_type": "markdown",
      "metadata": {
        "id": "Hc_AoRcrVQ51"
      },
      "source": [
        "###  Tuples"
      ]
    },
    {
      "cell_type": "markdown",
      "metadata": {
        "id": "BiA4VCUiVQ51"
      },
      "source": [
        "**`Question:` Create a tuples for numbers 31,24,35,85 as nums**"
      ]
    },
    {
      "cell_type": "code",
      "execution_count": null,
      "metadata": {
        "id": "YQNV9XITVQ52"
      },
      "outputs": [],
      "source": [
        "# CODE HERE"
      ]
    },
    {
      "cell_type": "code",
      "execution_count": null,
      "metadata": {
        "id": "ErF1OC5BVQ52",
        "outputId": "a81601ca-dc18-41d7-c17b-889ae2d74b67"
      },
      "outputs": [
        {
          "name": "stdout",
          "output_type": "stream",
          "text": [
            "data type <class 'tuple'>\n",
            "(31, 24, 35, 85)\n"
          ]
        }
      ],
      "source": []
    },
    {
      "cell_type": "markdown",
      "metadata": {
        "id": "VNz4G1gwVQ52"
      },
      "source": [
        "**`Question:` Remove number \"35\" in a tuple**\n",
        "\n",
        "*Hint:* Convert into list"
      ]
    },
    {
      "cell_type": "code",
      "execution_count": null,
      "metadata": {
        "id": "PnHlvllSVQ53"
      },
      "outputs": [],
      "source": [
        "# CODE HERE"
      ]
    },
    {
      "cell_type": "code",
      "execution_count": null,
      "metadata": {
        "id": "WoN82ujWVQ53",
        "outputId": "078847f4-b74e-431f-fba4-0f980575b735"
      },
      "outputs": [
        {
          "data": {
            "text/plain": [
              "(31, 24, 85)"
            ]
          },
          "execution_count": 12,
          "metadata": {},
          "output_type": "execute_result"
        }
      ],
      "source": []
    },
    {
      "cell_type": "markdown",
      "metadata": {
        "id": "BB18l_nyVQ53"
      },
      "source": [
        "**Extent** tuple (85,19)"
      ]
    },
    {
      "cell_type": "code",
      "execution_count": null,
      "metadata": {
        "id": "cP23IUArVQ53"
      },
      "outputs": [],
      "source": [
        "# CODE HERE"
      ]
    },
    {
      "cell_type": "code",
      "execution_count": null,
      "metadata": {
        "id": "VJdHzOLEVQ54",
        "outputId": "ab5cf770-a8c3-4ebc-eb2e-c96402f395cb"
      },
      "outputs": [
        {
          "data": {
            "text/plain": [
              "(31, 24, 85, 85, 19)"
            ]
          },
          "execution_count": 15,
          "metadata": {},
          "output_type": "execute_result"
        }
      ],
      "source": []
    },
    {
      "cell_type": "markdown",
      "metadata": {
        "id": "91CgL49OVQ54"
      },
      "source": [
        "**`Question:` Write code to check whether an element ('i') exists within a tuple.**\n",
        "- tpl = ('i','n''n','0')"
      ]
    },
    {
      "cell_type": "code",
      "execution_count": null,
      "metadata": {
        "id": "9lFI1A4uVQ54"
      },
      "outputs": [],
      "source": [
        "# CODE HERE"
      ]
    },
    {
      "cell_type": "code",
      "execution_count": null,
      "metadata": {
        "id": "oh0OJQg5VQ55",
        "outputId": "efd6f311-7c38-4cf0-823b-a4a90b99e2ad"
      },
      "outputs": [
        {
          "name": "stdout",
          "output_type": "stream",
          "text": [
            "True\n"
          ]
        }
      ],
      "source": []
    },
    {
      "cell_type": "markdown",
      "metadata": {
        "id": "dF3V2EYQVQ56"
      },
      "source": [
        "**`Question:` Write a python code to replace/insert the value**\n",
        "- list = ['Hello',100,[],'innomatics']"
      ]
    },
    {
      "cell_type": "code",
      "execution_count": null,
      "metadata": {
        "id": "jP3pvegwVQ56"
      },
      "outputs": [],
      "source": [
        "# CODE HERE"
      ]
    },
    {
      "cell_type": "code",
      "execution_count": null,
      "metadata": {
        "id": "3qbb2rfUVQ57",
        "outputId": "bd425497-8dde-4742-c149-854016d715e6"
      },
      "outputs": [
        {
          "data": {
            "text/plain": [
              "['Hello', 100, [200], 'innomatics']"
            ]
          },
          "execution_count": 2,
          "metadata": {},
          "output_type": "execute_result"
        }
      ],
      "source": []
    },
    {
      "cell_type": "markdown",
      "metadata": {
        "id": "y2E0o4-NVQ57"
      },
      "source": [
        "**`Question:` Write a Python program to reverse a tuple.**"
      ]
    },
    {
      "cell_type": "code",
      "execution_count": null,
      "metadata": {
        "id": "4a1ACJRsVQ57"
      },
      "outputs": [],
      "source": [
        "# CODE HERE\n",
        "tpl = (\"Innomatics\")"
      ]
    },
    {
      "cell_type": "code",
      "execution_count": null,
      "metadata": {
        "id": "kC2zY01nVQ58",
        "outputId": "54b18be5-3cae-493c-8055-4355890d1e8f"
      },
      "outputs": [
        {
          "name": "stdout",
          "output_type": "stream",
          "text": [
            "('s', 'c', 'i', 't', 'a', 'm', 'o', 'n', 'n', 'I')\n"
          ]
        }
      ],
      "source": []
    },
    {
      "cell_type": "code",
      "execution_count": null,
      "metadata": {
        "id": "JHJlf3S7VQ58",
        "outputId": "03ff36e5-265f-4c30-e2e9-03d85e7c7e52"
      },
      "outputs": [
        {
          "data": {
            "text/plain": [
              "(1, 2, 3, 4)"
            ]
          },
          "execution_count": 9,
          "metadata": {},
          "output_type": "execute_result"
        }
      ],
      "source": [
        "tpl = (1,2,3)+(4,)\n",
        "tpl"
      ]
    },
    {
      "cell_type": "markdown",
      "metadata": {
        "id": "lD7lnKMrVQ58"
      },
      "source": [
        "**`Question:` Write a Python program to add one more value at last postion of tuples in a list**\n",
        "- tpl = [(10, 20, 40), (40, 50, 60), (70, 80, 90)]\n",
        "- `hint- use for loop`"
      ]
    },
    {
      "cell_type": "code",
      "execution_count": null,
      "metadata": {
        "id": "CXIaY9knVQ59"
      },
      "outputs": [],
      "source": [
        "# CODE HERE\n",
        "tpl = [(10, 20, 40), (40, 50, 60), (70, 80, 90)]"
      ]
    },
    {
      "cell_type": "code",
      "execution_count": null,
      "metadata": {
        "id": "UA5FRB2fVQ59",
        "outputId": "1f223d35-2ddc-41bd-bffa-24ca2e284903"
      },
      "outputs": [
        {
          "data": {
            "text/plain": [
              "[(10, 20, 40, 100), (40, 50, 60, 100), (70, 80, 90, 100)]"
            ]
          },
          "execution_count": 10,
          "metadata": {},
          "output_type": "execute_result"
        }
      ],
      "source": []
    },
    {
      "cell_type": "markdown",
      "metadata": {
        "id": "EBG4lyG_VQ59"
      },
      "source": [
        "**`Question:` Write a Python program to replace last value of tuples in a list**\n",
        "- tpl = [(10, 20, 40), (40, 50, 60), (70, 80, 90)]\n",
        "- `hint- use for loop`"
      ]
    },
    {
      "cell_type": "code",
      "execution_count": null,
      "metadata": {
        "id": "xk6NByz7VQ5-"
      },
      "outputs": [],
      "source": [
        "# CODE HERE\n",
        "tpl = [(10, 20, 40), (40, 50, 60), (70, 80, 90)]"
      ]
    },
    {
      "cell_type": "code",
      "execution_count": null,
      "metadata": {
        "id": "WRA8BDvUVQ5-",
        "outputId": "9f22b361-d12b-46a9-8c16-9039108fa31e"
      },
      "outputs": [
        {
          "data": {
            "text/plain": [
              "[(10, 20, 100), (40, 50, 100), (70, 80, 100)]"
            ]
          },
          "execution_count": 11,
          "metadata": {},
          "output_type": "execute_result"
        }
      ],
      "source": []
    },
    {
      "cell_type": "markdown",
      "metadata": {
        "id": "R_CER0BvVQ5-"
      },
      "source": [
        "### `Question:` If the following string is given as input to the program:\n",
        "\n",
        "- '5 2 3 6 6 5'\n",
        "\n",
        "#### FInd the secong higest value from that"
      ]
    },
    {
      "cell_type": "code",
      "execution_count": null,
      "metadata": {
        "id": "sWYUMjmwVQ5_",
        "outputId": "a80f6195-a54d-4f55-fdbf-02cec2a11e38"
      },
      "outputs": [
        {
          "name": "stdout",
          "output_type": "stream",
          "text": [
            "5 2 4 6 2 2 \n",
            "second higest is : 5\n"
          ]
        }
      ],
      "source": [
        "# CODE HERE"
      ]
    },
    {
      "cell_type": "markdown",
      "metadata": {
        "id": "5YkRBcTmVQ5_"
      },
      "source": [
        "### `Question:` By using list comprehension, please write a program to print the list after removing the 0th,4th,5th numbers in [12,24,35,70,88,120,155]."
      ]
    },
    {
      "cell_type": "code",
      "execution_count": null,
      "metadata": {
        "id": "n0JhRAkRVQ5_",
        "outputId": "ddb244c4-e648-4065-9084-757973902107"
      },
      "outputs": [
        {
          "name": "stdout",
          "output_type": "stream",
          "text": [
            "[24, 35, 70, 155]\n"
          ]
        }
      ],
      "source": [
        "# CODE HERE"
      ]
    },
    {
      "cell_type": "markdown",
      "metadata": {
        "id": "i3qjmDKTVQ6A"
      },
      "source": [
        "### `Question:` With a given tuple (1,2,3,4,5,6,7,8,9,10), write a program to print the first half values in one line and the last half values in one line."
      ]
    },
    {
      "cell_type": "code",
      "execution_count": null,
      "metadata": {
        "id": "q0I1T_5cVQ6A",
        "outputId": "b66353ed-fde4-46c5-ae3f-d3e6da4baa1e"
      },
      "outputs": [
        {
          "name": "stdout",
          "output_type": "stream",
          "text": [
            "(1, 2, 3, 4, 5) (6, 7, 8, 9, 10)\n"
          ]
        }
      ],
      "source": []
    },
    {
      "cell_type": "markdown",
      "metadata": {
        "id": "VPrzvv_hVQ6A"
      },
      "source": [
        "### `Question:` Write a program to generate and print another tuple whose values are even numbers in the given tuple (1,2,3,4,5,6,7,8,9,10)"
      ]
    },
    {
      "cell_type": "code",
      "execution_count": null,
      "metadata": {
        "id": "hnmJARX7VQ6B",
        "outputId": "7287a3b8-a877-46c9-c393-9e07100ebf91"
      },
      "outputs": [
        {
          "name": "stdout",
          "output_type": "stream",
          "text": [
            "(2, 4, 6, 8, 10)\n"
          ]
        }
      ],
      "source": []
    },
    {
      "cell_type": "code",
      "execution_count": null,
      "metadata": {
        "id": "0yH1AWiIVQ6B"
      },
      "outputs": [],
      "source": []
    },
    {
      "cell_type": "markdown",
      "metadata": {
        "id": "fGRxKuLHVQ6B"
      },
      "source": [
        "# `Descriptive Questions`"
      ]
    },
    {
      "cell_type": "markdown",
      "metadata": {
        "id": "QHiSNsdjVQ6C"
      },
      "source": [
        "### 1. Explain the difference between list and tuple?"
      ]
    },
    {
      "cell_type": "code",
      "execution_count": null,
      "metadata": {
        "id": "eoVW_ztbVQ6C"
      },
      "outputs": [],
      "source": [
        "# Solution"
      ]
    },
    {
      "cell_type": "markdown",
      "metadata": {
        "id": "uCqNTq--VQ6C"
      },
      "source": [
        "### 2. Explain the difference between append() and extend() with examples"
      ]
    },
    {
      "cell_type": "code",
      "execution_count": null,
      "metadata": {
        "id": "ygSw89neVQ6C"
      },
      "outputs": [],
      "source": [
        "# Solution"
      ]
    },
    {
      "cell_type": "markdown",
      "metadata": {
        "id": "j8VWDyjPVQ6D"
      },
      "source": [
        "### 3. Explain the difference between pop() and remove() with examples"
      ]
    },
    {
      "cell_type": "code",
      "execution_count": null,
      "metadata": {
        "id": "C0LduOQiVQ6D"
      },
      "outputs": [],
      "source": [
        "# Solution"
      ]
    },
    {
      "cell_type": "markdown",
      "metadata": {
        "id": "-N--7CvOVQ6D"
      },
      "source": [
        "# [Innomatics Research Labs](https:/innomatics.in/)\n",
        "[www.innomatics.in](https:/innomatics.in/)"
      ]
    },
    {
      "cell_type": "code",
      "execution_count": null,
      "metadata": {
        "id": "u_eKevPDVQ6E"
      },
      "outputs": [],
      "source": []
    }
  ],
  "metadata": {
    "kernelspec": {
      "display_name": "Python 3",
      "language": "python",
      "name": "python3"
    },
    "language_info": {
      "codemirror_mode": {
        "name": "ipython",
        "version": 3
      },
      "file_extension": ".py",
      "mimetype": "text/x-python",
      "name": "python",
      "nbconvert_exporter": "python",
      "pygments_lexer": "ipython3",
      "version": "3.8.5"
    },
    "colab": {
      "provenance": [],
      "include_colab_link": true
    }
  },
  "nbformat": 4,
  "nbformat_minor": 0
}