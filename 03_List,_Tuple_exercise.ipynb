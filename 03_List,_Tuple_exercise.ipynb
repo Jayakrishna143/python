{
  "cells": [
    {
      "cell_type": "markdown",
      "metadata": {
        "id": "view-in-github",
        "colab_type": "text"
      },
      "source": [
        "<a href=\"https://colab.research.google.com/github/Jayakrishna143/python/blob/main/03_List%2C_Tuple_exercise.ipynb\" target=\"_parent\"><img src=\"https://colab.research.google.com/assets/colab-badge.svg\" alt=\"Open In Colab\"/></a>"
      ]
    },
    {
      "cell_type": "markdown",
      "metadata": {
        "id": "wuLgyHeeVQ5l"
      },
      "source": [
        "# Assignment Instructions\n",
        "\n",
        "`Hello Innominion,`\n",
        "\n",
        "- **Try to attempt all the questions in every possible way.**\n",
        "- **Some other topics are required to solve some questions. don't panic.**\n",
        "- **Those questions can be answered after the topics are taught.**\n",
        "\n",
        "\n",
        "- `Join Mentoring Session for the Support/Doubts Resolving with Our Technical Mentors (2.00 PM - 6.00 PM  Mon-Sat)`\n",
        "\n",
        "Happy Learning !!!"
      ]
    },
    {
      "cell_type": "markdown",
      "metadata": {
        "id": "Szkl_H9zVQ5p"
      },
      "source": [
        "###  LIST"
      ]
    },
    {
      "cell_type": "markdown",
      "metadata": {
        "id": "Kxb06eFiVQ5q"
      },
      "source": [
        "`Question:`:Create a list of numbers\n",
        "> nums = [1,2,3,4]"
      ]
    },
    {
      "cell_type": "code",
      "execution_count": null,
      "metadata": {
        "colab": {
          "base_uri": "https://localhost:8080/"
        },
        "id": "AyqMh9J0VQ5r",
        "outputId": "837940b6-fe91-4155-9c9c-653d5386d216"
      },
      "outputs": [
        {
          "output_type": "execute_result",
          "data": {
            "text/plain": [
              "[1, 2, 3, 4]"
            ]
          },
          "metadata": {},
          "execution_count": 9
        }
      ],
      "source": [
        "nums =[1,2,3,4]\n",
        "nums"
      ]
    },
    {
      "cell_type": "markdown",
      "metadata": {
        "id": "EG3aLLkVVQ5t"
      },
      "source": [
        "** `Question:` Remove number \"3\" in a list**"
      ]
    },
    {
      "cell_type": "code",
      "execution_count": null,
      "metadata": {
        "colab": {
          "base_uri": "https://localhost:8080/"
        },
        "id": "l_sryVAoVQ5t",
        "outputId": "ed76bb52-7322-41b6-b203-1f4546ede63a"
      },
      "outputs": [
        {
          "output_type": "execute_result",
          "data": {
            "text/plain": [
              "[1, 2, 4]"
            ]
          },
          "metadata": {},
          "execution_count": 3
        }
      ],
      "source": [
        "# Method 1\n",
        "nums.remove(3)\n",
        "nums"
      ]
    },
    {
      "cell_type": "code",
      "execution_count": null,
      "metadata": {
        "colab": {
          "base_uri": "https://localhost:8080/"
        },
        "id": "-NaBbhuZVQ5u",
        "outputId": "f7df7303-d68c-4b77-d074-51168449040e"
      },
      "outputs": [
        {
          "output_type": "execute_result",
          "data": {
            "text/plain": [
              "[1, 2, 4]"
            ]
          },
          "metadata": {},
          "execution_count": 7
        }
      ],
      "source": [
        "# Method 2\n",
        "nums.pop(2)\n",
        "nums"
      ]
    },
    {
      "cell_type": "code",
      "execution_count": null,
      "metadata": {
        "colab": {
          "base_uri": "https://localhost:8080/"
        },
        "id": "LUopNIIfVQ5v",
        "outputId": "6d63f61a-023c-4b0f-8fbd-a469bee5418b"
      },
      "outputs": [
        {
          "output_type": "execute_result",
          "data": {
            "text/plain": [
              "[1, 2, 4]"
            ]
          },
          "metadata": {},
          "execution_count": 10
        }
      ],
      "source": [
        "# Method 3\n",
        "nums=[1,2,3,4]\n",
        "del nums[2]\n",
        "nums"
      ]
    },
    {
      "cell_type": "markdown",
      "metadata": {
        "id": "PTkhK_KYVQ5v"
      },
      "source": [
        "**`Question:` :Insert number \"1\" in 0th position**\n",
        "- lst = [2,3,4]"
      ]
    },
    {
      "cell_type": "code",
      "execution_count": null,
      "metadata": {
        "colab": {
          "base_uri": "https://localhost:8080/"
        },
        "id": "m6XrD6l4VQ5w",
        "outputId": "058ef992-403b-4ec1-a49d-4e00e0f8deb5"
      },
      "outputs": [
        {
          "output_type": "execute_result",
          "data": {
            "text/plain": [
              "[1, 2, 3, 4]"
            ]
          },
          "metadata": {},
          "execution_count": 23
        }
      ],
      "source": [
        "lst=[2,3,4]\n",
        "lst.insert(0,1)\n",
        "lst"
      ]
    },
    {
      "cell_type": "markdown",
      "metadata": {
        "id": "K7BZFOW7VQ5w"
      },
      "source": [
        "**`Question:` Insert \"two-and-half\" in 2nd position**"
      ]
    },
    {
      "cell_type": "code",
      "execution_count": null,
      "metadata": {
        "colab": {
          "base_uri": "https://localhost:8080/"
        },
        "id": "RyDbG97RVQ5w",
        "outputId": "b43715c4-a032-4d52-e812-99432fec120a"
      },
      "outputs": [
        {
          "output_type": "execute_result",
          "data": {
            "text/plain": [
              "[1, 2, 'two-and-half', 3, 4]"
            ]
          },
          "metadata": {},
          "execution_count": 24
        }
      ],
      "source": [
        "lst.insert(2,'two-and-half')\n",
        "lst"
      ]
    },
    {
      "cell_type": "markdown",
      "metadata": {
        "id": "bxKEtXY0VQ5x"
      },
      "source": [
        "**`Question:` phrase = \"Don't panic!\"**\n",
        "- **Convert above text into list**"
      ]
    },
    {
      "cell_type": "code",
      "execution_count": null,
      "metadata": {
        "colab": {
          "base_uri": "https://localhost:8080/"
        },
        "id": "fzgUlpleVQ5x",
        "outputId": "98753392-0df3-4a81-bb4e-15c4759056a7"
      },
      "outputs": [
        {
          "output_type": "execute_result",
          "data": {
            "text/plain": [
              "['D', 'o', 'n', \"'\", 't', ' ', 'p', 'a', 'n', 'i', 'c', '!']"
            ]
          },
          "metadata": {},
          "execution_count": 27
        }
      ],
      "source": [
        "# CODE HERE\n",
        "phrase = \"Don't panic!\"\n",
        "x =list(phrase)\n",
        "x"
      ]
    },
    {
      "cell_type": "markdown",
      "metadata": {
        "id": "jK1ibaQxVQ5y"
      },
      "source": [
        "*convert into list*"
      ]
    },
    {
      "cell_type": "markdown",
      "metadata": {
        "id": "kMQ1J29iVQ5y"
      },
      "source": [
        "`Question:` Remove ** '** and **!** in the list"
      ]
    },
    {
      "cell_type": "code",
      "execution_count": null,
      "metadata": {
        "colab": {
          "base_uri": "https://localhost:8080/"
        },
        "id": "wY2Kw2KHVQ5z",
        "outputId": "bd28039b-5e69-4b1a-bf4a-fdfc985032ce"
      },
      "outputs": [
        {
          "output_type": "execute_result",
          "data": {
            "text/plain": [
              "['D', 'o', 'n', 't', ' ', 'p', 'a', 'n', 'i', 'c']"
            ]
          },
          "metadata": {},
          "execution_count": 28
        }
      ],
      "source": [
        "x.remove(\"'\")\n",
        "x.remove(\"!\")\n",
        "x"
      ]
    },
    {
      "cell_type": "markdown",
      "metadata": {
        "id": "aKHWxP5iVQ5z"
      },
      "source": [
        "**`Question:` Remove \"p\" , \"a\", \"n\",\"D\" and extend at the last**"
      ]
    },
    {
      "cell_type": "code",
      "execution_count": null,
      "metadata": {
        "colab": {
          "base_uri": "https://localhost:8080/"
        },
        "id": "xMvPZKWqVQ5z",
        "outputId": "b4592937-6eeb-4233-a1a1-6fcf914316ed"
      },
      "outputs": [
        {
          "output_type": "execute_result",
          "data": {
            "text/plain": [
              "['o', 't', ' ', 'n', 'i', 'c', 'p', 'a', 'n', 'D']"
            ]
          },
          "metadata": {},
          "execution_count": 30
        }
      ],
      "source": [
        "# CODE HERE\n",
        "x.remove(\"p\")\n",
        "x.remove(\"a\")\n",
        "x.remove(\"n\")\n",
        "x.remove(\"D\")\n",
        "x.extend(\"panD\")\n",
        "print(x)\n",
        "\n",
        "[i for i in x if i not in [\"p\",\"a\",\"n\",\"D\"]]"
      ]
    },
    {
      "cell_type": "markdown",
      "metadata": {
        "id": "UXGmTKNAVQ50"
      },
      "source": [
        "**`Question:` Join the given list ['p', 'a', 'n', 'D', 'a']**"
      ]
    },
    {
      "cell_type": "code",
      "execution_count": null,
      "metadata": {
        "id": "haAo6xwrVQ50"
      },
      "outputs": [],
      "source": [
        "# CODE HERE"
      ]
    },
    {
      "cell_type": "code",
      "execution_count": null,
      "metadata": {
        "colab": {
          "base_uri": "https://localhost:8080/",
          "height": 35
        },
        "id": "fbu6emk_VQ51",
        "outputId": "ab8d9ebf-0fae-4b31-d2b7-01e5394bf4ec"
      },
      "outputs": [
        {
          "output_type": "execute_result",
          "data": {
            "text/plain": [
              "'panDa'"
            ],
            "application/vnd.google.colaboratory.intrinsic+json": {
              "type": "string"
            }
          },
          "metadata": {},
          "execution_count": 31
        }
      ],
      "source": [
        "l = ['p', 'a', 'n', 'D', 'a']\n",
        "\"\".join(l)"
      ]
    },
    {
      "cell_type": "markdown",
      "metadata": {
        "id": "Hc_AoRcrVQ51"
      },
      "source": [
        "###  Tuples"
      ]
    },
    {
      "cell_type": "markdown",
      "metadata": {
        "id": "BiA4VCUiVQ51"
      },
      "source": [
        "**`Question:` Create a tuples for numbers 31,24,35,85 as nums**"
      ]
    },
    {
      "cell_type": "code",
      "execution_count": null,
      "metadata": {
        "id": "YQNV9XITVQ52"
      },
      "outputs": [],
      "source": [
        "# CODE HERE"
      ]
    },
    {
      "cell_type": "code",
      "execution_count": null,
      "metadata": {
        "colab": {
          "base_uri": "https://localhost:8080/"
        },
        "id": "ErF1OC5BVQ52",
        "outputId": "e47c003e-f528-490d-ed82-6f53c6b38de6"
      },
      "outputs": [
        {
          "output_type": "stream",
          "name": "stdout",
          "text": [
            "<class 'tuple'> (31, 24, 35, 85)\n"
          ]
        }
      ],
      "source": [
        "t =(31,24,35,85)\n",
        "print(type(t),t)"
      ]
    },
    {
      "cell_type": "markdown",
      "metadata": {
        "id": "VNz4G1gwVQ52"
      },
      "source": [
        "**`Question:` Remove number \"35\" in a tuple**\n",
        "\n",
        "*Hint:* Convert into list"
      ]
    },
    {
      "cell_type": "code",
      "execution_count": null,
      "metadata": {
        "colab": {
          "base_uri": "https://localhost:8080/"
        },
        "id": "PnHlvllSVQ53",
        "outputId": "848736f2-1d9c-4b11-d377-2a4895b46523"
      },
      "outputs": [
        {
          "output_type": "execute_result",
          "data": {
            "text/plain": [
              "(31, 24, 85)"
            ]
          },
          "metadata": {},
          "execution_count": 35
        }
      ],
      "source": [
        "# CODE HERE\n",
        "i = list(t)\n",
        "i.remove(35)\n",
        "t = tuple(i)\n",
        "t"
      ]
    },
    {
      "cell_type": "markdown",
      "metadata": {
        "id": "BB18l_nyVQ53"
      },
      "source": [
        "**Extent** tuple (85,19)"
      ]
    },
    {
      "cell_type": "code",
      "execution_count": null,
      "metadata": {
        "id": "cP23IUArVQ53"
      },
      "outputs": [],
      "source": [
        "# CODE HERE"
      ]
    },
    {
      "cell_type": "code",
      "execution_count": null,
      "metadata": {
        "colab": {
          "base_uri": "https://localhost:8080/"
        },
        "id": "VJdHzOLEVQ54",
        "outputId": "47cb3967-7938-4923-e1f3-253b06a82766"
      },
      "outputs": [
        {
          "output_type": "execute_result",
          "data": {
            "text/plain": [
              "(31, 24, 85, 85, 19)"
            ]
          },
          "metadata": {},
          "execution_count": 36
        }
      ],
      "source": [
        "\n",
        "l= list(t)\n",
        "l.extend([85,19])\n",
        "t=tuple(l)\n",
        "t"
      ]
    },
    {
      "cell_type": "markdown",
      "metadata": {
        "id": "91CgL49OVQ54"
      },
      "source": [
        "**`Question:` Write code to check whether an element ('i') exists within a tuple.**\n",
        "- tpl = ('i','n''n','0')"
      ]
    },
    {
      "cell_type": "code",
      "execution_count": null,
      "metadata": {
        "colab": {
          "base_uri": "https://localhost:8080/"
        },
        "id": "9lFI1A4uVQ54",
        "outputId": "52b5af60-84f7-46f6-84f8-93ab8ca21720"
      },
      "outputs": [
        {
          "output_type": "execute_result",
          "data": {
            "text/plain": [
              "True"
            ]
          },
          "metadata": {},
          "execution_count": 37
        }
      ],
      "source": [
        "# CODE HERE\n",
        "tpl=('i','n','n','o')\n",
        "x = \"i\" in tpl\n",
        "x"
      ]
    },
    {
      "cell_type": "markdown",
      "metadata": {
        "id": "dF3V2EYQVQ56"
      },
      "source": [
        "**`Question:` Write a python code to replace/insert the value**\n",
        "- list = ['Hello',100,[],'innomatics']"
      ]
    },
    {
      "cell_type": "code",
      "execution_count": null,
      "metadata": {
        "colab": {
          "base_uri": "https://localhost:8080/"
        },
        "id": "jP3pvegwVQ56",
        "outputId": "a351e06b-1b8c-4090-8b5a-6f0674a8e807"
      },
      "outputs": [
        {
          "output_type": "execute_result",
          "data": {
            "text/plain": [
              "['Hello', 100, [200], 'innomatics']"
            ]
          },
          "metadata": {},
          "execution_count": 41
        }
      ],
      "source": [
        "# CODE HERE\n",
        "list1 = ['Hello',100,[],'innomatics']\n",
        "list1[2].insert(0,200)\n",
        "list1"
      ]
    },
    {
      "cell_type": "markdown",
      "metadata": {
        "id": "y2E0o4-NVQ57"
      },
      "source": [
        "**`Question:` Write a Python program to reverse a tuple.**"
      ]
    },
    {
      "cell_type": "code",
      "execution_count": null,
      "metadata": {
        "id": "4a1ACJRsVQ57"
      },
      "outputs": [],
      "source": [
        "# CODE HERE\n",
        "tpl = (\"Innomatics\")"
      ]
    },
    {
      "cell_type": "code",
      "execution_count": null,
      "metadata": {
        "colab": {
          "base_uri": "https://localhost:8080/"
        },
        "id": "kC2zY01nVQ58",
        "outputId": "3f19ce00-f8f2-4232-dc30-4cc154413105"
      },
      "outputs": [
        {
          "output_type": "execute_result",
          "data": {
            "text/plain": [
              "('s', 'c', 'i', 't', 'a', 'm', 'o', 'n', 'n', 'I')"
            ]
          },
          "metadata": {},
          "execution_count": 47
        }
      ],
      "source": [
        "list1 = list(tpl)\n",
        "l = list1[::-1]\n",
        "tuple(l)"
      ]
    },
    {
      "cell_type": "code",
      "execution_count": null,
      "metadata": {
        "colab": {
          "base_uri": "https://localhost:8080/"
        },
        "id": "JHJlf3S7VQ58",
        "outputId": "d683e9e1-3a9c-4b2b-b087-5e13ed92398e"
      },
      "outputs": [
        {
          "output_type": "execute_result",
          "data": {
            "text/plain": [
              "(1, 2, 3, 4)"
            ]
          },
          "metadata": {},
          "execution_count": 48
        }
      ],
      "source": [
        "tpl = (1,2,3)+(4,)\n",
        "tpl"
      ]
    },
    {
      "cell_type": "markdown",
      "metadata": {
        "id": "lD7lnKMrVQ58"
      },
      "source": [
        "**`Question:` Write a Python program to add one more value at last postion of tuples in a list**\n",
        "- tpl = [(10, 20, 40), (40, 50, 60), (70, 80, 90)]\n",
        "- `hint- use for loop`"
      ]
    },
    {
      "cell_type": "code",
      "execution_count": null,
      "metadata": {
        "colab": {
          "base_uri": "https://localhost:8080/"
        },
        "id": "CXIaY9knVQ59",
        "outputId": "bfe87b87-12cd-4446-e208-bd6c23b205d7"
      },
      "outputs": [
        {
          "output_type": "execute_result",
          "data": {
            "text/plain": [
              "[(10, 20, 40, 100), (40, 50, 60, 100), (70, 80, 90, 100)]"
            ]
          },
          "metadata": {},
          "execution_count": 60
        }
      ],
      "source": [
        "# CODE HERE\n",
        "tpl = [(10, 20, 40), (40, 50, 60), (70, 80, 90)]\n",
        "t=[]\n",
        "for i in tpl:\n",
        "    x=i+(100,)\n",
        "    t.append(x)\n",
        "t"
      ]
    },
    {
      "cell_type": "markdown",
      "metadata": {
        "id": "EBG4lyG_VQ59"
      },
      "source": [
        "**`Question:` Write a Python program to replace last value of tuples in a list**\n",
        "- tpl = [(10, 20, 40), (40, 50, 60), (70, 80, 90)]\n",
        "- `hint- use for loop`"
      ]
    },
    {
      "cell_type": "code",
      "execution_count": null,
      "metadata": {
        "id": "xk6NByz7VQ5-"
      },
      "outputs": [],
      "source": [
        "# CODE HERE\n",
        "tpl = [(10, 20, 40), (40, 50, 60), (70, 80, 90)]"
      ]
    },
    {
      "cell_type": "code",
      "source": [
        "\n",
        "tpl = [(10, 20, 40), (40, 50, 60), (70, 80, 90)]\n",
        "new_tpl = []\n",
        "for i in tpl:\n",
        "    x = i[:-1] + (100,)\n",
        "    new_tpl.append(x)\n",
        "new_tpl"
      ],
      "metadata": {
        "colab": {
          "base_uri": "https://localhost:8080/"
        },
        "id": "mOOBI8qbleFg",
        "outputId": "927d0b91-d52e-4a2b-d334-4c2be4ffe2c4"
      },
      "execution_count": null,
      "outputs": [
        {
          "output_type": "execute_result",
          "data": {
            "text/plain": [
              "[(10, 20, 100), (40, 50, 100), (70, 80, 100)]"
            ]
          },
          "metadata": {},
          "execution_count": 65
        }
      ]
    },
    {
      "cell_type": "markdown",
      "metadata": {
        "id": "R_CER0BvVQ5-"
      },
      "source": [
        "### `Question:` If the following string is given as input to the program:\n",
        "\n",
        "- '5 2 3 6 6 5'\n",
        "\n",
        "#### FInd the secong higest value from that"
      ]
    },
    {
      "cell_type": "code",
      "execution_count": 99,
      "metadata": {
        "id": "sWYUMjmwVQ5_",
        "outputId": "e055ac0f-7262-4b4f-ec45-2e5b316cf628",
        "colab": {
          "base_uri": "https://localhost:8080/"
        }
      },
      "outputs": [
        {
          "output_type": "stream",
          "name": "stdout",
          "text": [
            "5\n"
          ]
        }
      ],
      "source": [
        "# CODE HERE\n",
        "j ='5 2 3 6 6 5'\n",
        "x = set(j.split())\n",
        "y =list(x)\n",
        "y.sort()\n",
        "print(y[-2])"
      ]
    },
    {
      "cell_type": "markdown",
      "metadata": {
        "id": "5YkRBcTmVQ5_"
      },
      "source": [
        "### `Question:` By using list comprehension, please write a program to print the list after removing the 0th,4th,5th numbers in [12,24,35,70,88,120,155]."
      ]
    },
    {
      "cell_type": "code",
      "execution_count": 101,
      "metadata": {
        "id": "n0JhRAkRVQ5_",
        "outputId": "2a0f492c-19e0-46ba-f421-801bbcb51dc4",
        "colab": {
          "base_uri": "https://localhost:8080/"
        }
      },
      "outputs": [
        {
          "output_type": "execute_result",
          "data": {
            "text/plain": [
              "[24, 35, 70, 155]"
            ]
          },
          "metadata": {},
          "execution_count": 101
        }
      ],
      "source": [
        "# CODE HERE\n",
        "l=[12,24,35,70,88,120,155]\n",
        "x =[l[i] for i in range(len(l)) if i not in (0,4,5)]\n",
        "x"
      ]
    },
    {
      "cell_type": "markdown",
      "metadata": {
        "id": "i3qjmDKTVQ6A"
      },
      "source": [
        "### `Question:` With a given tuple (1,2,3,4,5,6,7,8,9,10), write a program to print the first half values in one line and the last half values in one line."
      ]
    },
    {
      "cell_type": "code",
      "source": [
        "t=(1,2,3,4,5,6,7,8,9,10)\n",
        "x =tuple(t[:5])\n",
        "y = tuple(t[5:])\n",
        "print(x,y)"
      ],
      "metadata": {
        "colab": {
          "base_uri": "https://localhost:8080/"
        },
        "id": "mPMlHAq8ASnV",
        "outputId": "4ac10129-b6ec-40a9-d00c-19e1a8e4c6e1"
      },
      "execution_count": 104,
      "outputs": [
        {
          "output_type": "stream",
          "name": "stdout",
          "text": [
            "(1, 2, 3, 4, 5) (6, 7, 8, 9, 10)\n"
          ]
        }
      ]
    },
    {
      "cell_type": "markdown",
      "metadata": {
        "id": "VPrzvv_hVQ6A"
      },
      "source": [
        "### `Question:` Write a program to generate and print another tuple whose values are even numbers in the given tuple (1,2,3,4,5,6,7,8,9,10)"
      ]
    },
    {
      "cell_type": "code",
      "execution_count": 106,
      "metadata": {
        "id": "hnmJARX7VQ6B",
        "outputId": "d9332b58-c037-44bf-fba4-455fc93935ac",
        "colab": {
          "base_uri": "https://localhost:8080/"
        }
      },
      "outputs": [
        {
          "output_type": "execute_result",
          "data": {
            "text/plain": [
              "(2, 4, 6, 8, 10)"
            ]
          },
          "metadata": {},
          "execution_count": 106
        }
      ],
      "source": [
        "x=[i for i in range(1,11) if i%2==0]\n",
        "t=tuple(x)\n",
        "t"
      ]
    },
    {
      "cell_type": "code",
      "execution_count": null,
      "metadata": {
        "id": "0yH1AWiIVQ6B"
      },
      "outputs": [],
      "source": []
    },
    {
      "cell_type": "markdown",
      "metadata": {
        "id": "fGRxKuLHVQ6B"
      },
      "source": [
        "# `Descriptive Questions`"
      ]
    },
    {
      "cell_type": "markdown",
      "metadata": {
        "id": "QHiSNsdjVQ6C"
      },
      "source": [
        "### 1. Explain the difference between list and tuple?"
      ]
    },
    {
      "cell_type": "code",
      "execution_count": null,
      "metadata": {
        "id": "eoVW_ztbVQ6C"
      },
      "outputs": [],
      "source": [
        "# Solution\n"
      ]
    },
    {
      "cell_type": "markdown",
      "source": [
        "list is mutable where as tuples are not so that methods that are use to append,remove are not available"
      ],
      "metadata": {
        "id": "B78SwSxuDpA_"
      }
    },
    {
      "cell_type": "markdown",
      "metadata": {
        "id": "uCqNTq--VQ6C"
      },
      "source": [
        "### 2. Explain the difference between append() and extend() with examples"
      ]
    },
    {
      "cell_type": "code",
      "execution_count": null,
      "metadata": {
        "id": "ygSw89neVQ6C"
      },
      "outputs": [],
      "source": [
        "# Solution\n"
      ]
    },
    {
      "cell_type": "markdown",
      "source": [
        "##append()\n",
        "- Adds the entire object (whether a string, list, number, etc.) as a single element to the end of the list.\n",
        "- Treats the object as a whole and adds it as-is.\n",
        "##extend()\n",
        "- Iterates over the input (like a string, list, or other iterable) and adds each element individually to the list.\n",
        "- Breaks down the iterable into its individual elements and adds them.\n"
      ],
      "metadata": {
        "id": "6vY0tz52Ecl6"
      }
    },
    {
      "cell_type": "code",
      "source": [
        "l=[1,2,3]\n",
        "l.append([4,5,'apple']) # aapend add single elements to the end of list\n",
        "l"
      ],
      "metadata": {
        "colab": {
          "base_uri": "https://localhost:8080/"
        },
        "id": "W1uGC1LEJ4kw",
        "outputId": "16d1b022-0a7f-4748-e82d-672d603b1de1"
      },
      "execution_count": 116,
      "outputs": [
        {
          "output_type": "execute_result",
          "data": {
            "text/plain": [
              "[1, 2, 3, [4, 5, 'apple']]"
            ]
          },
          "metadata": {},
          "execution_count": 116
        }
      ]
    },
    {
      "cell_type": "code",
      "source": [
        "l=[1,2,3]\n",
        "l.extend(['apple',2,3,4]) # adds multiple elements to same list without creating any additional inner list\n",
        "l"
      ],
      "metadata": {
        "colab": {
          "base_uri": "https://localhost:8080/"
        },
        "id": "7PU8DQSEK6Rn",
        "outputId": "732a6736-beea-46b6-9ff6-55783e33aa16"
      },
      "execution_count": 117,
      "outputs": [
        {
          "output_type": "execute_result",
          "data": {
            "text/plain": [
              "[1, 2, 3, 'apple', 2, 3, 4]"
            ]
          },
          "metadata": {},
          "execution_count": 117
        }
      ]
    },
    {
      "cell_type": "markdown",
      "metadata": {
        "id": "j8VWDyjPVQ6D"
      },
      "source": [
        "### 3. Explain the difference between pop() and remove() with examples"
      ]
    },
    {
      "cell_type": "markdown",
      "source": [
        "## pop()\n",
        "pop and remove removes single element from list but where as pop requires index of element as input to remove\n",
        "## remove()\n",
        "remove method remove single elemnt form list and it requires index of specific element that need to remove\n"
      ],
      "metadata": {
        "id": "MClpogPdHP0p"
      }
    },
    {
      "cell_type": "code",
      "source": [
        "nums =[1,2,3,4] # removing 3 form list using remove\n",
        "nums.remove(3)# 3 is the element  that need to remove\n",
        "nums"
      ],
      "metadata": {
        "colab": {
          "base_uri": "https://localhost:8080/"
        },
        "id": "AIipywVqITGU",
        "outputId": "295451f9-9182-4872-c968-96afa693291c"
      },
      "execution_count": 109,
      "outputs": [
        {
          "output_type": "execute_result",
          "data": {
            "text/plain": [
              "[1, 2, 4]"
            ]
          },
          "metadata": {},
          "execution_count": 109
        }
      ]
    },
    {
      "cell_type": "code",
      "source": [
        "nums =[1,2,3,4] #removing 3 from list using pop\n",
        "nums.pop(2)# here the index of element 3 which is 2 is given\n",
        "nums"
      ],
      "metadata": {
        "colab": {
          "base_uri": "https://localhost:8080/"
        },
        "id": "6byOIdFdJV42",
        "outputId": "23897a4e-037f-43e4-ceca-c87f6a286da6"
      },
      "execution_count": 110,
      "outputs": [
        {
          "output_type": "execute_result",
          "data": {
            "text/plain": [
              "[1, 2, 4]"
            ]
          },
          "metadata": {},
          "execution_count": 110
        }
      ]
    },
    {
      "cell_type": "markdown",
      "metadata": {
        "id": "-N--7CvOVQ6D"
      },
      "source": [
        "# [Innomatics Research Labs](https:/innomatics.in/)\n",
        "[www.innomatics.in](https:/innomatics.in/)"
      ]
    },
    {
      "cell_type": "code",
      "execution_count": 85,
      "metadata": {
        "id": "u_eKevPDVQ6E",
        "colab": {
          "base_uri": "https://localhost:8080/"
        },
        "outputId": "91c26297-90d2-40d8-ca23-4284094e585f"
      },
      "outputs": [
        {
          "output_type": "execute_result",
          "data": {
            "text/plain": [
              "['__add__',\n",
              " '__class__',\n",
              " '__contains__',\n",
              " '__delattr__',\n",
              " '__dir__',\n",
              " '__doc__',\n",
              " '__eq__',\n",
              " '__format__',\n",
              " '__ge__',\n",
              " '__getattribute__',\n",
              " '__getitem__',\n",
              " '__getnewargs__',\n",
              " '__gt__',\n",
              " '__hash__',\n",
              " '__init__',\n",
              " '__init_subclass__',\n",
              " '__iter__',\n",
              " '__le__',\n",
              " '__len__',\n",
              " '__lt__',\n",
              " '__mod__',\n",
              " '__mul__',\n",
              " '__ne__',\n",
              " '__new__',\n",
              " '__reduce__',\n",
              " '__reduce_ex__',\n",
              " '__repr__',\n",
              " '__rmod__',\n",
              " '__rmul__',\n",
              " '__setattr__',\n",
              " '__sizeof__',\n",
              " '__str__',\n",
              " '__subclasshook__',\n",
              " 'capitalize',\n",
              " 'casefold',\n",
              " 'center',\n",
              " 'count',\n",
              " 'encode',\n",
              " 'endswith',\n",
              " 'expandtabs',\n",
              " 'find',\n",
              " 'format',\n",
              " 'format_map',\n",
              " 'index',\n",
              " 'isalnum',\n",
              " 'isalpha',\n",
              " 'isascii',\n",
              " 'isdecimal',\n",
              " 'isdigit',\n",
              " 'isidentifier',\n",
              " 'islower',\n",
              " 'isnumeric',\n",
              " 'isprintable',\n",
              " 'isspace',\n",
              " 'istitle',\n",
              " 'isupper',\n",
              " 'join',\n",
              " 'ljust',\n",
              " 'lower',\n",
              " 'lstrip',\n",
              " 'maketrans',\n",
              " 'partition',\n",
              " 'removeprefix',\n",
              " 'removesuffix',\n",
              " 'replace',\n",
              " 'rfind',\n",
              " 'rindex',\n",
              " 'rjust',\n",
              " 'rpartition',\n",
              " 'rsplit',\n",
              " 'rstrip',\n",
              " 'split',\n",
              " 'splitlines',\n",
              " 'startswith',\n",
              " 'strip',\n",
              " 'swapcase',\n",
              " 'title',\n",
              " 'translate',\n",
              " 'upper',\n",
              " 'zfill']"
            ]
          },
          "metadata": {},
          "execution_count": 85
        }
      ],
      "source": [
        "dir(str)"
      ]
    }
  ],
  "metadata": {
    "kernelspec": {
      "display_name": "Python 3",
      "language": "python",
      "name": "python3"
    },
    "language_info": {
      "codemirror_mode": {
        "name": "ipython",
        "version": 3
      },
      "file_extension": ".py",
      "mimetype": "text/x-python",
      "name": "python",
      "nbconvert_exporter": "python",
      "pygments_lexer": "ipython3",
      "version": "3.8.5"
    },
    "colab": {
      "provenance": [],
      "include_colab_link": true
    }
  },
  "nbformat": 4,
  "nbformat_minor": 0
}