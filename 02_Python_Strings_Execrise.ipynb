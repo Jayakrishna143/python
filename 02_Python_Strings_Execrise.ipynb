{
  "cells": [
    {
      "cell_type": "markdown",
      "metadata": {
        "id": "view-in-github",
        "colab_type": "text"
      },
      "source": [
        "<a href=\"https://colab.research.google.com/github/Jayakrishna143/python/blob/main/02_Python_Strings_Execrise.ipynb\" target=\"_parent\"><img src=\"https://colab.research.google.com/assets/colab-badge.svg\" alt=\"Open In Colab\"/></a>"
      ]
    },
    {
      "cell_type": "markdown",
      "metadata": {
        "id": "CBnMUsp3VG_r"
      },
      "source": [
        "# Assignment Instructions\n",
        "\n",
        "`Hello Innominion,`\n",
        "\n",
        "- **Try to attempt all the questions in every possible way.**\n",
        "- **Some other topics are required to solve some questions. don't panic.**\n",
        "- **Those questions can be answered after the topics are taught.**\n",
        "\n",
        "\n",
        "- `Join Mentoring Session for the Support/Doubts Resolving with Our Technical Mentors (2.00 PM - 6.00 PM  Mon-Sat)`\n",
        "\n",
        "Happy Learning !!!"
      ]
    },
    {
      "cell_type": "code",
      "execution_count": null,
      "metadata": {
        "id": "uY2vo8ffVG_v"
      },
      "outputs": [],
      "source": []
    },
    {
      "cell_type": "markdown",
      "metadata": {
        "id": "kKICk-mlVG_w"
      },
      "source": [
        "# Strings - Execrise"
      ]
    },
    {
      "cell_type": "code",
      "execution_count": null,
      "metadata": {
        "id": "owdblvLPVG_x"
      },
      "outputs": [],
      "source": [
        "text = \"\"\"The University of Hawaii began using radio to send digital information as early as 1971,using ALOHAnet.\n",
        "Friedhelm Hillebrand conceptualised SMS in 1984 while working for Deutsche Telekom. Sitting at a typewriter at home,\n",
        "Hillebrand typed out random sentences and counted every letter, number, punctuation, and space.\n",
        "Almost every time, the messages contained fewer than 160 characters, thus giving the basis for the\n",
        "limit one could type via text messaging. With Bernard Ghillebaert of France Télécom, he developed\n",
        "a proposal for the GSM (Groupe Spécial Mobile) meeting in February 1985 in Oslo.\n",
        "The first technical solution evolved in a GSM subgroup under the leadership of Finn Trosby.\n",
        "It was further developed under the leadership of Kevin Holley and Ian Harris (see Short Message Service).\n",
        "SMS forms an integral part of SS7 (Signalling System No. 7). Under SS7, it is a \"state\" with a 160 character data,\n",
        "coded in the ITU-T \"T.56\" text format, that has a \"sequence lead in\" to determine different language codes,\n",
        "and may have special character codes that permits, for example, sending simple graphs as text.\n",
        "This was part of ISDN (Integrated Services Digital Network) and since GSM is based on this,\n",
        "made its way to the mobile phone. Messages could be sent and received on ISDN phones,\n",
        "and these can send SMS to any GSM phone. The possibility of doing something is one thing,\n",
        "implementing it another, but systems existed from 1988 that sent SMS messages to mobile phones (compare ND-NOTIS).\"\"\""
      ]
    },
    {
      "cell_type": "markdown",
      "metadata": {
        "id": "nCAFTFc5VG_z"
      },
      "source": [
        ">  `Question:` How many characters in text"
      ]
    },
    {
      "cell_type": "code",
      "execution_count": null,
      "metadata": {
        "colab": {
          "base_uri": "https://localhost:8080/"
        },
        "id": "3nTidQSyVG_0",
        "outputId": "7f958320-283c-4f78-967b-a81fe0bc4068"
      },
      "outputs": [
        {
          "output_type": "execute_result",
          "data": {
            "text/plain": [
              "1493"
            ]
          },
          "metadata": {},
          "execution_count": 16
        }
      ],
      "source": [
        "# CODE HERE\n",
        "len(text)"
      ]
    },
    {
      "cell_type": "markdown",
      "metadata": {
        "id": "fzP2I-3-VG_3"
      },
      "source": [
        ">  `Question:` How many words are there in the \"text\""
      ]
    },
    {
      "cell_type": "code",
      "execution_count": null,
      "metadata": {
        "colab": {
          "base_uri": "https://localhost:8080/"
        },
        "id": "AUWYNfuoVG_4",
        "outputId": "be8baccf-148a-4e3e-ea7b-6f8f4b569f7b"
      },
      "outputs": [
        {
          "output_type": "stream",
          "name": "stdout",
          "text": [
            "230\n"
          ]
        }
      ],
      "source": [
        "# CODE HERE\n",
        "num_words = 1\n",
        "for char in text:\n",
        "    if char == \" \":\n",
        "        num_words += 1\n",
        "print(num_words)"
      ]
    },
    {
      "cell_type": "markdown",
      "metadata": {
        "id": "w6MKxHKXVG_6"
      },
      "source": [
        ">  `Question:` How many unique words in the \"text\""
      ]
    },
    {
      "cell_type": "code",
      "execution_count": null,
      "metadata": {
        "id": "D1UIkff6VG_6"
      },
      "outputs": [],
      "source": [
        "# CODE HERE"
      ]
    },
    {
      "cell_type": "code",
      "execution_count": null,
      "metadata": {
        "colab": {
          "base_uri": "https://localhost:8080/"
        },
        "id": "E_N040YcVG_7",
        "outputId": "edcb6deb-b9cf-4b9a-d290-469b440c7ee6"
      },
      "outputs": [
        {
          "output_type": "stream",
          "name": "stdout",
          "text": [
            "168\n"
          ]
        }
      ],
      "source": [
        "words = text.lower()\n",
        "words_tuple = words.split()\n",
        "unique_words = set(words_tuple)\n",
        "print(len(unique_words))"
      ]
    },
    {
      "cell_type": "markdown",
      "metadata": {
        "id": "XDvXZjFvVG_7"
      },
      "source": [
        ">  `Question:` Find Lexical diversity\n",
        "\n",
        "lexical_diversity = (number of words)/(number of unique words)"
      ]
    },
    {
      "cell_type": "code",
      "source": [
        "lexical_diversity = (len(words))/(len(unique_words))\n",
        "print(lexical_diversity)"
      ],
      "metadata": {
        "colab": {
          "base_uri": "https://localhost:8080/"
        },
        "id": "-asDZ4SgXWun",
        "outputId": "d06414de-07fe-466f-b632-24acf45e5726"
      },
      "execution_count": null,
      "outputs": [
        {
          "output_type": "stream",
          "name": "stdout",
          "text": [
            "8.886904761904763\n"
          ]
        }
      ]
    },
    {
      "cell_type": "markdown",
      "metadata": {
        "id": "cEZJp6DuVG_8"
      },
      "source": [
        ">  `Question:` Count how many \"the\" in text"
      ]
    },
    {
      "cell_type": "code",
      "execution_count": null,
      "metadata": {
        "colab": {
          "base_uri": "https://localhost:8080/"
        },
        "id": "rDpJ5XjHVG_8",
        "outputId": "358ddbad-c4ca-44d8-8b70-f0f2fd7b658c"
      },
      "outputs": [
        {
          "output_type": "execute_result",
          "data": {
            "text/plain": [
              "14"
            ]
          },
          "metadata": {},
          "execution_count": 21
        }
      ],
      "source": [
        "# CODE HERE\n",
        "words = text.lower()\n",
        "words.count( 'the')"
      ]
    },
    {
      "cell_type": "markdown",
      "metadata": {
        "id": "YCsEoAZ7VG_9"
      },
      "source": [
        ">  `Question:` Count how many \"a\" in text"
      ]
    },
    {
      "cell_type": "code",
      "source": [
        "words = text.lower()\n",
        "words.count( 'a')"
      ],
      "metadata": {
        "colab": {
          "base_uri": "https://localhost:8080/"
        },
        "id": "ONe2122ZYuyJ",
        "outputId": "78118316-30c9-447a-d88d-e58b8dbec55c"
      },
      "execution_count": null,
      "outputs": [
        {
          "output_type": "execute_result",
          "data": {
            "text/plain": [
              "92"
            ]
          },
          "metadata": {},
          "execution_count": 22
        }
      ]
    },
    {
      "cell_type": "markdown",
      "metadata": {
        "id": "8NHmdySJVG_-"
      },
      "source": [
        ">  `Question:` Extract First 10 words in text"
      ]
    },
    {
      "cell_type": "code",
      "execution_count": null,
      "metadata": {
        "colab": {
          "base_uri": "https://localhost:8080/"
        },
        "id": "D2Z4X1-YVG_-",
        "outputId": "ec1885e4-2889-4be5-ec3f-8ad5a2722f4d"
      },
      "outputs": [
        {
          "output_type": "stream",
          "name": "stdout",
          "text": [
            "The University of Hawaii began using radio to send digital\n"
          ]
        }
      ],
      "source": [
        "# CODE HERE\n",
        "tl = list(text.split())\n",
        "t2 = tl[:10]\n",
        "print(\" \".join(t2))"
      ]
    },
    {
      "cell_type": "markdown",
      "metadata": {
        "id": "6_eUOnEEVG__"
      },
      "source": [
        ">  `Question:` Append \" Innomatics Reseach Labs\" after first 10 words in the text"
      ]
    },
    {
      "cell_type": "code",
      "execution_count": null,
      "metadata": {
        "colab": {
          "base_uri": "https://localhost:8080/"
        },
        "id": "gPruqNNJVG__",
        "outputId": "5a1e490d-b3e8-4102-d900-390fd8eb2eed"
      },
      "outputs": [
        {
          "output_type": "stream",
          "name": "stdout",
          "text": [
            "The University of Hawaii began using radio to send digital Innomatics Reseach Labs\n"
          ]
        }
      ],
      "source": [
        "# CODE HERE\n",
        "t2.append(\"Innomatics Reseach Labs\")\n",
        "print(\" \".join(t2))"
      ]
    },
    {
      "cell_type": "markdown",
      "metadata": {
        "id": "ax0pUo41VG__"
      },
      "source": [
        ">  `Question:` Extract First Fourteen (14) character in text"
      ]
    },
    {
      "cell_type": "code",
      "execution_count": null,
      "metadata": {
        "colab": {
          "base_uri": "https://localhost:8080/",
          "height": 35
        },
        "id": "OWeFCj-ZVHAA",
        "outputId": "7314f08f-84c7-4c54-feb4-e3b4974407fc"
      },
      "outputs": [
        {
          "output_type": "execute_result",
          "data": {
            "text/plain": [
              "'The University'"
            ],
            "application/vnd.google.colaboratory.intrinsic+json": {
              "type": "string"
            }
          },
          "metadata": {},
          "execution_count": 25
        }
      ],
      "source": [
        "# CODE HERE\n",
        "text[0:14]"
      ]
    },
    {
      "cell_type": "markdown",
      "metadata": {
        "id": "7zpCEe8uVHAA"
      },
      "source": [
        ">  `Question:` Extract first Fourteen (14) words in text"
      ]
    },
    {
      "cell_type": "code",
      "execution_count": null,
      "metadata": {
        "colab": {
          "base_uri": "https://localhost:8080/"
        },
        "id": "xxJWwdWwVHAB",
        "outputId": "f2249e5a-f00d-4b94-c967-8c432ac33e1c"
      },
      "outputs": [
        {
          "output_type": "stream",
          "name": "stdout",
          "text": [
            "The University of Hawaii began using radio to send digital information as early as\n"
          ]
        }
      ],
      "source": [
        "# CODE HERE\n",
        "t1 = text.split()\n",
        "t2 = t1[:14]\n",
        "print(\" \".join(t2))"
      ]
    },
    {
      "cell_type": "markdown",
      "metadata": {
        "id": "Kg4MHcP5VHAC"
      },
      "source": [
        ">  `Question:` Extract First 10 words in text\n",
        "- Convert every letter into ***upper*** case\n",
        "- Convert every letter into ***lower*** case"
      ]
    },
    {
      "cell_type": "code",
      "execution_count": null,
      "metadata": {
        "colab": {
          "base_uri": "https://localhost:8080/"
        },
        "id": "20DnFlsVVHAC",
        "outputId": "87eb8e78-8b70-4c1a-989c-f05b89d5b1e3"
      },
      "outputs": [
        {
          "output_type": "stream",
          "name": "stdout",
          "text": [
            "THE UNIVERSITY OF HAWAII BEGAN USING RADIO TO SEND DIGITAL\n"
          ]
        }
      ],
      "source": [
        "# CODE HERE\n",
        "t1 = text.split()\n",
        "t2 = t1[:10]\n",
        "t3 =\" \".join(t2)\n",
        "print(t3.upper())\n"
      ]
    },
    {
      "cell_type": "code",
      "execution_count": null,
      "metadata": {
        "colab": {
          "base_uri": "https://localhost:8080/"
        },
        "id": "h6GnV7e2VHAD",
        "outputId": "c0aaa113-a73b-4595-ee2a-8e420eefb424"
      },
      "outputs": [
        {
          "output_type": "stream",
          "name": "stdout",
          "text": [
            "the university of hawaii began using radio to send digital\n"
          ]
        }
      ],
      "source": [
        "# CODE HERE\n",
        "# CODE HERE\n",
        "t1 = text.split()\n",
        "t2 = t1[:10]\n",
        "t3 =\" \".join(t2)\n",
        "print(t3.lower())"
      ]
    },
    {
      "cell_type": "markdown",
      "metadata": {
        "id": "fOJ1JdNMVHAE"
      },
      "source": [
        ">  `Question:`  Find the list of letter starting with\n",
        "- u\n",
        "- o\n",
        "> `hint - You need to use for loop for this`"
      ]
    },
    {
      "cell_type": "code",
      "execution_count": null,
      "metadata": {
        "colab": {
          "base_uri": "https://localhost:8080/"
        },
        "id": "N0z98-XqVHAE",
        "outputId": "846a5753-6e67-4770-ef8d-fea2eaea4d78"
      },
      "outputs": [
        {
          "output_type": "stream",
          "name": "stdout",
          "text": [
            "{'under', 'university', 'using'}\n"
          ]
        }
      ],
      "source": [
        "# CODE HERE\n",
        "l1 = text.lower()\n",
        "l2= list(l1.split())\n",
        "l3 =set()\n",
        "for i in l2:\n",
        "  if i.startswith('u'):\n",
        "    l3.add(i)\n",
        "print(l3)\n"
      ]
    },
    {
      "cell_type": "code",
      "execution_count": null,
      "metadata": {
        "colab": {
          "base_uri": "https://localhost:8080/"
        },
        "id": "KHKRrtVPVHAO",
        "outputId": "73734d6b-8921-4075-c0d0-75c2130f6633"
      },
      "outputs": [
        {
          "output_type": "stream",
          "name": "stdout",
          "text": [
            "LIst of words starting with o is:,sep ='\n",
            "' {'one', 'on', 'oslo.', 'of', 'out'}\n"
          ]
        }
      ],
      "source": [
        "l1 = text.lower()\n",
        "l2= list(l1.split())\n",
        "l3 =set()\n",
        "for i in l2:\n",
        "  if i.startswith('o'):\n",
        "    l3.add(i)\n",
        "print(f\"LIst of words starting with o is:,sep ='\\n' {l3}\")"
      ]
    },
    {
      "cell_type": "markdown",
      "metadata": {
        "id": "E06mwHrMVHAP"
      },
      "source": [
        ">  `Question:` Find the list of letter ending with\n",
        "- e\n",
        "- n\n",
        "> `hint - You need to use for loop for this`"
      ]
    },
    {
      "cell_type": "code",
      "execution_count": null,
      "metadata": {
        "id": "UkKbekpXVHAP",
        "colab": {
          "base_uri": "https://localhost:8080/"
        },
        "outputId": "9cb606ec-6edf-45e3-ef27-cfc8206f9235"
      },
      "outputs": [
        {
          "output_type": "stream",
          "name": "stdout",
          "text": [
            "List of words ending with e is:, sep ='\n",
            "' {'one', 'since', 'be', 'type', '\"sequence', 'determine', 'france', 'simple', 'the', 'these', 'he', 'while', 'message', 'deutsche', 'made', '(groupe', 'mobile', '(compare', '(see', 'language', 'have'}\n"
          ]
        }
      ],
      "source": [
        "# CODE HERE\n",
        "l1 = text.lower()\n",
        "l2= list(l1.split())\n",
        "l3 = set()\n",
        "for i in l2:\n",
        "  if i.endswith('e'):\n",
        "    l3.add(i)\n",
        "print(f\"List of words ending with e is:, sep ='\\n' {l3}\")"
      ]
    },
    {
      "cell_type": "markdown",
      "metadata": {
        "id": "hYOYD_hdVHAQ"
      },
      "source": [
        ">  `Question:` Extract first 10 words of text and Capitalize first letter of each word"
      ]
    },
    {
      "cell_type": "code",
      "execution_count": null,
      "metadata": {
        "id": "AVL3kW-0VHAQ",
        "colab": {
          "base_uri": "https://localhost:8080/"
        },
        "outputId": "6764481d-8e55-4826-bfbc-d3d7ef8d425d"
      },
      "outputs": [
        {
          "output_type": "stream",
          "name": "stdout",
          "text": [
            "The University Of Hawaii Began Using Radio To Send\n"
          ]
        }
      ],
      "source": [
        "# CODE HERE\n",
        "l1 = text.lower()\n",
        "l2= list(l1.split()[0:9])\n",
        "l3=\" \".join(l2)\n",
        "print(l3.title())"
      ]
    },
    {
      "cell_type": "markdown",
      "metadata": {
        "id": "DN1UYxHEVHAR"
      },
      "source": [
        ">  `Question:` Replace the word \"University\" with name \"Innomatics\" in text"
      ]
    },
    {
      "cell_type": "code",
      "execution_count": null,
      "metadata": {
        "id": "2ILHIso6VHAR",
        "colab": {
          "base_uri": "https://localhost:8080/",
          "height": 140
        },
        "outputId": "bed78d17-bc97-43fc-9322-e0dda13a6d16"
      },
      "outputs": [
        {
          "output_type": "execute_result",
          "data": {
            "text/plain": [
              "'The Innomatics of Hawaii began using radio to send digital information as early as 1971,using ALOHAnet.\\nFriedhelm Hillebrand conceptualised SMS in 1984 while working for Deutsche Telekom. Sitting at a typewriter at home,\\nHillebrand typed out random sentences and counted every letter, number, punctuation, and space.\\nAlmost every time, the messages contained fewer than 160 characters, thus giving the basis for the\\nlimit one could type via text messaging. With Bernard Ghillebaert of France Télécom, he developed\\na proposal for the GSM (Groupe Spécial Mobile) meeting in February 1985 in Oslo.\\nThe first technical solution evolved in a GSM subgroup under the leadership of Finn Trosby.\\nIt was further developed under the leadership of Kevin Holley and Ian Harris (see Short Message Service).\\nSMS forms an integral part of SS7 (Signalling System No. 7). Under SS7, it is a \"state\" with a 160 character data,\\ncoded in the ITU-T \"T.56\" text format, that has a \"sequence lead in\" to determine different language codes,\\nand may have special character codes that permits, for example, sending simple graphs as text.\\nThis was part of ISDN (Integrated Services Digital Network) and since GSM is based on this,\\nmade its way to the mobile phone. Messages could be sent and received on ISDN phones,\\nand these can send SMS to any GSM phone. The possibility of doing something is one thing,\\nimplementing it another, but systems existed from 1988 that sent SMS messages to mobile phones (compare ND-NOTIS).'"
            ],
            "application/vnd.google.colaboratory.intrinsic+json": {
              "type": "string"
            }
          },
          "metadata": {},
          "execution_count": 35
        }
      ],
      "source": [
        "# CODE HERE\n",
        "text.replace(\"University\",\"Innomatics\")"
      ]
    },
    {
      "cell_type": "markdown",
      "metadata": {
        "id": "kgXNc5ZYVHAS"
      },
      "source": [
        "> `Question:`  Convert the \"text\" into sentances and store those into one variable called \"sentance\""
      ]
    },
    {
      "cell_type": "code",
      "execution_count": null,
      "metadata": {
        "id": "-8usrOotVHAT",
        "colab": {
          "base_uri": "https://localhost:8080/"
        },
        "outputId": "6296921c-f018-4176-95ba-721cdb760137"
      },
      "outputs": [
        {
          "output_type": "execute_result",
          "data": {
            "text/plain": [
              "['The University of Hawaii began using radio to send digital information as early as 1971,using ALOHAnet',\n",
              " '\\nFriedhelm Hillebrand conceptualised SMS in 1984 while working for Deutsche Telekom',\n",
              " ' Sitting at a typewriter at home,\\nHillebrand typed out random sentences and counted every letter, number, punctuation, and space',\n",
              " '\\nAlmost every time, the messages contained fewer than 160 characters, thus giving the basis for the\\nlimit one could type via text messaging',\n",
              " ' With Bernard Ghillebaert of France Télécom, he developed\\na proposal for the GSM (Groupe Spécial Mobile) meeting in February 1985 in Oslo',\n",
              " '\\nThe first technical solution evolved in a GSM subgroup under the leadership of Finn Trosby',\n",
              " '\\nIt was further developed under the leadership of Kevin Holley and Ian Harris (see Short Message Service)',\n",
              " '\\nSMS forms an integral part of SS7 (Signalling System No',\n",
              " ' 7)',\n",
              " ' Under SS7, it is a \"state\" with a 160 character data,\\ncoded in the ITU-T \"T',\n",
              " '56\" text format, that has a \"sequence lead in\" to determine different language codes,\\nand may have special character codes that permits, for example, sending simple graphs as text',\n",
              " '\\nThis was part of ISDN (Integrated Services Digital Network) and since GSM is based on this,\\nmade its way to the mobile phone',\n",
              " ' Messages could be sent and received on ISDN phones,\\nand these can send SMS to any GSM phone',\n",
              " ' The possibility of doing something is one thing,\\nimplementing it another, but systems existed from 1988 that sent SMS messages to mobile phones (compare ND-NOTIS)',\n",
              " '']"
            ]
          },
          "metadata": {},
          "execution_count": 36
        }
      ],
      "source": [
        "# CODE HERE\n",
        "sentance = text.split(\".\")\n",
        "sentance"
      ]
    },
    {
      "cell_type": "markdown",
      "metadata": {
        "id": "ng916hL9VHAT"
      },
      "source": [
        " `Question:`\n",
        "\n",
        "> 1.From the above sentance remove '\\n'\n"
      ]
    },
    {
      "cell_type": "code",
      "execution_count": null,
      "metadata": {
        "id": "pWgquqLKVHAU",
        "colab": {
          "base_uri": "https://localhost:8080/"
        },
        "outputId": "1949be9b-02b6-4dd0-ce1b-8132a7a86758"
      },
      "outputs": [
        {
          "output_type": "stream",
          "name": "stdout",
          "text": [
            "The University of Hawaii began using radio to send digital information as early as 1971,using ALOHAnet\n",
            "\n",
            "Friedhelm Hillebrand conceptualised SMS in 1984 while working for Deutsche Telekom\n",
            " Sitting at a typewriter at home,\n",
            "Hillebrand typed out random sentences and counted every letter, number, punctuation, and space\n",
            "\n",
            "Almost every time, the messages contained fewer than 160 characters, thus giving the basis for the\n",
            "limit one could type via text messaging\n",
            " With Bernard Ghillebaert of France Télécom, he developed\n",
            "a proposal for the GSM (Groupe Spécial Mobile) meeting in February 1985 in Oslo\n",
            "\n",
            "The first technical solution evolved in a GSM subgroup under the leadership of Finn Trosby\n",
            "\n",
            "It was further developed under the leadership of Kevin Holley and Ian Harris (see Short Message Service)\n",
            "\n",
            "SMS forms an integral part of SS7 (Signalling System No\n",
            " 7)\n",
            " Under SS7, it is a \"state\" with a 160 character data,\n",
            "coded in the ITU-T \"T\n",
            "56\" text format, that has a \"sequence lead in\" to determine different language codes,\n",
            "and may have special character codes that permits, for example, sending simple graphs as text\n",
            "\n",
            "This was part of ISDN (Integrated Services Digital Network) and since GSM is based on this,\n",
            "made its way to the mobile phone\n",
            " Messages could be sent and received on ISDN phones,\n",
            "and these can send SMS to any GSM phone\n",
            " The possibility of doing something is one thing,\n",
            "implementing it another, but systems existed from 1988 that sent SMS messages to mobile phones (compare ND-NOTIS)\n",
            "\n"
          ]
        }
      ],
      "source": [
        "# for i in sentance:\n",
        "#     i.removeprefix('\\n')\n",
        "#     print(i)\n",
        "for i in sentance:\n",
        "    i.replace('\\n','')\n",
        "    print(i)"
      ]
    },
    {
      "cell_type": "markdown",
      "metadata": {
        "id": "EjJEo1GyVHAU"
      },
      "source": [
        " > 2. From the above sentace print the first word from each sentance\n"
      ]
    },
    {
      "cell_type": "code",
      "execution_count": null,
      "metadata": {
        "id": "ABXJlMbKVHAU",
        "colab": {
          "base_uri": "https://localhost:8080/"
        },
        "outputId": "60df0f60-7ae9-4c43-9e2c-769246461a5d"
      },
      "outputs": [
        {
          "output_type": "stream",
          "name": "stdout",
          "text": [
            "The\n",
            "Friedhelm\n",
            "Sitting\n",
            "Almost\n",
            "With\n",
            "The\n",
            "It\n",
            "SMS\n",
            "7)\n",
            "Under\n",
            "56\"\n",
            "This\n",
            "Messages\n",
            "The\n"
          ]
        }
      ],
      "source": [
        "for i in sentance:\n",
        "    if i.strip():\n",
        "        print(i.split()[0])"
      ]
    },
    {
      "cell_type": "markdown",
      "metadata": {
        "id": "WgLB60EWVHAU"
      },
      "source": [
        "> 3. From the above sentace print even posioned sentances"
      ]
    },
    {
      "cell_type": "code",
      "execution_count": null,
      "metadata": {
        "id": "uLETIh4RVHAV",
        "colab": {
          "base_uri": "https://localhost:8080/"
        },
        "outputId": "259cc820-49d9-4c0d-8268-204db373fe30"
      },
      "outputs": [
        {
          "output_type": "stream",
          "name": "stdout",
          "text": [
            "University of Hawaii began using radio to send digital information as early as 1971,using ALOHAnet\n",
            "Hillebrand conceptualised SMS in 1984 while working for Deutsche Telekom\n",
            "at a typewriter at home, Hillebrand typed out random sentences and counted every letter, number, punctuation, and space\n",
            "every time, the messages contained fewer than 160 characters, thus giving the basis for the limit one could type via text messaging\n",
            "Bernard Ghillebaert of France Télécom, he developed a proposal for the GSM (Groupe Spécial Mobile) meeting in February 1985 in Oslo\n",
            "first technical solution evolved in a GSM subgroup under the leadership of Finn Trosby\n",
            "was further developed under the leadership of Kevin Holley and Ian Harris (see Short Message Service)\n",
            "forms an integral part of SS7 (Signalling System No\n",
            "\n",
            "SS7, it is a \"state\" with a 160 character data, coded in the ITU-T \"T\n",
            "text format, that has a \"sequence lead in\" to determine different language codes, and may have special character codes that permits, for example, sending simple graphs as text\n",
            "was part of ISDN (Integrated Services Digital Network) and since GSM is based on this, made its way to the mobile phone\n",
            "could be sent and received on ISDN phones, and these can send SMS to any GSM phone\n",
            "possibility of doing something is one thing, implementing it another, but systems existed from 1988 that sent SMS messages to mobile phones (compare ND-NOTIS)\n"
          ]
        }
      ],
      "source": [
        "for i in sentance:\n",
        "    if i.strip():\n",
        "        splited= i.split()[1:]\n",
        "        print(\" \".join(splited))"
      ]
    },
    {
      "cell_type": "markdown",
      "metadata": {
        "id": "629sKsf_VHAV"
      },
      "source": [
        ">   `Question:` If the following string is given as input to the program:\n",
        "\n",
        "- H1e2l3l4o5w6o7r8l9d\n",
        "\n",
        ">   `Output:`  Then, the output of the program should be:\n",
        "\n",
        "- Helloworld"
      ]
    },
    {
      "cell_type": "code",
      "source": [
        "l='H1e2l3l4o5w6o7r8l9d'\n",
        "for i in l:\n",
        "    if i.isalpha():\n",
        "        print(i,end=\"\")"
      ],
      "metadata": {
        "colab": {
          "base_uri": "https://localhost:8080/"
        },
        "id": "lxyfAQvakmUv",
        "outputId": "576032b1-4364-4316-b12c-6f92c463e5d9"
      },
      "execution_count": null,
      "outputs": [
        {
          "output_type": "stream",
          "name": "stdout",
          "text": [
            "Helloworld"
          ]
        }
      ]
    },
    {
      "cell_type": "markdown",
      "metadata": {
        "id": "rKxGcgy_VHAW"
      },
      "source": [
        "# [Innomatics Research Labs](https:/innomatics.in/)\n",
        "[www.innomatics.in](https:/innomatics.in/)"
      ]
    },
    {
      "cell_type": "code",
      "source": [
        "\n",
        "def number(n:int):\n",
        "    l=[]\n",
        "    for i in range(1,n+1):\n",
        "        x= input(print(\"enter string\"))\n",
        "        l.append(x)"
      ],
      "metadata": {
        "id": "j8YdnNeBo98C"
      },
      "execution_count": null,
      "outputs": []
    }
  ],
  "metadata": {
    "kernelspec": {
      "display_name": "Python 3",
      "language": "python",
      "name": "python3"
    },
    "language_info": {
      "codemirror_mode": {
        "name": "ipython",
        "version": 3
      },
      "file_extension": ".py",
      "mimetype": "text/x-python",
      "name": "python",
      "nbconvert_exporter": "python",
      "pygments_lexer": "ipython3",
      "version": "3.8.5"
    },
    "colab": {
      "provenance": [],
      "include_colab_link": true
    }
  },
  "nbformat": 4,
  "nbformat_minor": 0
}