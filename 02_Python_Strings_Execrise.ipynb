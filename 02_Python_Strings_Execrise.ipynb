{
  "cells": [
    {
      "cell_type": "markdown",
      "metadata": {
        "id": "view-in-github",
        "colab_type": "text"
      },
      "source": [
        "<a href=\"https://colab.research.google.com/github/Jayakrishna143/python/blob/main/02_Python_Strings_Execrise.ipynb\" target=\"_parent\"><img src=\"https://colab.research.google.com/assets/colab-badge.svg\" alt=\"Open In Colab\"/></a>"
      ]
    },
    {
      "cell_type": "markdown",
      "metadata": {
        "id": "CBnMUsp3VG_r"
      },
      "source": [
        "# Assignment Instructions\n",
        "\n",
        "`Hello Innominion,`\n",
        "\n",
        "- **Try to attempt all the questions in every possible way.**\n",
        "- **Some other topics are required to solve some questions. don't panic.**\n",
        "- **Those questions can be answered after the topics are taught.**\n",
        "\n",
        "\n",
        "- `Join Mentoring Session for the Support/Doubts Resolving with Our Technical Mentors (2.00 PM - 6.00 PM  Mon-Sat)`\n",
        "\n",
        "Happy Learning !!!"
      ]
    },
    {
      "cell_type": "code",
      "execution_count": null,
      "metadata": {
        "id": "uY2vo8ffVG_v"
      },
      "outputs": [],
      "source": []
    },
    {
      "cell_type": "markdown",
      "metadata": {
        "id": "kKICk-mlVG_w"
      },
      "source": [
        "# Strings - Execrise"
      ]
    },
    {
      "cell_type": "code",
      "execution_count": 1,
      "metadata": {
        "id": "owdblvLPVG_x"
      },
      "outputs": [],
      "source": [
        "text = \"\"\"The University of Hawaii began using radio to send digital information as early as 1971,using ALOHAnet.\n",
        "Friedhelm Hillebrand conceptualised SMS in 1984 while working for Deutsche Telekom. Sitting at a typewriter at home,\n",
        "Hillebrand typed out random sentences and counted every letter, number, punctuation, and space.\n",
        "Almost every time, the messages contained fewer than 160 characters, thus giving the basis for the\n",
        "limit one could type via text messaging. With Bernard Ghillebaert of France Télécom, he developed\n",
        "a proposal for the GSM (Groupe Spécial Mobile) meeting in February 1985 in Oslo.\n",
        "The first technical solution evolved in a GSM subgroup under the leadership of Finn Trosby.\n",
        "It was further developed under the leadership of Kevin Holley and Ian Harris (see Short Message Service).\n",
        "SMS forms an integral part of SS7 (Signalling System No. 7). Under SS7, it is a \"state\" with a 160 character data,\n",
        "coded in the ITU-T \"T.56\" text format, that has a \"sequence lead in\" to determine different language codes,\n",
        "and may have special character codes that permits, for example, sending simple graphs as text.\n",
        "This was part of ISDN (Integrated Services Digital Network) and since GSM is based on this,\n",
        "made its way to the mobile phone. Messages could be sent and received on ISDN phones,\n",
        "and these can send SMS to any GSM phone. The possibility of doing something is one thing,\n",
        "implementing it another, but systems existed from 1988 that sent SMS messages to mobile phones (compare ND-NOTIS).\"\"\""
      ]
    },
    {
      "cell_type": "markdown",
      "metadata": {
        "id": "nCAFTFc5VG_z"
      },
      "source": [
        ">  `Question:` How many characters in text"
      ]
    },
    {
      "cell_type": "code",
      "execution_count": null,
      "metadata": {
        "colab": {
          "base_uri": "https://localhost:8080/"
        },
        "id": "3nTidQSyVG_0",
        "outputId": "b96ac8c0-782f-4b36-959f-d48647e906f6"
      },
      "outputs": [
        {
          "output_type": "execute_result",
          "data": {
            "text/plain": [
              "1493"
            ]
          },
          "metadata": {},
          "execution_count": 4
        }
      ],
      "source": [
        "# CODE HERE\n",
        "len(text)"
      ]
    },
    {
      "cell_type": "markdown",
      "metadata": {
        "id": "fzP2I-3-VG_3"
      },
      "source": [
        ">  `Question:` How many words are there in the \"text\""
      ]
    },
    {
      "cell_type": "code",
      "execution_count": null,
      "metadata": {
        "colab": {
          "base_uri": "https://localhost:8080/"
        },
        "id": "AUWYNfuoVG_4",
        "outputId": "17ca9726-0dab-40d8-c6f1-ad035926b69d"
      },
      "outputs": [
        {
          "output_type": "stream",
          "name": "stdout",
          "text": [
            "230\n"
          ]
        }
      ],
      "source": [
        "# CODE HERE\n",
        "num_words = 1\n",
        "for char in text:\n",
        "    if char == \" \":\n",
        "        num_words += 1\n",
        "print(num_words)"
      ]
    },
    {
      "cell_type": "markdown",
      "metadata": {
        "id": "w6MKxHKXVG_6"
      },
      "source": [
        ">  `Question:` How many unique words in the \"text\""
      ]
    },
    {
      "cell_type": "code",
      "execution_count": null,
      "metadata": {
        "id": "D1UIkff6VG_6"
      },
      "outputs": [],
      "source": [
        "# CODE HERE"
      ]
    },
    {
      "cell_type": "code",
      "execution_count": null,
      "metadata": {
        "colab": {
          "base_uri": "https://localhost:8080/"
        },
        "id": "E_N040YcVG_7",
        "outputId": "98473161-cf0a-4e69-97b8-c261d9037c5f"
      },
      "outputs": [
        {
          "output_type": "stream",
          "name": "stdout",
          "text": [
            "168\n"
          ]
        }
      ],
      "source": [
        "words = text.lower()\n",
        "words_tuple = words.split()\n",
        "unique_words = set(words_tuple)\n",
        "print(len(unique_words))"
      ]
    },
    {
      "cell_type": "markdown",
      "metadata": {
        "id": "XDvXZjFvVG_7"
      },
      "source": [
        ">  `Question:` Find Lexical diversity\n",
        "\n",
        "lexical_diversity = (number of words)/(number of unique words)"
      ]
    },
    {
      "cell_type": "code",
      "source": [
        "lexical_diversity = (len(words))/(len(unique_words))\n",
        "print(lexical_diversity)"
      ],
      "metadata": {
        "colab": {
          "base_uri": "https://localhost:8080/"
        },
        "id": "-asDZ4SgXWun",
        "outputId": "a84ec61c-0d41-40ba-9250-005704bb73fc"
      },
      "execution_count": null,
      "outputs": [
        {
          "output_type": "stream",
          "name": "stdout",
          "text": [
            "8.886904761904763\n"
          ]
        }
      ]
    },
    {
      "cell_type": "markdown",
      "metadata": {
        "id": "cEZJp6DuVG_8"
      },
      "source": [
        ">  `Question:` Count how many \"the\" in text"
      ]
    },
    {
      "cell_type": "code",
      "execution_count": null,
      "metadata": {
        "colab": {
          "base_uri": "https://localhost:8080/"
        },
        "id": "rDpJ5XjHVG_8",
        "outputId": "7947e42e-454a-48fa-fa1e-dd2421056e10"
      },
      "outputs": [
        {
          "output_type": "execute_result",
          "data": {
            "text/plain": [
              "14"
            ]
          },
          "metadata": {},
          "execution_count": 9
        }
      ],
      "source": [
        "# CODE HERE\n",
        "words = text.lower()\n",
        "words.count( 'the')"
      ]
    },
    {
      "cell_type": "markdown",
      "metadata": {
        "id": "YCsEoAZ7VG_9"
      },
      "source": [
        ">  `Question:` Count how many \"a\" in text"
      ]
    },
    {
      "cell_type": "code",
      "source": [
        "words = text.lower()\n",
        "words.count( 'a')"
      ],
      "metadata": {
        "colab": {
          "base_uri": "https://localhost:8080/"
        },
        "id": "ONe2122ZYuyJ",
        "outputId": "5e979973-74d4-44cc-c3f4-e727ad417b6b"
      },
      "execution_count": null,
      "outputs": [
        {
          "output_type": "execute_result",
          "data": {
            "text/plain": [
              "92"
            ]
          },
          "metadata": {},
          "execution_count": 10
        }
      ]
    },
    {
      "cell_type": "markdown",
      "metadata": {
        "id": "8NHmdySJVG_-"
      },
      "source": [
        ">  `Question:` Extract First 10 words in text"
      ]
    },
    {
      "cell_type": "code",
      "execution_count": null,
      "metadata": {
        "colab": {
          "base_uri": "https://localhost:8080/"
        },
        "id": "D2Z4X1-YVG_-",
        "outputId": "2a8cc1e6-cb9b-4266-e514-161d5c829f27"
      },
      "outputs": [
        {
          "output_type": "stream",
          "name": "stdout",
          "text": [
            "The University of Hawaii began using radio to send digital\n"
          ]
        }
      ],
      "source": [
        "# CODE HERE\n",
        "tl = list(text.split())\n",
        "t2 = tl[:10]\n",
        "print(\" \".join(t2))"
      ]
    },
    {
      "cell_type": "markdown",
      "metadata": {
        "id": "6_eUOnEEVG__"
      },
      "source": [
        ">  `Question:` Append \" Innomatics Reseach Labs\" after first 10 words in the text"
      ]
    },
    {
      "cell_type": "code",
      "execution_count": null,
      "metadata": {
        "colab": {
          "base_uri": "https://localhost:8080/"
        },
        "id": "gPruqNNJVG__",
        "outputId": "70876bae-9841-4649-ee75-b93c264a554d"
      },
      "outputs": [
        {
          "output_type": "stream",
          "name": "stdout",
          "text": [
            "The University of Hawaii began using radio to send digital Innomatics Reseach Labs\n"
          ]
        }
      ],
      "source": [
        "# CODE HERE\n",
        "t2.append(\"Innomatics Reseach Labs\")\n",
        "print(\" \".join(t2))"
      ]
    },
    {
      "cell_type": "markdown",
      "metadata": {
        "id": "ax0pUo41VG__"
      },
      "source": [
        ">  `Question:` Extract First Fourteen (14) character in text"
      ]
    },
    {
      "cell_type": "code",
      "execution_count": null,
      "metadata": {
        "colab": {
          "base_uri": "https://localhost:8080/",
          "height": 36
        },
        "id": "OWeFCj-ZVHAA",
        "outputId": "b15a8429-eef3-4af4-9dbf-d6e8d4d3c80a"
      },
      "outputs": [
        {
          "output_type": "execute_result",
          "data": {
            "text/plain": [
              "'The University'"
            ],
            "application/vnd.google.colaboratory.intrinsic+json": {
              "type": "string"
            }
          },
          "metadata": {},
          "execution_count": 13
        }
      ],
      "source": [
        "# CODE HERE\n",
        "text[0:14]"
      ]
    },
    {
      "cell_type": "markdown",
      "metadata": {
        "id": "7zpCEe8uVHAA"
      },
      "source": [
        ">  `Question:` Extract first Fourteen (14) words in text"
      ]
    },
    {
      "cell_type": "code",
      "execution_count": null,
      "metadata": {
        "colab": {
          "base_uri": "https://localhost:8080/"
        },
        "id": "xxJWwdWwVHAB",
        "outputId": "5c37a9b4-5def-4ce9-fe71-41000c66bdb2"
      },
      "outputs": [
        {
          "output_type": "stream",
          "name": "stdout",
          "text": [
            "The University of Hawaii began using radio to send digital information as early as\n"
          ]
        }
      ],
      "source": [
        "# CODE HERE\n",
        "t1 = text.split()\n",
        "t2 = t1[:14]\n",
        "print(\" \".join(t2))"
      ]
    },
    {
      "cell_type": "markdown",
      "metadata": {
        "id": "Kg4MHcP5VHAC"
      },
      "source": [
        ">  `Question:` Extract First 10 words in text\n",
        "- Convert every letter into ***upper*** case\n",
        "- Convert every letter into ***lower*** case"
      ]
    },
    {
      "cell_type": "code",
      "execution_count": null,
      "metadata": {
        "colab": {
          "base_uri": "https://localhost:8080/"
        },
        "id": "20DnFlsVVHAC",
        "outputId": "fb8572dc-92d8-402a-8a81-3d2652a4464a"
      },
      "outputs": [
        {
          "output_type": "stream",
          "name": "stdout",
          "text": [
            "THE UNIVERSITY OF HAWAII BEGAN USING RADIO TO SEND DIGITAL\n"
          ]
        }
      ],
      "source": [
        "# CODE HERE\n",
        "t1 = text.split()\n",
        "t2 = t1[:10]\n",
        "t3 =\" \".join(t2)\n",
        "print(t3.upper())\n"
      ]
    },
    {
      "cell_type": "code",
      "execution_count": null,
      "metadata": {
        "colab": {
          "base_uri": "https://localhost:8080/"
        },
        "id": "h6GnV7e2VHAD",
        "outputId": "6bbbcd8c-175b-4302-b264-fed5b8700320"
      },
      "outputs": [
        {
          "output_type": "stream",
          "name": "stdout",
          "text": [
            "the university of hawaii began using radio to send digital\n"
          ]
        }
      ],
      "source": [
        "# CODE HERE\n",
        "# CODE HERE\n",
        "t1 = text.split()\n",
        "t2 = t1[:10]\n",
        "t3 =\" \".join(t2)\n",
        "print(t3.lower())"
      ]
    },
    {
      "cell_type": "markdown",
      "metadata": {
        "id": "fOJ1JdNMVHAE"
      },
      "source": [
        ">  `Question:`  Find the list of letter starting with\n",
        "- u\n",
        "- o\n",
        "> `hint - You need to use for loop for this`"
      ]
    },
    {
      "cell_type": "code",
      "execution_count": null,
      "metadata": {
        "colab": {
          "base_uri": "https://localhost:8080/"
        },
        "id": "N0z98-XqVHAE",
        "outputId": "379bc189-313f-49bb-edac-d35bd1f9ea20"
      },
      "outputs": [
        {
          "output_type": "stream",
          "name": "stdout",
          "text": [
            "{'university', 'under', 'using'}\n"
          ]
        }
      ],
      "source": [
        "# CODE HERE\n",
        "l1 = text.lower()\n",
        "l2= list(l1.split())\n",
        "l3 =set()\n",
        "for i in l2:\n",
        "  if i.startswith('u'):\n",
        "    l3.add(i)\n",
        "print(l3)\n"
      ]
    },
    {
      "cell_type": "code",
      "execution_count": null,
      "metadata": {
        "colab": {
          "base_uri": "https://localhost:8080/"
        },
        "id": "KHKRrtVPVHAO",
        "outputId": "6bf71bb5-685f-43e7-ff20-e728fd484324"
      },
      "outputs": [
        {
          "output_type": "stream",
          "name": "stdout",
          "text": [
            "LIst of words starting with o is:,sep ='\n",
            "' {'of', 'one', 'out', 'oslo.', 'on'}\n"
          ]
        }
      ],
      "source": [
        "l1 = text.lower()\n",
        "l2= list(l1.split())\n",
        "l3 =set()\n",
        "for i in l2:\n",
        "  if i.startswith('o'):\n",
        "    l3.add(i)\n",
        "print(f\"LIst of words starting with o is:,sep ='\\n' {l3}\")"
      ]
    },
    {
      "cell_type": "markdown",
      "metadata": {
        "id": "E06mwHrMVHAP"
      },
      "source": [
        ">  `Question:` Find the list of letter ending with\n",
        "- e\n",
        "- n\n",
        "> `hint - You need to use for loop for this`"
      ]
    },
    {
      "cell_type": "code",
      "execution_count": null,
      "metadata": {
        "id": "UkKbekpXVHAP",
        "colab": {
          "base_uri": "https://localhost:8080/"
        },
        "outputId": "3e593a27-adad-41f0-8ba3-633c721ec5fb"
      },
      "outputs": [
        {
          "output_type": "stream",
          "name": "stdout",
          "text": [
            "List of words ending with e is:, sep ='\n",
            "' {'deutsche', 'be', 'language', 'while', '(compare', 'determine', 'the', 'france', 'mobile', 'since', 'message', '(see', 'type', 'one', '(groupe', '\"sequence', 'made', 'have', 'he', 'these', 'simple'}\n"
          ]
        }
      ],
      "source": [
        "# CODE HERE\n",
        "l1 = text.lower()\n",
        "l2= list(l1.split())\n",
        "l3 = set()\n",
        "for i in l2:\n",
        "  if i.endswith('e'):\n",
        "    l3.add(i)\n",
        "print(f\"List of words ending with e is:, sep ='\\n' {l3}\")"
      ]
    },
    {
      "cell_type": "markdown",
      "metadata": {
        "id": "hYOYD_hdVHAQ"
      },
      "source": [
        ">  `Question:` Extract first 10 words of text and Capitalize first letter of each word"
      ]
    },
    {
      "cell_type": "code",
      "execution_count": null,
      "metadata": {
        "id": "AVL3kW-0VHAQ"
      },
      "outputs": [],
      "source": [
        "# CODE HERE\n",
        "l1 = text.lower()\n",
        "l2= list(l1.split())e\n",
        "l"
      ]
    },
    {
      "cell_type": "code",
      "execution_count": null,
      "metadata": {
        "id": "Ik9upUwsVHAR"
      },
      "outputs": [],
      "source": [
        "\n"
      ]
    },
    {
      "cell_type": "markdown",
      "metadata": {
        "id": "DN1UYxHEVHAR"
      },
      "source": [
        ">  `Question:` Replace the word \"University\" with name \"Innomatics\" in text"
      ]
    },
    {
      "cell_type": "code",
      "execution_count": null,
      "metadata": {
        "id": "2ILHIso6VHAR"
      },
      "outputs": [],
      "source": [
        "# CODE HERE\n",
        "text.replace(\"University\",\"Innomatics\")"
      ]
    },
    {
      "cell_type": "code",
      "execution_count": null,
      "metadata": {
        "scrolled": false,
        "id": "ctmd2YljVHAS"
      },
      "outputs": [],
      "source": []
    },
    {
      "cell_type": "markdown",
      "metadata": {
        "id": "kgXNc5ZYVHAS"
      },
      "source": [
        "> `Question:`  Convert the \"text\" into sentances and store those into one variable called \"sentance\""
      ]
    },
    {
      "cell_type": "code",
      "execution_count": null,
      "metadata": {
        "id": "-8usrOotVHAT"
      },
      "outputs": [],
      "source": [
        "# CODE HERE"
      ]
    },
    {
      "cell_type": "code",
      "execution_count": null,
      "metadata": {
        "id": "pLa1TC7KVHAT"
      },
      "outputs": [],
      "source": []
    },
    {
      "cell_type": "markdown",
      "metadata": {
        "id": "ng916hL9VHAT"
      },
      "source": [
        " `Question:`\n",
        "\n",
        "> 1.From the above sentance remove '\\n'\n"
      ]
    },
    {
      "cell_type": "code",
      "execution_count": null,
      "metadata": {
        "id": "pWgquqLKVHAU"
      },
      "outputs": [],
      "source": []
    },
    {
      "cell_type": "markdown",
      "metadata": {
        "id": "EjJEo1GyVHAU"
      },
      "source": [
        " > 2. From the above sentace print the first word from each sentance\n"
      ]
    },
    {
      "cell_type": "code",
      "execution_count": null,
      "metadata": {
        "id": "ABXJlMbKVHAU"
      },
      "outputs": [],
      "source": []
    },
    {
      "cell_type": "markdown",
      "metadata": {
        "id": "WgLB60EWVHAU"
      },
      "source": [
        "> 3. From the above sentace print even posioned sentances"
      ]
    },
    {
      "cell_type": "code",
      "execution_count": null,
      "metadata": {
        "id": "uLETIh4RVHAV"
      },
      "outputs": [],
      "source": []
    },
    {
      "cell_type": "markdown",
      "metadata": {
        "id": "629sKsf_VHAV"
      },
      "source": [
        ">   `Question:` If the following string is given as input to the program:\n",
        "\n",
        "- H1e2l3l4o5w6o7r8l9d\n",
        "\n",
        ">   `Output:`  Then, the output of the program should be:\n",
        "\n",
        "- Helloworld"
      ]
    },
    {
      "cell_type": "code",
      "execution_count": null,
      "metadata": {
        "id": "52PthhBQVHAV"
      },
      "outputs": [],
      "source": [
        "# CODE HERE"
      ]
    },
    {
      "cell_type": "markdown",
      "metadata": {
        "id": "rKxGcgy_VHAW"
      },
      "source": [
        "# [Innomatics Research Labs](https:/innomatics.in/)\n",
        "[www.innomatics.in](https:/innomatics.in/)"
      ]
    },
    {
      "cell_type": "code",
      "execution_count": null,
      "metadata": {
        "id": "MfJGHIplVHAW"
      },
      "outputs": [],
      "source": []
    }
  ],
  "metadata": {
    "kernelspec": {
      "display_name": "Python 3",
      "language": "python",
      "name": "python3"
    },
    "language_info": {
      "codemirror_mode": {
        "name": "ipython",
        "version": 3
      },
      "file_extension": ".py",
      "mimetype": "text/x-python",
      "name": "python",
      "nbconvert_exporter": "python",
      "pygments_lexer": "ipython3",
      "version": "3.8.5"
    },
    "colab": {
      "provenance": [],
      "include_colab_link": true
    }
  },
  "nbformat": 4,
  "nbformat_minor": 0
}