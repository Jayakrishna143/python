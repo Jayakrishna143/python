{
  "nbformat": 4,
  "nbformat_minor": 0,
  "metadata": {
    "colab": {
      "provenance": [],
      "authorship_tag": "ABX9TyMWWyvNJ4p9bV6fBku6EXIE",
      "include_colab_link": true
    },
    "kernelspec": {
      "name": "python3",
      "display_name": "Python 3"
    },
    "language_info": {
      "name": "python"
    }
  },
  "cells": [
    {
      "cell_type": "markdown",
      "metadata": {
        "id": "view-in-github",
        "colab_type": "text"
      },
      "source": [
        "<a href=\"https://colab.research.google.com/github/Jayakrishna143/python/blob/main/task14.ipynb\" target=\"_parent\"><img src=\"https://colab.research.google.com/assets/colab-badge.svg\" alt=\"Open In Colab\"/></a>"
      ]
    },
    {
      "cell_type": "code",
      "execution_count": null,
      "metadata": {
        "colab": {
          "base_uri": "https://localhost:8080/"
        },
        "id": "Kb97EAW1iss8",
        "outputId": "b6651728-d9d9-4f99-a920-6ef19ad8518d"
      },
      "outputs": [
        {
          "output_type": "stream",
          "name": "stdout",
          "text": [
            "[4, 16, 36, 64, 100, 144, 196, 256, 324, 400]\n",
            "[4, 16, 36, 64, 100, 144, 196, 256, 324, 400]\n",
            "[4, 16, 36, 64, 100, 144, 196, 256, 324, 400]\n"
          ]
        }
      ],
      "source": [
        "l=[]\n",
        "for i in range(1,21):\n",
        "    if i%2==0:\n",
        "        j = i**2\n",
        "        l.append(j)\n",
        "print(l)\n",
        "\n",
        "o =[]\n",
        "i=1\n",
        "while i<=20:\n",
        "    if i%2==0:\n",
        "        j = i**2\n",
        "        o.append(j)\n",
        "    i+=1\n",
        "print(o)\n",
        "\n",
        "i = [j**2 for j in range(1,21) if j%2==0]\n",
        "print(i)"
      ]
    },
    {
      "cell_type": "markdown",
      "source": [
        "Create a list of the lengths of each word in a given sentence \"Python is awesome and fun\".\n"
      ],
      "metadata": {
        "id": "50VQ-NRskmGX"
      }
    },
    {
      "cell_type": "code",
      "source": [
        "l =[len(i) for i in \"Python is awesome and fun\".split()]\n",
        "print(l)\n",
        "\n",
        "l=[]\n",
        "s=0\n",
        "a = \"Python is awesome and fun\".split()\n",
        "while s < len(a):\n",
        "    k = len(a[s])\n",
        "    l.append(k)\n",
        "    s+=1\n",
        "print(l)\n",
        "\n",
        "o=[]\n",
        "a= \"Python is awesome and fun\".split()\n",
        "for i in a:\n",
        "    k = len(i)\n",
        "    o.append(k)\n",
        "print(o)"
      ],
      "metadata": {
        "colab": {
          "base_uri": "https://localhost:8080/"
        },
        "id": "8WHHlJ8skj_m",
        "outputId": "2b437265-db5e-4f49-db13-d9b79f2f9eb0"
      },
      "execution_count": null,
      "outputs": [
        {
          "output_type": "stream",
          "name": "stdout",
          "text": [
            "[6, 2, 7, 3, 3]\n",
            "[6, 2, 7, 3, 3]\n",
            "[6, 2, 7, 3, 3]\n"
          ]
        }
      ]
    },
    {
      "cell_type": "markdown",
      "source": [
        "Extract all numbers greater than 5 from a given list [2, 3, 5, 7, 10, 1, 4, 8]."
      ],
      "metadata": {
        "id": "SG7bNNYPlKtG"
      }
    },
    {
      "cell_type": "code",
      "source": [
        "o = [i for i in [2, 3, 5, 7, 10, 1, 4, 8] if i >5]\n",
        "print(o)\n",
        "#using for loop\n",
        "o=[]\n",
        "for i in [2, 3, 5, 7, 10, 1, 4, 8]:\n",
        "    if i>5:\n",
        "        o.append(i)\n",
        "print(o)\n",
        "\n",
        "#using while loop\n",
        "o=[]\n",
        "i =0\n",
        "a=[2, 3, 5, 7, 10, 1, 4, 8]\n",
        "while i<len(a):\n",
        "    if a[i]>5:\n",
        "      o.append(a[i])\n",
        "    i+=1\n",
        "print(o)\n",
        "\n"
      ],
      "metadata": {
        "colab": {
          "base_uri": "https://localhost:8080/"
        },
        "id": "b_4LGwVXlHCv",
        "outputId": "997ced1b-9668-4818-937f-a63fb4d47a86"
      },
      "execution_count": null,
      "outputs": [
        {
          "output_type": "stream",
          "name": "stdout",
          "text": [
            "[7, 10, 8]\n",
            "[7, 10, 8]\n",
            "[7, 10, 8]\n"
          ]
        }
      ]
    },
    {
      "cell_type": "markdown",
      "source": [
        "Create a list containing only the first character of each word in a given list [\"apple\", \"banana\", \"cherry\", \"date\"]."
      ],
      "metadata": {
        "id": "wysxdnvYlwl-"
      }
    },
    {
      "cell_type": "code",
      "source": [
        "v = [i[0] for i in  [\"apple\", \"banana\", \"cherry\", \"date\"] ]\n",
        "print(v)\n",
        "\n",
        "#using for loop\n",
        "a =[\"apple\", \"banana\", \"cherry\", \"date\"]\n",
        "v=[]\n",
        "for i in a:\n",
        "    v.append(i[0])\n",
        "print(v)\n",
        "\n",
        "#using while loop\n",
        "v=[]\n",
        "i=0\n",
        "while i<len(a):\n",
        "    v.append(a[i][0])\n",
        "    i+=1\n",
        "print(v)\n"
      ],
      "metadata": {
        "colab": {
          "base_uri": "https://localhost:8080/"
        },
        "id": "_a3h6U5VlqH4",
        "outputId": "c3721c9b-f6a1-4012-ae82-f3c06197cae7"
      },
      "execution_count": null,
      "outputs": [
        {
          "output_type": "stream",
          "name": "stdout",
          "text": [
            "['a', 'b', 'c', 'd']\n",
            "['a', 'b', 'c', 'd']\n",
            "['a', 'b', 'c', 'd']\n"
          ]
        }
      ]
    },
    {
      "cell_type": "markdown",
      "source": [
        "Create a list of tuples with the number and its square for numbers from 1 to 10."
      ],
      "metadata": {
        "id": "O2HDvvT2mGOD"
      }
    },
    {
      "cell_type": "code",
      "source": [
        "from re import L\n",
        "e = [(i,i**2) for i in range(1,11)]\n",
        "print(e,sep=' ')\n",
        "\n",
        "#for loop\n",
        "l=[]\n",
        "for i in range(1,11):\n",
        "    l.append((i,i**2))\n",
        "print(l)\n",
        "\n",
        "#while loop\n",
        "l=[]\n",
        "i=1\n",
        "while i<=10:\n",
        "    l.append((i,i**2))\n",
        "    i+=1\n",
        "print(l)"
      ],
      "metadata": {
        "colab": {
          "base_uri": "https://localhost:8080/"
        },
        "id": "p04m_OgUmG_8",
        "outputId": "e0d286a1-95b8-4da4-e548-8b83eda40278"
      },
      "execution_count": null,
      "outputs": [
        {
          "output_type": "stream",
          "name": "stdout",
          "text": [
            "[(1, 1), (2, 4), (3, 9), (4, 16), (5, 25), (6, 36), (7, 49), (8, 64), (9, 81), (10, 100)]\n",
            "[(1, 1), (2, 4), (3, 9), (4, 16), (5, 25), (6, 36), (7, 49), (8, 64), (9, 81), (10, 100)]\n",
            "[(1, 1), (2, 4), (3, 9), (4, 16), (5, 25), (6, 36), (7, 49), (8, 64), (9, 81), (10, 100)]\n"
          ]
        }
      ]
    },
    {
      "cell_type": "markdown",
      "source": [
        "Create a list of strings that are uppercase and have more than 3 letters from the list ['abc', 'DEF', 'ghi', 'JKL', 'mnop']."
      ],
      "metadata": {
        "id": "xeARI6lgml14"
      }
    },
    {
      "cell_type": "code",
      "source": [
        "y = [i for i in ['abc', 'DEF', 'ghi', 'JKL', 'mnop'] if i.isupper() and len(i)>3]\n",
        "print(y)\n",
        "\n",
        "#for loop\n",
        "a=['abc', 'DEF', 'ghi', 'JKL', 'mnop']\n",
        "y=[]\n",
        "for i in a:\n",
        "    if i.isupper() and len(i)>3:\n",
        "        y.append(i)\n",
        "print(y)\n",
        "\n",
        "#while loop\n",
        "i = 0\n",
        "y=[]\n",
        "while i <len(a):\n",
        "    if a[i].isupper() and len(a[i])>3:\n",
        "        y.append(a[i])\n",
        "    i+=1\n",
        "print(y)\n"
      ],
      "metadata": {
        "colab": {
          "base_uri": "https://localhost:8080/"
        },
        "id": "g_4hZkuymv-u",
        "outputId": "eb2bb086-2d6c-4baa-cdad-4b4a4bdd251d"
      },
      "execution_count": null,
      "outputs": [
        {
          "output_type": "stream",
          "name": "stdout",
          "text": [
            "[]\n",
            "[]\n",
            "[]\n"
          ]
        }
      ]
    },
    {
      "cell_type": "markdown",
      "source": [
        "Flatten a 2D list [[1, 2], [3, 4], [5, 6]] into a single list."
      ],
      "metadata": {
        "id": "O9S3c252nK1M"
      }
    },
    {
      "cell_type": "code",
      "source": [
        "o = [i for i in [[1, 2], [3, 4], [5, 6]]  for i in i]\n",
        "print(o)\n",
        "\n",
        "# for loop\n",
        "o =[]\n",
        "for i in [[1, 2], [3, 4], [5, 6]]:\n",
        "    for j in i:\n",
        "        o.append(j)\n",
        "print(o)\n",
        "\n",
        "# while loop\n",
        "a=[[1, 2], [3, 4], [5, 6]]\n",
        "i=0\n",
        "o=[]\n",
        "while i <len(a):\n",
        "    j=0\n",
        "    while j < len(a[i]):\n",
        "        o.append(a[i][j])\n",
        "        j+=1\n",
        "    i+=1\n",
        "print(o)\n"
      ],
      "metadata": {
        "colab": {
          "base_uri": "https://localhost:8080/"
        },
        "id": "5BHHtwarnQwh",
        "outputId": "3745a39f-d529-4db2-e640-38e73d250a1c"
      },
      "execution_count": null,
      "outputs": [
        {
          "output_type": "stream",
          "name": "stdout",
          "text": [
            "[1, 2, 3, 4, 5, 6]\n",
            "[1, 2, 3, 4, 5, 6]\n",
            "[1, 2, 3, 4, 5, 6]\n"
          ]
        }
      ]
    },
    {
      "cell_type": "markdown",
      "source": [
        "Given a list of numbers [1, 2, 3, 4, 5], generate a new list where each element is the result of multiplying the original number by 3, but only if the number is odd."
      ],
      "metadata": {
        "id": "uVsWGl0kp_K1"
      }
    },
    {
      "cell_type": "code",
      "source": [
        "u = [i*3 for i in [1,2,3,4,5] if i%2!=0]\n",
        "print(u)\n",
        "\n",
        "# for loop\n",
        "u =[]\n",
        "for i in [1,2,3,4,5]:\n",
        "    if i%2!=0:\n",
        "        u.append(i*3)\n",
        "print(u)\n",
        "\n",
        "# while loop\n",
        "a=[1,2,3,4,5]\n",
        "u=[]\n",
        "i=0\n",
        "while i<len(a):\n",
        "    if a[i]%2!=0:\n",
        "        u.append(a[i]*3)\n",
        "    i+=1\n",
        "print(u)"
      ],
      "metadata": {
        "colab": {
          "base_uri": "https://localhost:8080/"
        },
        "id": "rf__zHWlqB1l",
        "outputId": "9076b53c-91c8-4a48-ce6d-c8c9d90be453"
      },
      "execution_count": null,
      "outputs": [
        {
          "output_type": "stream",
          "name": "stdout",
          "text": [
            "[3, 9, 15]\n",
            "[3, 9, 15]\n",
            "[3, 9, 15]\n"
          ]
        }
      ]
    },
    {
      "cell_type": "markdown",
      "source": [
        "Using a nested ternary operator, create a list that replaces numbers greater than 10 with the string 'Large' and others with 'Small' from the list [5, 12, 9, 19, 7, 3].\n"
      ],
      "metadata": {
        "id": "J47sykaQqWHP"
      }
    },
    {
      "cell_type": "markdown",
      "source": [],
      "metadata": {
        "id": "649BeD9OTOMh"
      }
    },
    {
      "cell_type": "code",
      "source": [
        "m = ['large' if i>10 else 'small' for i in [5, 12, 9, 19, 7, 3]]\n",
        "print(m)\n",
        "\n",
        "# for loop\n",
        "a=[5, 12, 9, 19, 7, 3]\n",
        "m=[]\n",
        "for i in a:\n",
        "    if i>10:\n",
        "        m.append('large')\n",
        "    else:\n",
        "        m.append('small')\n",
        "print(m)\n",
        "\n",
        "# while loop\n",
        "m=[]\n",
        "i=0\n",
        "while i<len(a):\n",
        "    if a[i]>10:\n",
        "        m.append('large')\n",
        "    else:\n",
        "        m.append('small')\n",
        "    i+=1\n",
        "print(m)"
      ],
      "metadata": {
        "colab": {
          "base_uri": "https://localhost:8080/"
        },
        "id": "adNAsDlKqXkj",
        "outputId": "116970e0-3ca4-4e77-a261-b312369d4ef7"
      },
      "execution_count": null,
      "outputs": [
        {
          "output_type": "stream",
          "name": "stdout",
          "text": [
            "['small', 'large', 'small', 'large', 'small', 'small']\n",
            "['small', 'large', 'small', 'large', 'small', 'small']\n",
            "['small', 'large', 'small', 'large', 'small', 'small']\n"
          ]
        }
      ]
    },
    {
      "cell_type": "markdown",
      "source": [
        "Create a dictionary where keys are numbers from 1 to 5 and values are their squares."
      ],
      "metadata": {
        "id": "Ul_e8E1TTP_P"
      }
    },
    {
      "cell_type": "code",
      "source": [
        "d ={i:i**2 for i in range(1,6)}\n",
        "print(d)\n",
        "\n",
        "# for loop\n",
        "for i in range(1,6):\n",
        "    d[i] =i**2\n",
        "print(d)\n",
        "\n",
        "#while loop\n",
        "i=1\n",
        "d ={}\n",
        "while i<=5:\n",
        "    d[i] = i**2\n",
        "    i+=1\n",
        "print(d)"
      ],
      "metadata": {
        "colab": {
          "base_uri": "https://localhost:8080/"
        },
        "id": "21Tx2FxoS-Ru",
        "outputId": "83c9ac99-f3c0-4020-df04-a1a755123cd8"
      },
      "execution_count": null,
      "outputs": [
        {
          "output_type": "stream",
          "name": "stdout",
          "text": [
            "{1: 1, 2: 4, 3: 9, 4: 16, 5: 25}\n",
            "{1: 1, 2: 4, 3: 9, 4: 16, 5: 25}\n",
            "{1: 1, 2: 4, 3: 9, 4: 16, 5: 25}\n"
          ]
        }
      ]
    },
    {
      "cell_type": "markdown",
      "source": [
        "Given a list of names ['Alice', 'Bob', 'Charlie'], create a dictionary where each name is a key, and the value is the length of the name."
      ],
      "metadata": {
        "id": "m28thYbjTRsb"
      }
    },
    {
      "cell_type": "code",
      "source": [
        "\n",
        "d ={i:len(i) for i in ['Alice', 'Bob', 'Charlie']}\n",
        "print(d)\n",
        "\n",
        "# for loop\n",
        "d={}\n",
        "for i in ['Alice', 'Bob', 'Charlie']:\n",
        "    d[i] = len(i)\n",
        "print(d)\n",
        "\n",
        "# while loop\n",
        "\n",
        "i =0\n",
        "a = ['Alice', 'Bob', 'Charlie']\n",
        "while i < len(a):\n",
        "    d[a[i]] = len(a[i])\n",
        "    i+=1\n",
        "print(d)"
      ],
      "metadata": {
        "colab": {
          "base_uri": "https://localhost:8080/"
        },
        "id": "YhcKUAsJS_2r",
        "outputId": "533f653f-bbb2-49be-bedb-abedd2ea7d4b"
      },
      "execution_count": null,
      "outputs": [
        {
          "output_type": "stream",
          "name": "stdout",
          "text": [
            "{'Alice': 5, 'Bob': 3, 'Charlie': 7}\n",
            "{'Alice': 5, 'Bob': 3, 'Charlie': 7}\n",
            "{'Alice': 5, 'Bob': 3, 'Charlie': 7}\n"
          ]
        }
      ]
    },
    {
      "cell_type": "markdown",
      "source": [
        "Create a dictionary where the keys are the numbers from 1 to 10 and the values are 'Even' or 'Odd' based on whether the number is even or odd."
      ],
      "metadata": {
        "id": "v9F4tQuUTTv3"
      }
    },
    {
      "cell_type": "code",
      "source": [
        "d = {i:'even' if i%2==0 else 'odd' for i in range(1,11)}\n",
        "print(d)\n",
        "\n",
        "#for loop\n",
        "d={}\n",
        "for i in range(1,11):\n",
        "    if i%2==0:\n",
        "        d[i] = 'Even'\n",
        "    else:\n",
        "        d[i] = 'Odd'\n",
        "print(d)\n",
        "\n",
        "# while loop\n",
        "d ={}\n",
        "i = 1\n",
        "while i<11:\n",
        "    if i%2==0:\n",
        "        d[i] = 'Even'\n",
        "    else:\n",
        "        d[i] = 'Odd'\n",
        "    i+=1\n",
        "print(d)"
      ],
      "metadata": {
        "colab": {
          "base_uri": "https://localhost:8080/"
        },
        "id": "c2zfN6DXTBRJ",
        "outputId": "07cec28f-76d3-4c87-c999-c44e8ef93ca8"
      },
      "execution_count": null,
      "outputs": [
        {
          "output_type": "stream",
          "name": "stdout",
          "text": [
            "{1: 'odd', 2: 'even', 3: 'odd', 4: 'even', 5: 'odd', 6: 'even', 7: 'odd', 8: 'even', 9: 'odd', 10: 'even'}\n",
            "{1: 'Odd', 2: 'Even', 3: 'Odd', 4: 'Even', 5: 'Odd', 6: 'Even', 7: 'Odd', 8: 'Even', 9: 'Odd', 10: 'Even'}\n",
            "{1: 'Odd', 2: 'Even', 3: 'Odd', 4: 'Even', 5: 'Odd', 6: 'Even', 7: 'Odd', 8: 'Even', 9: 'Odd', 10: 'Even'}\n"
          ]
        }
      ]
    },
    {
      "cell_type": "markdown",
      "source": [
        "Given a list of tuples [(1, 'a'), (2, 'b'), (3, 'c')], create a dictionary where the first element of each tuple is the key and the second element is the value."
      ],
      "metadata": {
        "id": "xkMjMKNHbikJ"
      }
    },
    {
      "cell_type": "code",
      "source": [
        "data = [(1, 'a'), (2, 'b'), (3, 'c')]\n",
        "d ={k:v for k,v in data}\n",
        "print(d)\n",
        "\n",
        "# forloop\n",
        "d={}\n",
        "for x in data:\n",
        "    d[x[0]] = x[1]\n",
        "print(d)\n",
        "\n",
        "# while loop\n",
        "d={}\n",
        "i=0\n",
        "while i<len(data):\n",
        "    d[data[i][0]] = data[i][1]\n",
        "    i+=1\n",
        "print(d)\n",
        "\n"
      ],
      "metadata": {
        "colab": {
          "base_uri": "https://localhost:8080/"
        },
        "id": "mCMdr60Xbg9_",
        "outputId": "419d3a46-71c9-4d37-ef0d-86acfde846c5"
      },
      "execution_count": null,
      "outputs": [
        {
          "output_type": "stream",
          "name": "stdout",
          "text": [
            "{1: 'a', 2: 'b', 3: 'c'}\n",
            "{1: 'a', 2: 'b', 3: 'c'}\n",
            "{1: 'a', 2: 'b', 3: 'c'}\n"
          ]
        }
      ]
    },
    {
      "cell_type": "markdown",
      "source": [
        "Create a dictionary that maps the first letter of each word to the corresponding word from the list [\"apple\", \"banana\", \"cherry\", \"date\"].\n"
      ],
      "metadata": {
        "id": "DUUIdXG16IwW"
      }
    },
    {
      "cell_type": "code",
      "source": [
        "l =[\"apple\", \"banana\", \"cherry\", \"date\"]\n",
        "d = {i[0]:i for i in l }\n",
        "print(d)\n",
        "\n",
        "#for loop\n",
        "for i in l:\n",
        "    d[i[0]] = i\n",
        "print(d)\n",
        "\n",
        "#while loop\n",
        "i=0\n",
        "while i < len(l):\n",
        "    d[l[i][0]] = l[i]\n",
        "    i+=1\n",
        "print(d)\n"
      ],
      "metadata": {
        "colab": {
          "base_uri": "https://localhost:8080/"
        },
        "id": "iILPoAab54ra",
        "outputId": "fee7ab29-746a-4919-9ddc-8bbf121c5a90"
      },
      "execution_count": null,
      "outputs": [
        {
          "output_type": "stream",
          "name": "stdout",
          "text": [
            "{'a': 'apple', 'b': 'banana', 'c': 'cherry', 'd': 'date'}\n",
            "{'a': 'apple', 'b': 'banana', 'c': 'cherry', 'd': 'date'}\n",
            "{'a': 'apple', 'b': 'banana', 'c': 'cherry', 'd': 'date'}\n"
          ]
        }
      ]
    },
    {
      "cell_type": "markdown",
      "source": [
        "Create a dictionary from a list ['apple', 'banana', 'cherry', 'date'] where the key is the word and the value is its length, but exclude words with less than 5 letters."
      ],
      "metadata": {
        "id": "3AFlNuky76By"
      }
    },
    {
      "cell_type": "code",
      "source": [
        "l =  ['apple', 'banana', 'cherry', 'date']\n",
        "d ={i:len(i) for i in l if len(i)>5}\n",
        "print(d)\n",
        "\n",
        " #for loop\n",
        "for i in l:\n",
        "    if len(i)>5:\n",
        "        d[i] = len(i)\n",
        "print(d)\n",
        "\n",
        "#while loop\n",
        "i = 0\n",
        "while i < len(l):\n",
        "    if len(l[i])>5:\n",
        "        d[l[i]] = len(l[i])\n",
        "    i+=1\n",
        "print(d)"
      ],
      "metadata": {
        "colab": {
          "base_uri": "https://localhost:8080/"
        },
        "id": "DfZDsxxI75ys",
        "outputId": "c605a0ce-d7cb-4106-8c9f-38552e267bb3"
      },
      "execution_count": null,
      "outputs": [
        {
          "output_type": "stream",
          "name": "stdout",
          "text": [
            "{'banana': 6, 'cherry': 6}\n",
            "{'banana': 6, 'cherry': 6}\n",
            "{'banana': 6, 'cherry': 6}\n"
          ]
        }
      ]
    },
    {
      "cell_type": "markdown",
      "source": [
        "Using a dictionary comprehension, invert the following dictionary {'a': 1, 'b': 2, 'c': 3}, so the values become keys and keys become values."
      ],
      "metadata": {
        "id": "4p2LO7sV8mMY"
      }
    },
    {
      "cell_type": "code",
      "source": [
        "l = {'a': 1, 'b': 2, 'c': 3}\n",
        "d = {v:k for k,v in l.items()}\n",
        "print(d)\n",
        "\n",
        "# using for loop\n",
        "for k,v in l.items():\n",
        "    d[v] =k\n",
        "print(d)\n",
        "\n",
        "#while loop\n",
        "i=0\n",
        "d={}\n",
        "while i<len(l):\n",
        "    d[list(l.values())[i]] = list(l.keys())[i]\n",
        "    i+=1\n",
        "print(d)"
      ],
      "metadata": {
        "colab": {
          "base_uri": "https://localhost:8080/"
        },
        "id": "3xGZK_Qp748Z",
        "outputId": "800563bb-b5ee-43b0-a804-ddbcb4b5cc6c"
      },
      "execution_count": null,
      "outputs": [
        {
          "output_type": "stream",
          "name": "stdout",
          "text": [
            "{1: 'a', 2: 'b', 3: 'c'}\n",
            "{1: 'a', 2: 'b', 3: 'c'}\n",
            "{1: 'a', 2: 'b', 3: 'c'}\n"
          ]
        }
      ]
    },
    {
      "cell_type": "markdown",
      "source": [
        "Create a dictionary that maps each word in the sentence \"This is Python\" to its index in the sentence."
      ],
      "metadata": {
        "id": "ht6Kict39k94"
      }
    },
    {
      "cell_type": "code",
      "source": [
        "s = \"This is Python\"\n",
        "d ={i:s.split().index(i) for i in s.split()}\n",
        "print(d)\n",
        "\n",
        "# for loop\n",
        "d={}\n",
        "for i in s.split():\n",
        "    d[i] = s.split().index(i)\n",
        "print(d)\n",
        "\n",
        "#whileloop\n",
        "i=0\n",
        "while i < len(s.split()):\n",
        "    d[s.split()[i]] = i\n",
        "    i+=1\n",
        "print(d)"
      ],
      "metadata": {
        "colab": {
          "base_uri": "https://localhost:8080/"
        },
        "id": "VkfqE6e39kJa",
        "outputId": "5a41d9df-8a66-4824-e21c-5a1d9d055d4f"
      },
      "execution_count": null,
      "outputs": [
        {
          "output_type": "stream",
          "name": "stdout",
          "text": [
            "{'This': 0, 'is': 1, 'Python': 2}\n",
            "{'This': 0, 'is': 1, 'Python': 2}\n",
            "{'This': 0, 'is': 1, 'Python': 2}\n"
          ]
        }
      ]
    },
    {
      "cell_type": "markdown",
      "source": [
        "Create a dictionary where keys are the elements of a list ['apple', 'banana', 'cherry', 'date'] and values are 'Yes' if the word contains more than 5 letters, 'No' otherwise."
      ],
      "metadata": {
        "id": "4QE9WQSs-xJR"
      }
    },
    {
      "cell_type": "code",
      "source": [
        "l = ['apple', 'banana', 'cherry', 'date']\n",
        "d = {i:'yes' if len(i)>5 else \"No\" for i in l}\n",
        "print(d)\n",
        "\n",
        "# for loop\n",
        "for i in l:\n",
        "    if len(i)>5:\n",
        "        d[i] = 'yes'\n",
        "    else:\n",
        "        d[i] = 'No'\n",
        "print(d)\n",
        "\n",
        "# while loop\n",
        "i=0\n",
        "while i<len(l):\n",
        "    if len(l[i])>5:\n",
        "        d[l[i]] = 'yes'\n",
        "    else:\n",
        "        d[l[i]] = 'No'\n",
        "    i+=1\n",
        "print(d)"
      ],
      "metadata": {
        "colab": {
          "base_uri": "https://localhost:8080/"
        },
        "id": "m6FhBK0y-wxN",
        "outputId": "f74c9d68-3df5-477c-f42a-08945fc701e4"
      },
      "execution_count": null,
      "outputs": [
        {
          "output_type": "stream",
          "name": "stdout",
          "text": [
            "{'apple': 'No', 'banana': 'yes', 'cherry': 'yes', 'date': 'No'}\n",
            "{'apple': 'No', 'banana': 'yes', 'cherry': 'yes', 'date': 'No'}\n",
            "{'apple': 'No', 'banana': 'yes', 'cherry': 'yes', 'date': 'No'}\n"
          ]
        }
      ]
    },
    {
      "cell_type": "markdown",
      "source": [
        "Create a set containing all even numbers between 1 and 20"
      ],
      "metadata": {
        "id": "p9eu3fIZ_fpm"
      }
    },
    {
      "cell_type": "code",
      "source": [
        "\n",
        "even_numbers = {i for i in range(1, 21,) if i%2==0}\n",
        "print(even_numbers)\n",
        "#for loop\n",
        "s =set()\n",
        "for i in range(1,21):\n",
        "    if i%2==0:\n",
        "        s.add(i)\n",
        "print(s)\n",
        "\n",
        "#while loop\n",
        "i = 1\n",
        "s = set()\n",
        "while i<=20:\n",
        "    if i%2==0:\n",
        "        s.add(i)\n",
        "    i+=1\n",
        "print(s)"
      ],
      "metadata": {
        "colab": {
          "base_uri": "https://localhost:8080/"
        },
        "id": "Du86kmuZ_fDY",
        "outputId": "7501e73d-2fcb-47d2-b191-2a3f5ab58634"
      },
      "execution_count": null,
      "outputs": [
        {
          "output_type": "stream",
          "name": "stdout",
          "text": [
            "{2, 4, 6, 8, 10, 12, 14, 16, 18, 20}\n",
            "{2, 4, 6, 8, 10, 12, 14, 16, 18, 20}\n",
            "{2, 4, 6, 8, 10, 12, 14, 16, 18, 20}\n"
          ]
        }
      ]
    },
    {
      "cell_type": "markdown",
      "source": [
        "Create a set of the unique characters in the string \"Python Programming\"."
      ],
      "metadata": {
        "id": "BKPYoMhbAxbc"
      }
    },
    {
      "cell_type": "code",
      "source": [
        "st ='Python Programming'\n",
        "s = {i for i in st}\n",
        "print(s,type(s))\n",
        "\n",
        "# for loop\n",
        "s = set()\n",
        "for i in st:\n",
        "    s.add(i)\n",
        "print(s,type(s))\n",
        "# while loop\n",
        "i=0\n",
        "s = set()\n",
        "while i<len(st):\n",
        "    s.add(st[i])\n",
        "    i+=1\n",
        "print(s,type(s))"
      ],
      "metadata": {
        "colab": {
          "base_uri": "https://localhost:8080/"
        },
        "id": "36C94ESJAwtK",
        "outputId": "f0a21763-f008-4153-97bf-40fb71d7fc09"
      },
      "execution_count": null,
      "outputs": [
        {
          "output_type": "stream",
          "name": "stdout",
          "text": [
            "{'t', 'r', 'y', 'P', 'n', 'a', 'o', 'm', ' ', 'h', 'g', 'i'} <class 'set'>\n",
            "{'t', 'r', 'y', 'P', 'n', 'a', 'o', 'm', ' ', 'h', 'g', 'i'} <class 'set'>\n",
            "{'t', 'r', 'y', 'P', 'n', 'a', 'o', 'm', ' ', 'h', 'g', 'i'} <class 'set'>\n"
          ]
        }
      ]
    },
    {
      "cell_type": "markdown",
      "source": [
        "From a list of numbers [1, 2, 2, 3, 4, 5, 5, 6], create a set of unique numbers."
      ],
      "metadata": {
        "id": "bWsXmvLnBVIR"
      }
    },
    {
      "cell_type": "code",
      "source": [
        "s = {s for s in [1, 2, 2, 3, 4, 5, 5, 6]}\n",
        "print(s)\n",
        "# for loop\n",
        "l =[1, 2, 2, 3, 4, 5, 5, 6]\n",
        "s =set()\n",
        "for i in l:\n",
        "    s.add(i)\n",
        "print(s)\n",
        "\n",
        "#while loop\n",
        "i=0\n",
        "s=set()\n",
        "while i <len(l):\n",
        "    s.add(l[i])\n",
        "    i+=1\n",
        "print(s)"
      ],
      "metadata": {
        "colab": {
          "base_uri": "https://localhost:8080/"
        },
        "id": "yXxpJtz_AsyS",
        "outputId": "feb93328-1c75-4998-de36-1b50f3b2bbf5"
      },
      "execution_count": null,
      "outputs": [
        {
          "output_type": "stream",
          "name": "stdout",
          "text": [
            "{1, 2, 3, 4, 5, 6}\n",
            "{1, 2, 3, 4, 5, 6}\n",
            "{1, 2, 3, 4, 5, 6}\n"
          ]
        }
      ]
    },
    {
      "cell_type": "markdown",
      "source": [
        "Create a set that contains only the vowels from the string \"The quick brown fox jumps over the lazy dog\"."
      ],
      "metadata": {
        "id": "yQp8F342B7g4"
      }
    },
    {
      "cell_type": "code",
      "source": [
        "vowels = {'a', 'e', 'i', 'o', 'u'}\n",
        "s = {i for i in \"The quick brown fox jumps over the lazy dog\" if i.lower() in vowels}\n",
        "print(s)\n",
        "\n",
        "#for loop\n",
        "s = set()\n",
        "for i in \"The quick brown fox jumps over the lazy dog\":\n",
        "    if i.lower() in vowels:\n",
        "        s.add(i)\n",
        "print(s)\n",
        "#while loop\n",
        "a =\"The quick brown fox jumps over the lazy dog\"\n",
        "i=0\n",
        "s = set()\n",
        "while i<len(a):\n",
        "    if a[i].lower() in vowels:\n",
        "        s.add(a[i])\n",
        "    i+=1\n",
        "print(s)"
      ],
      "metadata": {
        "colab": {
          "base_uri": "https://localhost:8080/"
        },
        "id": "L2se65M1B64m",
        "outputId": "47bb5caf-43cd-43e8-c667-ca29a4a0fb97"
      },
      "execution_count": null,
      "outputs": [
        {
          "output_type": "stream",
          "name": "stdout",
          "text": [
            "{'u', 'e', 'a', 'o', 'i'}\n",
            "{'u', 'e', 'a', 'o', 'i'}\n",
            "{'u', 'e', 'a', 'o', 'i'}\n"
          ]
        }
      ]
    },
    {
      "cell_type": "markdown",
      "source": [
        "Create a set of squares for all numbers from 1 to 10, but only include the square if it’s an odd number."
      ],
      "metadata": {
        "id": "D3R_FLS1CpcC"
      }
    },
    {
      "cell_type": "code",
      "source": [
        "s = {i**2 for i in range(1,10) if i**2 %2 ==0 }\n",
        "print(s)\n",
        "\n",
        "# for loop\n",
        "s=set()\n",
        "for i in range(1,10):\n",
        "    if i**2 %2 ==0:\n",
        "        s.add(i**2)\n",
        "print(s)\n",
        "\n",
        "# while loop\n",
        "i = 1\n",
        "s = set()\n",
        "while i <10:\n",
        "    if i**2 %2==0:\n",
        "        s.add(i**2)\n",
        "    i+=1\n",
        "print(s)"
      ],
      "metadata": {
        "colab": {
          "base_uri": "https://localhost:8080/"
        },
        "id": "giCF6i3yB61d",
        "outputId": "53e05a7f-3775-42ca-db23-2b1555619b4d"
      },
      "execution_count": null,
      "outputs": [
        {
          "output_type": "stream",
          "name": "stdout",
          "text": [
            "{16, 64, 4, 36}\n",
            "{16, 64, 4, 36}\n",
            "{16, 64, 4, 36}\n"
          ]
        }
      ]
    }
  ]
}