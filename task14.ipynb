{
  "nbformat": 4,
  "nbformat_minor": 0,
  "metadata": {
    "colab": {
      "provenance": [],
      "authorship_tag": "ABX9TyPQjMSFBNUEDCckUWqRY0eb",
      "include_colab_link": true
    },
    "kernelspec": {
      "name": "python3",
      "display_name": "Python 3"
    },
    "language_info": {
      "name": "python"
    }
  },
  "cells": [
    {
      "cell_type": "markdown",
      "metadata": {
        "id": "view-in-github",
        "colab_type": "text"
      },
      "source": [
        "<a href=\"https://colab.research.google.com/github/Jayakrishna143/python/blob/main/task14.ipynb\" target=\"_parent\"><img src=\"https://colab.research.google.com/assets/colab-badge.svg\" alt=\"Open In Colab\"/></a>"
      ]
    },
    {
      "cell_type": "code",
      "execution_count": null,
      "metadata": {
        "colab": {
          "base_uri": "https://localhost:8080/"
        },
        "id": "Kb97EAW1iss8",
        "outputId": "b6651728-d9d9-4f99-a920-6ef19ad8518d"
      },
      "outputs": [
        {
          "output_type": "stream",
          "name": "stdout",
          "text": [
            "[4, 16, 36, 64, 100, 144, 196, 256, 324, 400]\n",
            "[4, 16, 36, 64, 100, 144, 196, 256, 324, 400]\n",
            "[4, 16, 36, 64, 100, 144, 196, 256, 324, 400]\n"
          ]
        }
      ],
      "source": [
        "l=[]\n",
        "for i in range(1,21):\n",
        "    if i%2==0:\n",
        "        j = i**2\n",
        "        l.append(j)\n",
        "print(l)\n",
        "\n",
        "o =[]\n",
        "i=1\n",
        "while i<=20:\n",
        "    if i%2==0:\n",
        "        j = i**2\n",
        "        o.append(j)\n",
        "    i+=1\n",
        "print(o)\n",
        "\n",
        "i = [j**2 for j in range(1,21) if j%2==0]\n",
        "print(i)"
      ]
    },
    {
      "cell_type": "markdown",
      "source": [
        "Create a list of the lengths of each word in a given sentence \"Python is awesome and fun\".\n"
      ],
      "metadata": {
        "id": "50VQ-NRskmGX"
      }
    },
    {
      "cell_type": "code",
      "source": [
        "l =[len(i) for i in \"Python is awesome and fun\".split()]\n",
        "print(l)\n",
        "\n",
        "l=[]\n",
        "s=0\n",
        "a = \"Python is awesome and fun\".split()\n",
        "while s < len(a):\n",
        "    k = len(a[s])\n",
        "    l.append(k)\n",
        "    s+=1\n",
        "print(l)\n",
        "\n",
        "o=[]\n",
        "a= \"Python is awesome and fun\".split()\n",
        "for i in a:\n",
        "    k = len(i)\n",
        "    o.append(k)\n",
        "print(o)"
      ],
      "metadata": {
        "colab": {
          "base_uri": "https://localhost:8080/"
        },
        "id": "8WHHlJ8skj_m",
        "outputId": "2b437265-db5e-4f49-db13-d9b79f2f9eb0"
      },
      "execution_count": null,
      "outputs": [
        {
          "output_type": "stream",
          "name": "stdout",
          "text": [
            "[6, 2, 7, 3, 3]\n",
            "[6, 2, 7, 3, 3]\n",
            "[6, 2, 7, 3, 3]\n"
          ]
        }
      ]
    },
    {
      "cell_type": "markdown",
      "source": [
        "Extract all numbers greater than 5 from a given list [2, 3, 5, 7, 10, 1, 4, 8]."
      ],
      "metadata": {
        "id": "SG7bNNYPlKtG"
      }
    },
    {
      "cell_type": "code",
      "source": [
        "o = [i for i in [2, 3, 5, 7, 10, 1, 4, 8] if i >5]\n",
        "print(o)\n",
        "#using for loop\n",
        "o=[]\n",
        "for i in [2, 3, 5, 7, 10, 1, 4, 8]:\n",
        "    if i>5:\n",
        "        o.append(i)\n",
        "print(o)\n",
        "\n",
        "#using while loop\n",
        "o=[]\n",
        "i =0\n",
        "a=[2, 3, 5, 7, 10, 1, 4, 8]\n",
        "while i<len(a):\n",
        "    if a[i]>5:\n",
        "      o.append(a[i])\n",
        "    i+=1\n",
        "print(o)\n",
        "\n"
      ],
      "metadata": {
        "colab": {
          "base_uri": "https://localhost:8080/"
        },
        "id": "b_4LGwVXlHCv",
        "outputId": "997ced1b-9668-4818-937f-a63fb4d47a86"
      },
      "execution_count": null,
      "outputs": [
        {
          "output_type": "stream",
          "name": "stdout",
          "text": [
            "[7, 10, 8]\n",
            "[7, 10, 8]\n",
            "[7, 10, 8]\n"
          ]
        }
      ]
    },
    {
      "cell_type": "markdown",
      "source": [
        "Create a list containing only the first character of each word in a given list [\"apple\", \"banana\", \"cherry\", \"date\"]."
      ],
      "metadata": {
        "id": "wysxdnvYlwl-"
      }
    },
    {
      "cell_type": "code",
      "source": [
        "v = [i[0] for i in  [\"apple\", \"banana\", \"cherry\", \"date\"] ]\n",
        "print(v)\n",
        "\n",
        "#using for loop\n",
        "a =[\"apple\", \"banana\", \"cherry\", \"date\"]\n",
        "v=[]\n",
        "for i in a:\n",
        "    v.append(i[0])\n",
        "print(v)\n",
        "\n",
        "#using while loop\n",
        "v=[]\n",
        "i=0\n",
        "while i<len(a):\n",
        "    v.append(a[i][0])\n",
        "    i+=1\n",
        "print(v)\n"
      ],
      "metadata": {
        "colab": {
          "base_uri": "https://localhost:8080/"
        },
        "id": "_a3h6U5VlqH4",
        "outputId": "c3721c9b-f6a1-4012-ae82-f3c06197cae7"
      },
      "execution_count": null,
      "outputs": [
        {
          "output_type": "stream",
          "name": "stdout",
          "text": [
            "['a', 'b', 'c', 'd']\n",
            "['a', 'b', 'c', 'd']\n",
            "['a', 'b', 'c', 'd']\n"
          ]
        }
      ]
    },
    {
      "cell_type": "markdown",
      "source": [
        "Create a list of tuples with the number and its square for numbers from 1 to 10."
      ],
      "metadata": {
        "id": "O2HDvvT2mGOD"
      }
    },
    {
      "cell_type": "code",
      "source": [
        "from re import L\n",
        "e = [(i,i**2) for i in range(1,11)]\n",
        "print(e,sep=' ')\n",
        "\n",
        "#for loop\n",
        "l=[]\n",
        "for i in range(1,11):\n",
        "    l.append((i,i**2))\n",
        "print(l)\n",
        "\n",
        "#while loop\n",
        "l=[]\n",
        "i=1\n",
        "while i<=10:\n",
        "    l.append((i,i**2))\n",
        "    i+=1\n",
        "print(l)"
      ],
      "metadata": {
        "colab": {
          "base_uri": "https://localhost:8080/"
        },
        "id": "p04m_OgUmG_8",
        "outputId": "e0d286a1-95b8-4da4-e548-8b83eda40278"
      },
      "execution_count": null,
      "outputs": [
        {
          "output_type": "stream",
          "name": "stdout",
          "text": [
            "[(1, 1), (2, 4), (3, 9), (4, 16), (5, 25), (6, 36), (7, 49), (8, 64), (9, 81), (10, 100)]\n",
            "[(1, 1), (2, 4), (3, 9), (4, 16), (5, 25), (6, 36), (7, 49), (8, 64), (9, 81), (10, 100)]\n",
            "[(1, 1), (2, 4), (3, 9), (4, 16), (5, 25), (6, 36), (7, 49), (8, 64), (9, 81), (10, 100)]\n"
          ]
        }
      ]
    },
    {
      "cell_type": "markdown",
      "source": [
        "Create a list of strings that are uppercase and have more than 3 letters from the list ['abc', 'DEF', 'ghi', 'JKL', 'mnop']."
      ],
      "metadata": {
        "id": "xeARI6lgml14"
      }
    },
    {
      "cell_type": "code",
      "source": [
        "y = [i for i in ['abc', 'DEF', 'ghi', 'JKL', 'mnop'] if i.isupper() and len(i)>3]\n",
        "print(y)\n",
        "\n",
        "#for loop\n",
        "a=['abc', 'DEF', 'ghi', 'JKL', 'mnop']\n",
        "y=[]\n",
        "for i in a:\n",
        "    if i.isupper() and len(i)>3:\n",
        "        y.append(i)\n",
        "print(y)\n",
        "\n",
        "#while loop\n",
        "i = 0\n",
        "y=[]\n",
        "while i <len(a):\n",
        "    if a[i].isupper() and len(a[i])>3:\n",
        "        y.append(a[i])\n",
        "    i+=1\n",
        "print(y)\n"
      ],
      "metadata": {
        "colab": {
          "base_uri": "https://localhost:8080/"
        },
        "id": "g_4hZkuymv-u",
        "outputId": "eb2bb086-2d6c-4baa-cdad-4b4a4bdd251d"
      },
      "execution_count": null,
      "outputs": [
        {
          "output_type": "stream",
          "name": "stdout",
          "text": [
            "[]\n",
            "[]\n",
            "[]\n"
          ]
        }
      ]
    },
    {
      "cell_type": "markdown",
      "source": [
        "Flatten a 2D list [[1, 2], [3, 4], [5, 6]] into a single list."
      ],
      "metadata": {
        "id": "O9S3c252nK1M"
      }
    },
    {
      "cell_type": "code",
      "source": [
        "o = [i for i in [[1, 2], [3, 4], [5, 6]]  for i in i]\n",
        "print(o)\n",
        "\n",
        "# for loop\n",
        "o =[]\n",
        "for i in [[1, 2], [3, 4], [5, 6]]:\n",
        "    for j in i:\n",
        "        o.append(j)\n",
        "print(o)\n",
        "\n",
        "# while loop\n",
        "a=[[1, 2], [3, 4], [5, 6]]\n",
        "i=0\n",
        "o=[]\n",
        "while i <len(a):\n",
        "    j=0\n",
        "    while j < len(a[i]):\n",
        "        o.append(a[i][j])\n",
        "        j+=1\n",
        "    i+=1\n",
        "print(o)\n"
      ],
      "metadata": {
        "colab": {
          "base_uri": "https://localhost:8080/"
        },
        "id": "5BHHtwarnQwh",
        "outputId": "3745a39f-d529-4db2-e640-38e73d250a1c"
      },
      "execution_count": null,
      "outputs": [
        {
          "output_type": "stream",
          "name": "stdout",
          "text": [
            "[1, 2, 3, 4, 5, 6]\n",
            "[1, 2, 3, 4, 5, 6]\n",
            "[1, 2, 3, 4, 5, 6]\n"
          ]
        }
      ]
    },
    {
      "cell_type": "markdown",
      "source": [
        "Given a list of numbers [1, 2, 3, 4, 5], generate a new list where each element is the result of multiplying the original number by 3, but only if the number is odd."
      ],
      "metadata": {
        "id": "uVsWGl0kp_K1"
      }
    },
    {
      "cell_type": "code",
      "source": [
        "u = [i*3 for i in [1,2,3,4,5] if i%2!=0]\n",
        "print(u)\n",
        "\n",
        "# for loop\n",
        "u =[]\n",
        "for i in [1,2,3,4,5]:\n",
        "    if i%2!=0:\n",
        "        u.append(i*3)\n",
        "print(u)\n",
        "\n",
        "# while loop\n",
        "a=[1,2,3,4,5]\n",
        "u=[]\n",
        "i=0\n",
        "while i<len(a):\n",
        "    if a[i]%2!=0:\n",
        "        u.append(a[i]*3)\n",
        "    i+=1\n",
        "print(u)"
      ],
      "metadata": {
        "colab": {
          "base_uri": "https://localhost:8080/"
        },
        "id": "rf__zHWlqB1l",
        "outputId": "9076b53c-91c8-4a48-ce6d-c8c9d90be453"
      },
      "execution_count": null,
      "outputs": [
        {
          "output_type": "stream",
          "name": "stdout",
          "text": [
            "[3, 9, 15]\n",
            "[3, 9, 15]\n",
            "[3, 9, 15]\n"
          ]
        }
      ]
    },
    {
      "cell_type": "markdown",
      "source": [
        "Using a nested ternary operator, create a list that replaces numbers greater than 10 with the string 'Large' and others with 'Small' from the list [5, 12, 9, 19, 7, 3].\n"
      ],
      "metadata": {
        "id": "J47sykaQqWHP"
      }
    },
    {
      "cell_type": "code",
      "source": [
        "m = ['large' if i>10 else 'small' for i in [5, 12, 9, 19, 7, 3]]\n",
        "print(m)\n",
        "\n",
        "# for loop\n",
        "a=[5, 12, 9, 19, 7, 3]\n",
        "m=[]\n",
        "for i in a:\n",
        "    if i>10:\n",
        "        m.append('large')\n",
        "    else:\n",
        "        m.append('small')\n",
        "print(m)\n",
        "\n",
        "# while loop\n",
        "m=[]\n",
        "i=0\n",
        "while i<len(a):\n",
        "    if a[i]>10:\n",
        "        m.append('large')\n",
        "    else:\n",
        "        m.append('small')\n",
        "    i+=1\n",
        "print(m)"
      ],
      "metadata": {
        "colab": {
          "base_uri": "https://localhost:8080/"
        },
        "id": "adNAsDlKqXkj",
        "outputId": "116970e0-3ca4-4e77-a261-b312369d4ef7"
      },
      "execution_count": null,
      "outputs": [
        {
          "output_type": "stream",
          "name": "stdout",
          "text": [
            "['small', 'large', 'small', 'large', 'small', 'small']\n",
            "['small', 'large', 'small', 'large', 'small', 'small']\n",
            "['small', 'large', 'small', 'large', 'small', 'small']\n"
          ]
        }
      ]
    }
  ]
}