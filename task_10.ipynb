{
  "nbformat": 4,
  "nbformat_minor": 0,
  "metadata": {
    "colab": {
      "provenance": [],
      "authorship_tag": "ABX9TyP7xCSE51mremt4YOQ1Kx89",
      "include_colab_link": true
    },
    "kernelspec": {
      "name": "python3",
      "display_name": "Python 3"
    },
    "language_info": {
      "name": "python"
    }
  },
  "cells": [
    {
      "cell_type": "markdown",
      "metadata": {
        "id": "view-in-github",
        "colab_type": "text"
      },
      "source": [
        "<a href=\"https://colab.research.google.com/github/Jayakrishna143/python/blob/tasks/task_10.ipynb\" target=\"_parent\"><img src=\"https://colab.research.google.com/assets/colab-badge.svg\" alt=\"Open In Colab\"/></a>"
      ]
    },
    {
      "cell_type": "code",
      "execution_count": null,
      "metadata": {
        "id": "63ncMS5buiyz",
        "colab": {
          "base_uri": "https://localhost:8080/"
        },
        "outputId": "7ec0d01b-0e9b-4092-dc79-be4a90ef7ba9"
      },
      "outputs": [
        {
          "output_type": "stream",
          "name": "stdout",
          "text": [
            "Enter string:my name is jayakrishna reddy\n",
            "Enter a substring or character:d\n",
            "26\n"
          ]
        }
      ],
      "source": [
        "#rindex\n",
        "s=input(\"Enter string:\")\n",
        "s1=input('Enter a substring or character:')\n",
        "for i in range(len(s)-len(s1)+1,-1,-1): #loop backward\n",
        "  if s[i:i+len(s1)]==s1:\n",
        "    print(i)\n",
        "    break\n",
        "else:\n",
        "  print('Error :string is not present')"
      ]
    },
    {
      "cell_type": "code",
      "source": [
        "#index\n",
        "s=input(\"Enter string:\")\n",
        "s1=input('Enter a substring or character:')\n",
        "for i in range(len(s)-len(s1)+1):\n",
        "  if s[i:i+len(s1)]==s1:\n",
        "    print(i)\n",
        "    break\n",
        "else:\n",
        "  print('Error :string is not present')"
      ],
      "metadata": {
        "colab": {
          "base_uri": "https://localhost:8080/"
        },
        "id": "E_0Rm4sCCsHm",
        "outputId": "1f929490-29ef-47d1-ce54-986bc1156a9f"
      },
      "execution_count": null,
      "outputs": [
        {
          "output_type": "stream",
          "name": "stdout",
          "text": [
            "Enter string:my name is jayakrishna \n",
            "Enter a substring or character:name \n",
            "3\n"
          ]
        }
      ]
    },
    {
      "cell_type": "code",
      "source": [
        "#rfind\n",
        "s=input(\"Enter string:\")\n",
        "s1=input('Enter a substring or character:')\n",
        "for i in range(len(s)-len(s1)+1,-1,-1): #loop backward\n",
        "  if s[i:i+len(s1)]==s1:\n",
        "    print(i)\n",
        "    break\n",
        "else:\n",
        "  print(-1)"
      ],
      "metadata": {
        "id": "AmBzQbX_u22p",
        "colab": {
          "base_uri": "https://localhost:8080/"
        },
        "outputId": "d2f837ad-7a5f-4f23-ff2e-4c1c72903603"
      },
      "execution_count": null,
      "outputs": [
        {
          "output_type": "stream",
          "name": "stdout",
          "text": [
            "Enter string:my name is jayakrishna reddy\n",
            "Enter a substring or character:d\n",
            "26\n"
          ]
        }
      ]
    },
    {
      "cell_type": "code",
      "source": [
        "#startswith\n",
        "s=input(\"Enter string:\")\n",
        "s1=input('Enter a substring or character:')\n",
        "if s[0:len(s1)]==s1:\n",
        "  print('True')\n",
        "else:\n",
        "  print('False')\n"
      ],
      "metadata": {
        "id": "EgCuTg4Su2zr",
        "colab": {
          "base_uri": "https://localhost:8080/"
        },
        "outputId": "1ecd0017-6cdc-4b96-a144-884798914acd"
      },
      "execution_count": null,
      "outputs": [
        {
          "output_type": "stream",
          "name": "stdout",
          "text": [
            "Enter string:my name is jayakrishna reddy\n",
            "Enter a substring or character:my \n",
            "True\n"
          ]
        }
      ]
    },
    {
      "cell_type": "code",
      "source": [
        "#partition\n",
        "s=input(\"Enter string:\")\n",
        "s1=input('Enter a partition  character:')\n",
        "if s1 not in s:\n",
        "  print(s,'','')\n",
        "else:\n",
        "  for i in range(len(s)-len(s1)+1):\n",
        "    if s[i:i+len(s1)]==s1:\n",
        "      before=s[0:i]\n",
        "      after=s[i+len(s1):]\n",
        "      break\n",
        "  print((before,s1,after))\n",
        "\n",
        "\n"
      ],
      "metadata": {
        "id": "YvzhjqSUu2wb",
        "colab": {
          "base_uri": "https://localhost:8080/"
        },
        "outputId": "63318b59-7399-4634-a6ee-3ddb27662e8a"
      },
      "execution_count": null,
      "outputs": [
        {
          "output_type": "stream",
          "name": "stdout",
          "text": [
            "Enter string:my name is jayakrishna \n",
            "Enter a partition  character:is \n",
            "('my name ', 'is ', 'jayakrishna ')\n"
          ]
        }
      ]
    },
    {
      "cell_type": "code",
      "source": [
        "#swapcase string using forloop\n",
        "s=input('Enter a string:')\n",
        "s1=''\n",
        "for i in s:\n",
        "  if ord(i) in range(ord('a'),ord('z')+1):\n",
        "    s1 +=chr(ord(i)-32)\n",
        "  elif ord(i) in range(ord('A'),ord('Z')+1):\n",
        "    s1 +=chr(ord(i)+32)\n",
        "  else:\n",
        "    s1+=i\n",
        "s1\n",
        "\n"
      ],
      "metadata": {
        "id": "LZno2ac7u2s-",
        "colab": {
          "base_uri": "https://localhost:8080/",
          "height": 53
        },
        "outputId": "da3eea13-7ae9-48db-8137-cfe4325833cd"
      },
      "execution_count": null,
      "outputs": [
        {
          "name": "stdout",
          "output_type": "stream",
          "text": [
            "Enter a string:my name is JayaKrishna\n"
          ]
        },
        {
          "output_type": "execute_result",
          "data": {
            "text/plain": [
              "'MY NAME IS jAYAkRISHNA'"
            ],
            "application/vnd.google.colaboratory.intrinsic+json": {
              "type": "string"
            }
          },
          "metadata": {},
          "execution_count": 6
        }
      ]
    },
    {
      "cell_type": "code",
      "source": [
        "#count\n",
        "s=input(\"Enter string:\")\n",
        "s1=input('Enter a substring or character:')\n",
        "c=0\n",
        "for i in range(len(s)-len(s1)+1):\n",
        "  if s[i:i+len(s1)]==s1:\n",
        "    c+=1\n",
        "print('count:',c)\n"
      ],
      "metadata": {
        "colab": {
          "base_uri": "https://localhost:8080/"
        },
        "id": "rihY63_9DWP_",
        "outputId": "91bb2288-6875-4c6b-ba9e-f52d76f99362"
      },
      "execution_count": null,
      "outputs": [
        {
          "output_type": "stream",
          "name": "stdout",
          "text": [
            "Enter string:my name is jayakrishna reddy\n",
            "Enter a substring or character:a\n",
            "count: 4\n"
          ]
        }
      ]
    },
    {
      "cell_type": "code",
      "source": [
        "#lower\n",
        "s=input(\"Enter the string:\")\n",
        "s1=''\n",
        "for i in s:\n",
        "  if ord(i) in range(ord('A'),ord('Z')+1):\n",
        "    s1+= chr(ord(i)+32)\n",
        "  else:\n",
        "    s1+=i\n",
        "s1\n"
      ],
      "metadata": {
        "id": "E3b-2Pviu2qk",
        "colab": {
          "base_uri": "https://localhost:8080/",
          "height": 53
        },
        "outputId": "e40aa83d-4aaf-491e-f4d6-cac09e2e065c"
      },
      "execution_count": null,
      "outputs": [
        {
          "name": "stdout",
          "output_type": "stream",
          "text": [
            "Enter the string:MY name IS jayaKRISHNA\n"
          ]
        },
        {
          "output_type": "execute_result",
          "data": {
            "text/plain": [
              "'my name is jayakrishna'"
            ],
            "application/vnd.google.colaboratory.intrinsic+json": {
              "type": "string"
            }
          },
          "metadata": {},
          "execution_count": 7
        }
      ]
    },
    {
      "cell_type": "code",
      "source": [
        "#islower\n",
        "s=input('Enter a string:')\n",
        "x=True\n",
        "for i in s:\n",
        "  if ord(i) in range(ord('A'),ord('Z')):\n",
        "    x=False\n",
        "    break\n",
        "print(f'{s} islower:{x}')\n"
      ],
      "metadata": {
        "id": "P4gdDUP0u2nt",
        "colab": {
          "base_uri": "https://localhost:8080/"
        },
        "outputId": "4162167b-e50b-4094-e4f6-999cce3eaa18"
      },
      "execution_count": null,
      "outputs": [
        {
          "output_type": "stream",
          "name": "stdout",
          "text": [
            "Enter a string:MY name is jayakrishna\n",
            "MY name is jayakrishna islower:False\n"
          ]
        }
      ]
    },
    {
      "cell_type": "code",
      "source": [
        "#isalpha\n",
        "s=input('Enter a string:')\n",
        "x=True\n",
        "for i in s:\n",
        "  if ord(i) not in range(ord('a'),ord('z')) and ord(i) not in range(ord('A'),ord('Z')):\n",
        "    x=False\n",
        "    break\n",
        "print(f'{s} isalpha:{x}')"
      ],
      "metadata": {
        "id": "v329IR2tu2k8",
        "colab": {
          "base_uri": "https://localhost:8080/"
        },
        "outputId": "e7fc13a9-21f3-48f2-8be0-4092dd94cedc"
      },
      "execution_count": null,
      "outputs": [
        {
          "output_type": "stream",
          "name": "stdout",
          "text": [
            "Enter a string:my name is jayakrishna \n",
            "my name is jayakrishna  isalpha:False\n"
          ]
        }
      ]
    },
    {
      "cell_type": "code",
      "source": [
        "#isdecimal\n",
        "s=input('Enter a string:')\n",
        "x=True\n",
        "for i in s:\n",
        "  if ord(i) not in range(ord('0'),ord('9')):\n",
        "    x=False\n",
        "    break\n",
        "print(f'{s} isdecimal:{x}')"
      ],
      "metadata": {
        "id": "3JClsjaWu2iU",
        "colab": {
          "base_uri": "https://localhost:8080/"
        },
        "outputId": "acf9a123-de0f-42ec-82ac-bf2dacb04c63"
      },
      "execution_count": null,
      "outputs": [
        {
          "output_type": "stream",
          "name": "stdout",
          "text": [
            "Enter a string:my name is jayakrishna \n",
            "my name is jayakrishna  isdecimal:False\n"
          ]
        }
      ]
    },
    {
      "cell_type": "code",
      "source": [
        "s = input('Enter a string: ')\n",
        "#  Roman numeral characters\n",
        "roman_numerals = \"IVXLCDMivxlcdm\"\n",
        "\n",
        "\n",
        "superscript_range = range(0x00B2, 0x00B4)  # For ² and ³\n",
        "superscript_range_2 = range(0x2070, 0x2080)  # For superscript digits ⁰ to ⁹\n",
        "\n",
        "x = True\n",
        "for i in s:\n",
        "    # Check if the character is a regular digit (0-9)\n",
        "    if ord(i) in range(ord('0'), ord('9') + 1):\n",
        "        continue\n",
        "    # Check if the character is a superscript digit (², ³, ⁰)\n",
        "    elif ord(i) in superscript_range or ord(i) in superscript_range_2:\n",
        "        continue\n",
        "    # Check for other numeric characters like fractions (e.g., ½, ⅓, )\n",
        "    elif ord(i) in range(0x2150, 0x2188):  # Unicode range for fractions and numeric symbols\n",
        "        continue\n",
        "    # Check if the character is a Roman numeral character\n",
        "    elif i in roman_numerals:\n",
        "        continue\n",
        "    # If the character is neither a valid number nor Roman numeral, it's not numeric\n",
        "    else:\n",
        "        x = False\n",
        "        break\n",
        "x"
      ],
      "metadata": {
        "id": "YTdQNKuLu2fc",
        "colab": {
          "base_uri": "https://localhost:8080/"
        },
        "outputId": "117124b4-073e-4261-bb6e-ca5b55428c40"
      },
      "execution_count": null,
      "outputs": [
        {
          "name": "stdout",
          "output_type": "stream",
          "text": [
            "Enter a string: 12\n"
          ]
        },
        {
          "output_type": "execute_result",
          "data": {
            "text/plain": [
              "True"
            ]
          },
          "metadata": {},
          "execution_count": 13
        }
      ]
    },
    {
      "cell_type": "code",
      "source": [
        "#zfill\n",
        "i = input(\"Enter the string: \")\n",
        "j = int(input(\"Enter the desired width: \"))\n",
        "if j <= len(i):\n",
        "    print(i)\n",
        "else:\n",
        "    print('0' * (j-len(i))+i)\n",
        "\n"
      ],
      "metadata": {
        "id": "FODYdIyiu2cM",
        "colab": {
          "base_uri": "https://localhost:8080/"
        },
        "outputId": "c7e0177f-a9e2-4bb9-8e54-cb153660d006"
      },
      "execution_count": null,
      "outputs": [
        {
          "output_type": "stream",
          "name": "stdout",
          "text": [
            "Enter the string: jaya\n",
            "Enter the desired width: 10\n",
            "000000jaya\n"
          ]
        }
      ]
    },
    {
      "cell_type": "code",
      "source": [
        "#capitalize string using for loop\n",
        "s=input('Enter a string:')\n",
        "s1=''\n",
        "for i in range(len(s)):\n",
        "  if i==0:\n",
        "    if ord(s[0]) in range(ord('a'),ord('z')+1):\n",
        "      s1+=chr(ord(s[0])-32)\n",
        "  else:\n",
        "    if ord(s[i]) in range(ord('A'),ord('Z')+1):\n",
        "      s1+=chr(ord(s[i])+32)\n",
        "    else:\n",
        "      s1+=s[i]\n",
        "s1"
      ],
      "metadata": {
        "id": "IUVQr3fkvUZY",
        "colab": {
          "base_uri": "https://localhost:8080/",
          "height": 53
        },
        "outputId": "9983cffa-1f82-4bbd-83e1-434848b2026d"
      },
      "execution_count": null,
      "outputs": [
        {
          "name": "stdout",
          "output_type": "stream",
          "text": [
            "Enter a string:my name is jayakrishna\n"
          ]
        },
        {
          "output_type": "execute_result",
          "data": {
            "text/plain": [
              "'My name is jayakrishna'"
            ],
            "application/vnd.google.colaboratory.intrinsic+json": {
              "type": "string"
            }
          },
          "metadata": {},
          "execution_count": 15
        }
      ]
    },
    {
      "cell_type": "code",
      "source": [
        "#split\n",
        "s=input('Enter a string:')\n",
        "s1=''\n",
        "s3=input('Enter a string:')\n",
        "# ls=s.split()\n",
        "ls=[]\n",
        "s2=''\n",
        "if not s3:\n",
        "  for j in s:\n",
        "    if j !=' ':\n",
        "      s2+=j\n",
        "    else:\n",
        "      if s2:\n",
        "        ls.append(s2)\n",
        "        s2=''\n",
        "  ls.append(s2)\n",
        "else:\n",
        "  for j in s:\n",
        "    if j !=s3:\n",
        "      s2+=j\n",
        "    else:\n",
        "      if s2:\n",
        "        ls.append(s2)\n",
        "        s2=''\n",
        "  ls.append(s2)\n",
        "ls\n"
      ],
      "metadata": {
        "id": "mNtsbrrdvUVt",
        "colab": {
          "base_uri": "https://localhost:8080/"
        },
        "outputId": "194cefc0-8ea4-44f3-b7f9-3ff6acefafb0"
      },
      "execution_count": null,
      "outputs": [
        {
          "name": "stdout",
          "output_type": "stream",
          "text": [
            "Enter a string:my name is jayakrishna \n",
            "Enter a string: \n"
          ]
        },
        {
          "output_type": "execute_result",
          "data": {
            "text/plain": [
              "['my', 'name', 'is', 'jayakrishna', '']"
            ]
          },
          "metadata": {},
          "execution_count": 18
        }
      ]
    },
    {
      "cell_type": "code",
      "source": [
        "#ljust\n",
        "x=input('Enter the string:')\n",
        "y=int(input('Enter the width of string:'))\n",
        "c=input('Enter the charecter:')\n",
        "if len(c)==0:\n",
        "  c=' '\n",
        "else:\n",
        "  c=c\n",
        "if y<=len(x):\n",
        "  print(x)\n",
        "else:\n",
        "  print((y-len(x))*c+x)"
      ],
      "metadata": {
        "id": "Vpd8muZNvUSz",
        "colab": {
          "base_uri": "https://localhost:8080/"
        },
        "outputId": "0b331134-c692-468f-b111-50af36b05d23"
      },
      "execution_count": null,
      "outputs": [
        {
          "output_type": "stream",
          "name": "stdout",
          "text": [
            "Enter the string:jaya\n",
            "Enter the width of string:10\n",
            "Enter the charecter:*\n",
            "******jaya\n"
          ]
        }
      ]
    },
    {
      "cell_type": "code",
      "source": [
        "# Input values\n",
        "string = input(\"Enter the string: \")\n",
        "prefix = input('Enter a prefix: ')\n",
        "if len(string) >= len(prefix):\n",
        "    match = True\n",
        "    for i in range(len(prefix)):\n",
        "        if string[i] != prefix[i]:\n",
        "            match = False\n",
        "            break\n",
        "    if match:\n",
        "        result = string[len(prefix):]\n",
        "print(result)"
      ],
      "metadata": {
        "id": "MmE5hsIVvUPz",
        "colab": {
          "base_uri": "https://localhost:8080/"
        },
        "outputId": "f7b1bef3-32b6-436b-d4c1-342468383fe5"
      },
      "execution_count": null,
      "outputs": [
        {
          "output_type": "stream",
          "name": "stdout",
          "text": [
            "Enter the string: jaya krishna \n",
            "Enter a prefixjaya \n",
            "krishna \n"
          ]
        }
      ]
    },
    {
      "cell_type": "code",
      "source": [
        "#removesuffix\n",
        "string = input(\"Enter the string: \")\n",
        "suffix = input('Enter a suffix: ')\n",
        "if len(string) >= len(suffix):\n",
        "    match = True\n",
        "    for i in range(-len(suffix)):\n",
        "        if string[i] != suffix[i]:\n",
        "            match = False\n",
        "            break\n",
        "    if match:\n",
        "        result = string[:-len(suffix)]\n",
        "print(result)"
      ],
      "metadata": {
        "id": "QqU7b5pDvgng",
        "colab": {
          "base_uri": "https://localhost:8080/"
        },
        "outputId": "9565c81a-0c56-4307-d84a-fef81ff00ea5"
      },
      "execution_count": null,
      "outputs": [
        {
          "output_type": "stream",
          "name": "stdout",
          "text": [
            "Enter the string: jaya krishna\n",
            "Enter a suffix: krishna\n",
            "jaya \n"
          ]
        }
      ]
    }
  ]
}