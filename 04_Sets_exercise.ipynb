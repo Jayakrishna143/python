{
  "cells": [
    {
      "cell_type": "markdown",
      "metadata": {
        "id": "view-in-github",
        "colab_type": "text"
      },
      "source": [
        "<a href=\"https://colab.research.google.com/github/Jayakrishna143/python/blob/main/04_Sets_exercise.ipynb\" target=\"_parent\"><img src=\"https://colab.research.google.com/assets/colab-badge.svg\" alt=\"Open In Colab\"/></a>"
      ]
    },
    {
      "cell_type": "markdown",
      "metadata": {
        "id": "r5cxBitMgRsd"
      },
      "source": [
        "# Assignment Instructions\n",
        "\n",
        "`Hello Innominion,`\n",
        "\n",
        "- **Try to attempt all the questions in every possible way.**\n",
        "- **Some other topics are required to solve some questions. don't panic.**\n",
        "- **Those questions can be answered after the topics are taught.**\n",
        "\n",
        "\n",
        "- `Join Mentoring Session for the Support/Doubts Resolving with Our Technical Mentors (2.00 PM - 6.00 PM  Mon-Sat)`\n",
        "\n",
        "Happy Learning !!!"
      ]
    },
    {
      "cell_type": "markdown",
      "metadata": {
        "id": "NU2dniV9gRsh"
      },
      "source": [
        "###  Sets"
      ]
    },
    {
      "cell_type": "markdown",
      "metadata": {
        "id": "2_BJcl0vgRsi"
      },
      "source": [
        "> **`Question:` Create a set \"s\" with elements**\n",
        "\n",
        "1 , 2 , 'innomatics', 'hub'\n",
        "\n"
      ]
    },
    {
      "cell_type": "code",
      "execution_count": 18,
      "metadata": {
        "colab": {
          "base_uri": "https://localhost:8080/"
        },
        "id": "F7743WQmgRsj",
        "outputId": "66a51822-c234-44a4-b0db-142d6eb91dc1"
      },
      "outputs": [
        {
          "output_type": "execute_result",
          "data": {
            "text/plain": [
              "{1, 2, 'hub', 'innomatics'}"
            ]
          },
          "metadata": {},
          "execution_count": 18
        }
      ],
      "source": [
        "# CODE HERE\n",
        "s = {1,2,'innomatics','hub'}\n",
        "s"
      ]
    },
    {
      "cell_type": "code",
      "execution_count": null,
      "metadata": {
        "id": "qvyRu1XFgRsk",
        "outputId": "2653a66e-58ff-46a4-cf58-b54211612acb"
      },
      "outputs": [
        {
          "data": {
            "text/plain": [
              "{1, 2, 'hub', 'innomatics'}"
            ]
          },
          "execution_count": 9,
          "metadata": {},
          "output_type": "execute_result"
        }
      ],
      "source": [
        "s"
      ]
    },
    {
      "cell_type": "markdown",
      "metadata": {
        "id": "JO9vqEwNgRsm"
      },
      "source": [
        "> **`Question:` Add element 'Technology' in s**"
      ]
    },
    {
      "cell_type": "code",
      "execution_count": 14,
      "metadata": {
        "colab": {
          "base_uri": "https://localhost:8080/"
        },
        "id": "z5qsPHMlgRsn",
        "outputId": "183a8e6f-1667-410e-ce30-60d54189d938"
      },
      "outputs": [
        {
          "output_type": "execute_result",
          "data": {
            "text/plain": [
              "{1, 2, 'Technology', 'hub', 'innomatics'}"
            ]
          },
          "metadata": {},
          "execution_count": 14
        }
      ],
      "source": [
        "# CODE HERE\n",
        "s.add('Technology')\n",
        "s"
      ]
    },
    {
      "cell_type": "code",
      "execution_count": null,
      "metadata": {
        "id": "Hlm4M6YMgRso",
        "outputId": "c8abb9b9-a9a5-4384-f720-24ac35e045b1"
      },
      "outputs": [
        {
          "data": {
            "text/plain": [
              "{1, 2, 'Technology', 'hub', 'innomatics'}"
            ]
          },
          "execution_count": 10,
          "metadata": {},
          "output_type": "execute_result"
        }
      ],
      "source": []
    },
    {
      "cell_type": "markdown",
      "metadata": {
        "id": "5-JoPit6gRsp"
      },
      "source": [
        "> **`Question:` Create one more set \"sc\" with elements**\n",
        "\n",
        "3,4, 'hub', 'Technology'"
      ]
    },
    {
      "cell_type": "code",
      "execution_count": null,
      "metadata": {
        "id": "8PnSwnPVgRsp"
      },
      "outputs": [],
      "source": [
        "# CODE HERE"
      ]
    },
    {
      "cell_type": "code",
      "execution_count": 19,
      "metadata": {
        "colab": {
          "base_uri": "https://localhost:8080/"
        },
        "id": "DuEUui5KgRsq",
        "outputId": "deabf553-6b3f-47d1-ff94-36eb31b29d63"
      },
      "outputs": [
        {
          "output_type": "execute_result",
          "data": {
            "text/plain": [
              "{3, 4, 'Technology', 'hub'}"
            ]
          },
          "metadata": {},
          "execution_count": 19
        }
      ],
      "source": [
        "sc = {3,4,'Technology','hub'}\n",
        "sc"
      ]
    },
    {
      "cell_type": "code",
      "execution_count": null,
      "metadata": {
        "id": "R2G2WCY7gRsq",
        "outputId": "6e82fe30-6cc3-4875-d2cf-67e0a8b101c0"
      },
      "outputs": [
        {
          "data": {
            "text/plain": [
              "{3, 4, 'Technology', 'hub'}"
            ]
          },
          "execution_count": 12,
          "metadata": {},
          "output_type": "execute_result"
        }
      ],
      "source": [
        "sc"
      ]
    },
    {
      "cell_type": "markdown",
      "metadata": {
        "id": "QS01nT2VgRsr"
      },
      "source": [
        "> **`Question:` Find difference of two sets s and sc**\n",
        "\n",
        "s - sc"
      ]
    },
    {
      "cell_type": "code",
      "execution_count": 6,
      "metadata": {
        "colab": {
          "base_uri": "https://localhost:8080/"
        },
        "id": "d-J2yVZigRsr",
        "outputId": "55bbff93-a86d-41e6-8942-77bb1e3062e7"
      },
      "outputs": [
        {
          "output_type": "execute_result",
          "data": {
            "text/plain": [
              "{1, 2, 'innomatics'}"
            ]
          },
          "metadata": {},
          "execution_count": 6
        }
      ],
      "source": [
        "# CODE HERE\n",
        "s.difference(sc)"
      ]
    },
    {
      "cell_type": "code",
      "execution_count": null,
      "metadata": {
        "id": "UA-LEJVbgRss",
        "outputId": "7002d650-86c0-4d43-f80d-ccce9a5f8a2c"
      },
      "outputs": [
        {
          "data": {
            "text/plain": [
              "{1, 2, 'innomatics'}"
            ]
          },
          "execution_count": 14,
          "metadata": {},
          "output_type": "execute_result"
        }
      ],
      "source": []
    },
    {
      "cell_type": "markdown",
      "metadata": {
        "id": "zkIYip7AgRss"
      },
      "source": [
        "> **`Question:` remove 2 from set s**"
      ]
    },
    {
      "cell_type": "code",
      "execution_count": 15,
      "metadata": {
        "colab": {
          "base_uri": "https://localhost:8080/"
        },
        "id": "gbTY-KRjgRss",
        "outputId": "398d4ffe-5f84-40e5-af3b-2551ded99b42"
      },
      "outputs": [
        {
          "output_type": "execute_result",
          "data": {
            "text/plain": [
              "{1, 2, 'Technology', 'hub', 'innomatics'}"
            ]
          },
          "metadata": {},
          "execution_count": 15
        }
      ],
      "source": [
        "s"
      ]
    },
    {
      "cell_type": "code",
      "execution_count": 16,
      "metadata": {
        "colab": {
          "base_uri": "https://localhost:8080/"
        },
        "id": "Sm2F_NOngRst",
        "outputId": "7d0b3d37-8255-4ba0-d526-e1bc7c084120"
      },
      "outputs": [
        {
          "output_type": "execute_result",
          "data": {
            "text/plain": [
              "{1, 'Technology', 'hub', 'innomatics'}"
            ]
          },
          "metadata": {},
          "execution_count": 16
        }
      ],
      "source": [
        "# CODE HERE\n",
        "s.remove(2)\n",
        "s"
      ]
    },
    {
      "cell_type": "code",
      "execution_count": null,
      "metadata": {
        "id": "hAuBcxaJgRst",
        "outputId": "32603f61-7898-4ba2-c613-6773b1620445"
      },
      "outputs": [
        {
          "data": {
            "text/plain": [
              "{1, 'Technology', 'hub', 'innomatics'}"
            ]
          },
          "execution_count": 17,
          "metadata": {},
          "output_type": "execute_result"
        }
      ],
      "source": [
        "s"
      ]
    },
    {
      "cell_type": "markdown",
      "metadata": {
        "id": "fiJd2UK7gRsu"
      },
      "source": [
        "> **`Question:`Print common element in two sets s and sc**\n",
        "\n",
        "s intersection sc"
      ]
    },
    {
      "cell_type": "code",
      "execution_count": 17,
      "metadata": {
        "colab": {
          "base_uri": "https://localhost:8080/"
        },
        "id": "G4mH9uTugRsu",
        "outputId": "b9d98128-a0a0-44d9-de41-417b144e7ab7"
      },
      "outputs": [
        {
          "output_type": "execute_result",
          "data": {
            "text/plain": [
              "{'Technology', 'hub'}"
            ]
          },
          "metadata": {},
          "execution_count": 17
        }
      ],
      "source": [
        "# CODE HERE\n",
        "s.intersection(sc)\n"
      ]
    },
    {
      "cell_type": "code",
      "execution_count": null,
      "metadata": {
        "id": "CY6b_vl5gRsu",
        "outputId": "53e4f70c-3066-4bef-91e2-f5943ac036b0"
      },
      "outputs": [
        {
          "data": {
            "text/plain": [
              "{'Technology', 'hub'}"
            ]
          },
          "execution_count": 18,
          "metadata": {},
          "output_type": "execute_result"
        }
      ],
      "source": []
    },
    {
      "cell_type": "markdown",
      "metadata": {
        "id": "u9dkGoNZgRsu"
      },
      "source": [
        "> **`Question:`Print all element in two sets**\n",
        "\n",
        "s union sc"
      ]
    },
    {
      "cell_type": "code",
      "execution_count": 20,
      "metadata": {
        "colab": {
          "base_uri": "https://localhost:8080/"
        },
        "id": "8-vxkWsggRsv",
        "outputId": "f5e67c41-2b54-4e4b-f90a-f030a971166c"
      },
      "outputs": [
        {
          "output_type": "execute_result",
          "data": {
            "text/plain": [
              "{1, 2, 3, 4, 'Technology', 'hub', 'innomatics'}"
            ]
          },
          "metadata": {},
          "execution_count": 20
        }
      ],
      "source": [
        "# CODE HERE\n",
        "s.union(sc)"
      ]
    },
    {
      "cell_type": "code",
      "execution_count": null,
      "metadata": {
        "id": "EHkGV_IVgRsv",
        "outputId": "ec1de050-d160-4904-e62a-7d5b42815ee0"
      },
      "outputs": [
        {
          "data": {
            "text/plain": [
              "{1, 3, 4, 'Technology', 'hub', 'innomatics'}"
            ]
          },
          "execution_count": 20,
          "metadata": {},
          "output_type": "execute_result"
        }
      ],
      "source": []
    },
    {
      "cell_type": "markdown",
      "metadata": {
        "id": "4lA279jwgRsv"
      },
      "source": [
        "**`Question:`Add a list of elements to a set**\n",
        "- fruits = {\"orange\",'apple','kiwi'}\n",
        "- colors = ['orange','red','green']"
      ]
    },
    {
      "cell_type": "code",
      "execution_count": 21,
      "metadata": {
        "colab": {
          "base_uri": "https://localhost:8080/"
        },
        "id": "VqFi_XvugRsw",
        "outputId": "913b3aa4-3687-401e-dfb6-86fa21b795d8"
      },
      "outputs": [
        {
          "output_type": "execute_result",
          "data": {
            "text/plain": [
              "{'apple', 'green', 'kiwi', 'orange', 'red'}"
            ]
          },
          "metadata": {},
          "execution_count": 21
        }
      ],
      "source": [
        "# CODE HERE\n",
        "fruits = {\"orange\",'apple','kiwi'}\n",
        "colors = ['orange','red','green']\n",
        "fruits.update(colors)\n",
        "fruits"
      ]
    },
    {
      "cell_type": "code",
      "execution_count": null,
      "metadata": {
        "id": "aQ-sZOPqgRsw",
        "outputId": "e88a29bd-3265-4e2b-fc11-352ab4a97082"
      },
      "outputs": [
        {
          "data": {
            "text/plain": [
              "{'apple', 'green', 'kiwi', 'orange', 'red'}"
            ]
          },
          "execution_count": 2,
          "metadata": {},
          "output_type": "execute_result"
        }
      ],
      "source": [
        "fruits"
      ]
    },
    {
      "cell_type": "markdown",
      "metadata": {
        "id": "Ia6AFRosgRsw"
      },
      "source": [
        "**`Question:`Remove items 10, 20, 30 from the following set at once**\n",
        "- set1 = {10, 20, 30, 40, 50}"
      ]
    },
    {
      "cell_type": "code",
      "execution_count": 22,
      "metadata": {
        "colab": {
          "base_uri": "https://localhost:8080/"
        },
        "id": "y6w9iqZegRsx",
        "outputId": "49fd9c96-8542-4986-bfb1-61225a066a68"
      },
      "outputs": [
        {
          "output_type": "execute_result",
          "data": {
            "text/plain": [
              "{40, 50}"
            ]
          },
          "metadata": {},
          "execution_count": 22
        }
      ],
      "source": [
        "# CODE HERE\n",
        "seta ={i for i in {10, 20, 30, 40, 50} if i not in [10,20,30]}\n",
        "seta"
      ]
    },
    {
      "cell_type": "code",
      "execution_count": null,
      "metadata": {
        "id": "GGYfR5DbgRsx",
        "outputId": "d4e34296-beef-4b31-fe15-dc112acc7469"
      },
      "outputs": [
        {
          "name": "stdout",
          "output_type": "stream",
          "text": [
            "{40, 50}\n"
          ]
        }
      ],
      "source": []
    },
    {
      "cell_type": "markdown",
      "metadata": {
        "id": "mUaOAbKzgRsx"
      },
      "source": [
        "# [Innomatics Research Labs](https:/innomatics.in/)\n",
        "[www.innomatics.in](https:/innomatics.in/)"
      ]
    },
    {
      "cell_type": "code",
      "execution_count": null,
      "metadata": {
        "id": "RE93K8kmgRsy"
      },
      "outputs": [],
      "source": []
    }
  ],
  "metadata": {
    "kernelspec": {
      "display_name": "Python 3",
      "language": "python",
      "name": "python3"
    },
    "language_info": {
      "codemirror_mode": {
        "name": "ipython",
        "version": 3
      },
      "file_extension": ".py",
      "mimetype": "text/x-python",
      "name": "python",
      "nbconvert_exporter": "python",
      "pygments_lexer": "ipython3",
      "version": "3.8.5"
    },
    "colab": {
      "provenance": [],
      "include_colab_link": true
    }
  },
  "nbformat": 4,
  "nbformat_minor": 0
}