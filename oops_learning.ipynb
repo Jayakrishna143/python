{
  "nbformat": 4,
  "nbformat_minor": 0,
  "metadata": {
    "colab": {
      "provenance": [],
      "authorship_tag": "ABX9TyNCcIbNucjPJlzBU3bQoyax",
      "include_colab_link": true
    },
    "kernelspec": {
      "name": "python3",
      "display_name": "Python 3"
    },
    "language_info": {
      "name": "python"
    }
  },
  "cells": [
    {
      "cell_type": "markdown",
      "metadata": {
        "id": "view-in-github",
        "colab_type": "text"
      },
      "source": [
        "<a href=\"https://colab.research.google.com/github/Jayakrishna143/python/blob/main/oops_learning.ipynb\" target=\"_parent\"><img src=\"https://colab.research.google.com/assets/colab-badge.svg\" alt=\"Open In Colab\"/></a>"
      ]
    },
    {
      "cell_type": "code",
      "execution_count": null,
      "metadata": {
        "id": "7IybJwbdN39g"
      },
      "outputs": [],
      "source": [
        "class Employee:\n",
        "    pass\n"
      ]
    },
    {
      "cell_type": "code",
      "source": [
        "def square(n):\n",
        "    return n*n\n",
        "def cube(n):\n",
        "    return n*n*n\n",
        "\n",
        "def my_map(func,arg_list):\n",
        "    result =[]\n",
        "    for i in arg_list:\n",
        "        result.append(func(i))\n",
        "    return result\n",
        "\n",
        "squares = my_map(square,[1,2,3,4,5])\n",
        "cubes = my_map(cube,[1,2,3,4,5])\n",
        "print(squares)\n",
        "print(cubes)"
      ],
      "metadata": {
        "id": "00pM1hbQOASh",
        "colab": {
          "base_uri": "https://localhost:8080/"
        },
        "outputId": "d385378a-3e72-4efc-a7de-72602e99e46b"
      },
      "execution_count": null,
      "outputs": [
        {
          "output_type": "stream",
          "name": "stdout",
          "text": [
            "[1, 4, 9, 16, 25]\n",
            "[1, 8, 27, 64, 125]\n"
          ]
        }
      ]
    },
    {
      "cell_type": "code",
      "source": [
        "foo = lambda tl: sum((foo(sub) if isinstance(sub, list) else [sub] for sub in tl), [])\n",
        "foo([1,2,[3,4,[5,[6,[7,8,9,[10]]]]]])"
      ],
      "metadata": {
        "colab": {
          "base_uri": "https://localhost:8080/"
        },
        "id": "Jf1pI0ST6_A8",
        "outputId": "24d46791-b1bd-4055-c3d2-f7d1e79931c3"
      },
      "execution_count": null,
      "outputs": [
        {
          "output_type": "execute_result",
          "data": {
            "text/plain": [
              "[1, 2, 3, 4, 5, 6, 7, 8, 9, 10]"
            ]
          },
          "metadata": {},
          "execution_count": 1
        }
      ]
    },
    {
      "cell_type": "code",
      "source": [
        "foo = lambda t1: sum((foo(sub) if isinstance(sub, list) else [sub] for sub in t1), [])\n",
        "# t1 = [1, 2, [3, 4, [5, [6, [7, 8, 9, [10]]]]]]\n",
        "# t2 =[1]\n",
        "# result =\n",
        "# foo([1, 2, [3, 4, [5, [6, [7, 8, 9, [10]]]]]])\n",
        "# print(result)\n",
        "foo([1])"
      ],
      "metadata": {
        "colab": {
          "base_uri": "https://localhost:8080/"
        },
        "id": "-B_441jB8hVW",
        "outputId": "fdd6645c-cf95-486a-b3e6-a22a87ca608e"
      },
      "execution_count": null,
      "outputs": [
        {
          "output_type": "execute_result",
          "data": {
            "text/plain": [
              "[1]"
            ]
          },
          "metadata": {},
          "execution_count": 8
        }
      ]
    },
    {
      "cell_type": "code",
      "source": [
        "def list1(nest_list):\n",
        "\n",
        "    if not nest_list: # checks if nest_list is empty If the list is empty, return an empty list\n",
        "        return []\n",
        "\n",
        "    l = [] # a list is initializes\n",
        "    for item in nest_list:\n",
        "        if isinstance(item, list): # this isinstance method checks weather given input is of given data type here it checks if its a list or not\n",
        "            l.extend(list1(item)) # If the item is a list, then  the list is extended (extend method adds elements to list individually )\n",
        "            # repeats until the isinstance value is true\n",
        "        else:\n",
        "            # If the item is not a list, it append it directly to l\n",
        "            l.append(item)\n",
        "\n",
        "    return l\n",
        "\n",
        "\n"
      ],
      "metadata": {
        "id": "02gnW0GO9B15"
      },
      "execution_count": null,
      "outputs": []
    },
    {
      "cell_type": "code",
      "source": [
        "list1([1, 2, [3, 4, [5, [6, [7, 8, 9, [10]]]]]])"
      ],
      "metadata": {
        "colab": {
          "base_uri": "https://localhost:8080/"
        },
        "id": "jmes9-HWQvvl",
        "outputId": "0b3c551c-fb03-485b-8a41-bd1568a1d66c"
      },
      "execution_count": null,
      "outputs": [
        {
          "output_type": "execute_result",
          "data": {
            "text/plain": [
              "[1, 2, 3, 4, 5, 6, 7, 8, 9, 10]"
            ]
          },
          "metadata": {},
          "execution_count": 4
        }
      ]
    },
    {
      "cell_type": "code",
      "source": [
        "def logger(msg):\n",
        "    def log_message():\n",
        "        print(\"log: \",msg)\n",
        "    return log_message\n",
        "\n"
      ],
      "metadata": {
        "id": "Kie03gd5UitS"
      },
      "execution_count": null,
      "outputs": []
    },
    {
      "cell_type": "code",
      "source": [
        "log_hi = logger('Hi!')\n",
        "log_hi()"
      ],
      "metadata": {
        "colab": {
          "base_uri": "https://localhost:8080/"
        },
        "id": "3Yl2sW80V7kV",
        "outputId": "20f42910-07e9-4fdf-e6d3-e5c4e4279b57"
      },
      "execution_count": null,
      "outputs": [
        {
          "output_type": "stream",
          "name": "stdout",
          "text": [
            "log:  Hi!\n"
          ]
        }
      ]
    },
    {
      "cell_type": "code",
      "source": [
        "def html_tag(tag):\n",
        "    def wrap_text(msg):\n",
        "        print('<{0}>{1}</{0}>'.format(tag,msg))\n",
        "    return wrap_text\n"
      ],
      "metadata": {
        "id": "5hMGKRxcWNW1"
      },
      "execution_count": null,
      "outputs": []
    },
    {
      "cell_type": "code",
      "source": [
        "x = html_tag('hi')\n",
        "x('Test')"
      ],
      "metadata": {
        "colab": {
          "base_uri": "https://localhost:8080/"
        },
        "id": "y96fBN3GWxAf",
        "outputId": "b57a7f8a-9640-4454-db57-d933368a3b7b"
      },
      "execution_count": null,
      "outputs": [
        {
          "output_type": "stream",
          "name": "stdout",
          "text": [
            "<hi>Test</hi\n"
          ]
        }
      ]
    },
    {
      "cell_type": "code",
      "source": [
        "def circle(r:str):\n",
        "    return f\"Area of circle with radius {r} = {22/7*r*r}\""
      ],
      "metadata": {
        "id": "_RKrlyNhXiQt"
      },
      "execution_count": null,
      "outputs": []
    },
    {
      "cell_type": "code",
      "source": [
        "x = circle"
      ],
      "metadata": {
        "id": "f3K5YP2jZGop"
      },
      "execution_count": null,
      "outputs": []
    },
    {
      "cell_type": "code",
      "source": [
        "def my_map(func,list1):\n",
        "    l =[]\n",
        "    for i in list1:\n",
        "        l.append((func(i)))\n",
        "    return l"
      ],
      "metadata": {
        "id": "jD2OuA70YMuc"
      },
      "execution_count": null,
      "outputs": []
    },
    {
      "cell_type": "code",
      "source": [
        "y = my_map(x,[4,5,6,7,8])\n",
        "y"
      ],
      "metadata": {
        "colab": {
          "base_uri": "https://localhost:8080/"
        },
        "id": "GrIJwIvsX9R8",
        "outputId": "0c5d7595-4381-4e06-d1b5-8f8bdd1496f2"
      },
      "execution_count": null,
      "outputs": [
        {
          "output_type": "execute_result",
          "data": {
            "text/plain": [
              "['Area of circle with radius 4 = 50.285714285714285',\n",
              " 'Area of circle with radius 5 = 78.57142857142857',\n",
              " 'Area of circle with radius 6 = 113.14285714285714',\n",
              " 'Area of circle with radius 7 = 154.0',\n",
              " 'Area of circle with radius 8 = 201.14285714285714']"
            ]
          },
          "metadata": {},
          "execution_count": 41
        }
      ]
    },
    {
      "cell_type": "code",
      "source": [
        "def circle(r):\n",
        "    area = round(22/7*r*r,2)\n",
        "    return area\n",
        "def volume(area):\n",
        "    volume = area*r\n",
        "    return volume"
      ],
      "metadata": {
        "id": "yG9mpgVlbnUG"
      },
      "execution_count": null,
      "outputs": []
    },
    {
      "cell_type": "code",
      "source": [
        "def volume(area,r):\n",
        "    volume = round(area*r,2)\n",
        "    return volume"
      ],
      "metadata": {
        "id": "snuRLxiNdScL"
      },
      "execution_count": null,
      "outputs": []
    },
    {
      "cell_type": "code",
      "source": [
        "x = circle(5)\n",
        "print(x)"
      ],
      "metadata": {
        "colab": {
          "base_uri": "https://localhost:8080/"
        },
        "id": "L9ZE6PalcGJ3",
        "outputId": "9becf979-6a9e-4da9-f756-f22fa56cc973"
      },
      "execution_count": null,
      "outputs": [
        {
          "output_type": "stream",
          "name": "stdout",
          "text": [
            "78.57\n"
          ]
        }
      ]
    },
    {
      "cell_type": "code",
      "source": [
        "y = volume(x,5)\n",
        "print(y)"
      ],
      "metadata": {
        "colab": {
          "base_uri": "https://localhost:8080/"
        },
        "id": "9J-uK8YEdhpm",
        "outputId": "055f36c4-da97-4a6b-e5e0-82dc00245de5"
      },
      "execution_count": null,
      "outputs": [
        {
          "output_type": "stream",
          "name": "stdout",
          "text": [
            "392.85\n"
          ]
        }
      ]
    },
    {
      "cell_type": "markdown",
      "source": [
        "## Closures\n",
        "It remembers the inner function and returns even after the outer function is executed"
      ],
      "metadata": {
        "id": "2XuvgY445r7o"
      }
    },
    {
      "cell_type": "code",
      "source": [
        "def outer_func():\n",
        "    message = 'hi'\n",
        "    def inner_func():\n",
        "        print(message)\n",
        "    return inner_func()"
      ],
      "metadata": {
        "id": "JIxdT1mW5_fA"
      },
      "execution_count": null,
      "outputs": []
    },
    {
      "cell_type": "code",
      "source": [
        "outer_func()\n",
        "# here as inner_func do not requires any parameters and while returning its calling inner_func() so it runs and gives output"
      ],
      "metadata": {
        "colab": {
          "base_uri": "https://localhost:8080/"
        },
        "id": "opQh0f1W6U6_",
        "outputId": "0e1e5195-d140-4f34-f6d1-bdd7820555c4"
      },
      "execution_count": null,
      "outputs": [
        {
          "output_type": "stream",
          "name": "stdout",
          "text": [
            "hi\n"
          ]
        }
      ]
    },
    {
      "cell_type": "code",
      "source": [
        "def outer_func():\n",
        "    message = 'hi'\n",
        "    def inner_func():\n",
        "        print(message)\n",
        "    return inner_func"
      ],
      "metadata": {
        "id": "i33sSZk-6sB7"
      },
      "execution_count": null,
      "outputs": []
    },
    {
      "cell_type": "code",
      "source": [
        "my_func = outer_func() # here the my_func is the inner function because inner function is not called\n",
        "# calling my_func is similar to calling inner_func()"
      ],
      "metadata": {
        "colab": {
          "base_uri": "https://localhost:8080/",
          "height": 104
        },
        "id": "2zYID3gH62k1",
        "outputId": "e889a5a2-99e1-4f46-d07d-2d3cb3bdec39"
      },
      "execution_count": null,
      "outputs": [
        {
          "output_type": "execute_result",
          "data": {
            "text/plain": [
              "<function __main__.outer_func.<locals>.inner_func()>"
            ],
            "text/html": [
              "<div style=\"max-width:800px; border: 1px solid var(--colab-border-color);\"><style>\n",
              "      pre.function-repr-contents {\n",
              "        overflow-x: auto;\n",
              "        padding: 8px 12px;\n",
              "        max-height: 500px;\n",
              "      }\n",
              "\n",
              "      pre.function-repr-contents.function-repr-contents-collapsed {\n",
              "        cursor: pointer;\n",
              "        max-height: 100px;\n",
              "      }\n",
              "    </style>\n",
              "    <pre style=\"white-space: initial; background:\n",
              "         var(--colab-secondary-surface-color); padding: 8px 12px;\n",
              "         border-bottom: 1px solid var(--colab-border-color);\"><b>outer_func.&lt;locals&gt;.inner_func</b><br/>def inner_func()</pre><pre class=\"function-repr-contents function-repr-contents-collapsed\" style=\"\"><a class=\"filepath\" style=\"display:none\" href=\"#\">/content/&lt;ipython-input-7-2b2c1e310986&gt;</a>&lt;no docstring&gt;</pre></div>"
            ]
          },
          "metadata": {},
          "execution_count": 8
        }
      ]
    },
    {
      "cell_type": "code",
      "source": [
        "def outer_function(msg):\n",
        "    message ="
      ],
      "metadata": {
        "id": "9U6U-9H8_PLg"
      },
      "execution_count": null,
      "outputs": []
    },
    {
      "cell_type": "code",
      "source": [
        "def circle(r):\n",
        "    area = round(22/7*r*r,2)\n",
        "\n",
        "    def cylinder(h):\n",
        "        cyl_area= 2*(22/7)*r*h + 2*(area)\n",
        "        return cyl_area\n",
        "    return cylinder"
      ],
      "metadata": {
        "id": "2xQXREK1_Otf"
      },
      "execution_count": null,
      "outputs": []
    },
    {
      "cell_type": "code",
      "source": [
        "my_cylinder = circle(5)  # Create a cylinder function for radius 5\n",
        "cylinder_area = my_cylinder(10)  # Calculate area for height 10\n",
        "print(cylinder_area)"
      ],
      "metadata": {
        "colab": {
          "base_uri": "https://localhost:8080/"
        },
        "id": "7gQ5DYObAL35",
        "outputId": "1cfe3f77-1e68-4f93-f8b0-7eee6b480d63"
      },
      "execution_count": null,
      "outputs": [
        {
          "output_type": "stream",
          "name": "stdout",
          "text": [
            "471.42571428571426\n"
          ]
        }
      ]
    },
    {
      "cell_type": "code",
      "source": [
        "def outer_function(msg):\n",
        "    message = msg\n",
        "\n",
        "    def inner_function():\n",
        "        print(message)\n",
        "    return inner_function"
      ],
      "metadata": {
        "id": "MXtCs7EqehsW"
      },
      "execution_count": 7,
      "outputs": []
    },
    {
      "cell_type": "code",
      "source": [
        "hi_func = outer_function('Hi')\n",
        "bye_func = outer_function('Bye')"
      ],
      "metadata": {
        "id": "7EKPVeG1fXFw"
      },
      "execution_count": 8,
      "outputs": []
    },
    {
      "cell_type": "code",
      "source": [
        "hi_func()\n",
        "bye_func()"
      ],
      "metadata": {
        "colab": {
          "base_uri": "https://localhost:8080/"
        },
        "id": "aQXpGqjifnFd",
        "outputId": "c2191640-f766-4c3d-b71e-93ff3e8e2f32"
      },
      "execution_count": 9,
      "outputs": [
        {
          "output_type": "stream",
          "name": "stdout",
          "text": [
            "Hi\n",
            "Bye\n"
          ]
        }
      ]
    },
    {
      "cell_type": "code",
      "source": [
        "def outer_function(msg):\n",
        "    def inner_function():\n",
        "        print(msg)\n",
        "    return inner_function\n",
        "hi_func = outer_function('Hi')\n",
        "bye_func = outer_function('bye')"
      ],
      "metadata": {
        "id": "o3R6QIpygAdU"
      },
      "execution_count": 11,
      "outputs": []
    },
    {
      "cell_type": "code",
      "source": [
        "hi_func()\n",
        "bye_func()"
      ],
      "metadata": {
        "colab": {
          "base_uri": "https://localhost:8080/"
        },
        "id": "yvlCUVnrgWno",
        "outputId": "1cbb7532-300b-4c8d-d81f-496e9c6d924e"
      },
      "execution_count": 12,
      "outputs": [
        {
          "output_type": "stream",
          "name": "stdout",
          "text": [
            "Hi\n",
            "bye\n"
          ]
        }
      ]
    },
    {
      "cell_type": "code",
      "source": [
        "#decorator:In Python, a decorator is a function that takes another function as an argument and extends its behavior without explicitly modifying the original function's code. It's a powerful way to add functionality to existing functions, making them more versatile and reusable"
      ],
      "metadata": {
        "id": "MuYiWSYOgfj3"
      },
      "execution_count": null,
      "outputs": []
    },
    {
      "cell_type": "code",
      "source": [
        "def decorator_function(original_function):\n",
        "    def wrapper_function():\n",
        "        return original_function()\n",
        "    return wrapper_function\n",
        "\n",
        "def display():\n",
        "    print('display function ran')\n",
        "\n",
        "decorated_display = decorator_function(display)\n",
        "decorated_display()"
      ],
      "metadata": {
        "colab": {
          "base_uri": "https://localhost:8080/"
        },
        "id": "Ao3T2pqzjMKR",
        "outputId": "8c339329-3169-44b9-e1fe-79613fb1486d"
      },
      "execution_count": 13,
      "outputs": [
        {
          "output_type": "stream",
          "name": "stdout",
          "text": [
            "display function ran\n"
          ]
        }
      ]
    },
    {
      "cell_type": "code",
      "source": [
        "def decorator_function(original_function):\n",
        "    def wrapper_function():\n",
        "        print('wrapper executed this before {}'.format(original_function.__name__))\n",
        "        return original_function()\n",
        "    return wrapper_function\n",
        "\n",
        "@decorator_function\n",
        "def display():\n",
        "    print('display function ran')"
      ],
      "metadata": {
        "id": "FH169-R1lZ62"
      },
      "execution_count": 16,
      "outputs": []
    },
    {
      "cell_type": "code",
      "source": [
        "display()"
      ],
      "metadata": {
        "colab": {
          "base_uri": "https://localhost:8080/"
        },
        "id": "wmmxuUaJltFn",
        "outputId": "ccc68600-972f-44ab-a1e5-e947bb4a7164"
      },
      "execution_count": 17,
      "outputs": [
        {
          "output_type": "stream",
          "name": "stdout",
          "text": [
            "wrapper executed this before display\n",
            "display function ran\n"
          ]
        }
      ]
    },
    {
      "cell_type": "code",
      "source": [
        "def decorator_function(original_function):\n",
        "    def wrapper_function(*args, **kwargs):\n",
        "        print('wrapper executed this before{}'.format(original_function.__name__))\n",
        "        return original_function(*args,**kwargs)\n",
        "    return wrapper_function\n",
        "\n",
        "@decorator_function\n",
        "def display():\n",
        "    print('display function ran')\n",
        "\n",
        "\n",
        "@decorator_function\n",
        "def display_info(name, age):\n",
        "    print('display_info ran with arguments({},{})'.format(name,age))\n",
        "\n",
        "display_info(\"'John\",25)\n",
        "\n",
        "display()"
      ],
      "metadata": {
        "colab": {
          "base_uri": "https://localhost:8080/"
        },
        "id": "AtJHpMDRmvd7",
        "outputId": "88667f63-00b6-4bdf-fd99-0a48cb562ccf"
      },
      "execution_count": 20,
      "outputs": [
        {
          "output_type": "stream",
          "name": "stdout",
          "text": [
            "wrapper executed this beforedisplay_info\n",
            "display_info ran with arguments('John,25)\n",
            "wrapper executed this before display\n",
            "display function ran\n"
          ]
        }
      ]
    },
    {
      "cell_type": "markdown",
      "source": [
        "- hlo\n",
        "- hi\n"
      ],
      "metadata": {
        "id": "9Eax0uL2rGqz"
      }
    },
    {
      "cell_type": "code",
      "source": [],
      "metadata": {
        "id": "oGN74JTxm5SC"
      },
      "execution_count": null,
      "outputs": []
    }
  ]
}