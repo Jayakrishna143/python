{
  "nbformat": 4,
  "nbformat_minor": 0,
  "metadata": {
    "colab": {
      "provenance": [],
      "authorship_tag": "ABX9TyPhQSNYOc2LvEq5iiZ+A0Lh",
      "include_colab_link": true
    },
    "kernelspec": {
      "name": "python3",
      "display_name": "Python 3"
    },
    "language_info": {
      "name": "python"
    }
  },
  "cells": [
    {
      "cell_type": "markdown",
      "metadata": {
        "id": "view-in-github",
        "colab_type": "text"
      },
      "source": [
        "<a href=\"https://colab.research.google.com/github/Jayakrishna143/python/blob/tasks/task13_while_loop.ipynb\" target=\"_parent\"><img src=\"https://colab.research.google.com/assets/colab-badge.svg\" alt=\"Open In Colab\"/></a>"
      ]
    },
    {
      "cell_type": "code",
      "source": [
        "while True: # while function is used to give another choice to type the password\n",
        "    password = input(\"Enter a password: \")\n",
        "    digit = False # initiating all the characters as False\n",
        "    upper = False # initiating all the characters as False\n",
        "    lower = False # initiating all the characters as False\n",
        "    special = False # initiating all the characters as False\n",
        "    digit_count = 0 # initiating all the count to 0\n",
        "    upper_count = 0 # initiating all the count to 0\n",
        "    lower_count = 0 # initiating all the count to 0\n",
        "    special_count = 0 # initiating all the count to 0\n",
        "\n",
        "    for i in password:\n",
        "        if i.isdigit():\n",
        "            digit = True # checks weather there is a num digit in the passwerd\n",
        "            digit_count += 1\n",
        "        elif i.isupper(): # checks weather there is a upper or capital alphabet in the passwerd and then incremnt the counter if found\n",
        "            upper = True\n",
        "            upper_count += 1\n",
        "        elif i.islower(): # checks weather there is a lower  alphabet in the passwerd and then incremnt the counter if found\n",
        "            lower = True\n",
        "            lower_count += 1\n",
        "        else:\n",
        "            special = True # checks weather there is a special  character  in the passwerd and then incremnt the counter if found\n",
        "            special_count += 1\n",
        "\n",
        "\n",
        "    if digit and upper and lower and special: # once all the characters are checked then it checks it True or False for all the elements and then prints out following\n",
        "        print(\"Password accepted!\")\n",
        "        print(f\"\\nDigits: {digit_count}, Uppercase Letters: {upper_count}, Lowercase Letters: {lower_count}, Special Characters: {special_count}\")\n",
        "        break\n",
        "    else:\n",
        "        print(\"Password is invalid. Please include the following missing character types:\")\n",
        "        if not digit:\n",
        "            print(\"- At least one digit\")\n",
        "        if not upper:\n",
        "            print(\"- At least one uppercase letter\")\n",
        "        if not lower:\n",
        "            print(\"- At least one lowercase letter\")\n",
        "        if not special:\n",
        "            print(\"- At least one special character\")\n"
      ],
      "metadata": {
        "colab": {
          "base_uri": "https://localhost:8080/"
        },
        "id": "UjlSVgKR2gn6",
        "outputId": "2d4fd914-3d1a-43d7-af50-7e6d323a8313"
      },
      "execution_count": 33,
      "outputs": [
        {
          "output_type": "stream",
          "name": "stdout",
          "text": [
            "Enter a password: Jaya@0011\n",
            "Password accepted!\n",
            "\n",
            "Digits: 4, Uppercase Letters: 1, Lowercase Letters: 3, Special Characters: 1\n"
          ]
        }
      ]
    },
    {
      "cell_type": "markdown",
      "source": [
        "An Armstrong number (also known as a narcissistic number, pluperfect digital invariant (PPDI), or pluperfect number) is a number that is equal to the sum of its own digits raised to the power of the number of digits.\n",
        "- x power n + y power n + z power n+....= xyz..."
      ],
      "metadata": {
        "id": "0YoP9_muKrIJ"
      }
    },
    {
      "cell_type": "code",
      "execution_count": null,
      "metadata": {
        "colab": {
          "base_uri": "https://localhost:8080/"
        },
        "id": "psrqNb6vKbe0",
        "outputId": "a91b4897-a071-4960-c650-5ce3be9a1635"
      },
      "outputs": [
        {
          "output_type": "stream",
          "name": "stdout",
          "text": [
            "enter a number54748\n",
            "54748 is an Armstrong number\n"
          ]
        }
      ],
      "source": [
        "num = str(input('enter a number'))\n",
        "assert num.isdigit(), 'enter a valid number'\n",
        "num_length = len(num)\n",
        "total = 0\n",
        "i = 0\n",
        "while  i < num_length:\n",
        "    total += int(num[i])**num_length\n",
        "    i+=1\n",
        "if total == int(num):\n",
        "    print(f'{num} is an Armstrong number')\n",
        "else:\n",
        "    print(f'{num} is not an Armstrong number')"
      ]
    },
    {
      "cell_type": "markdown",
      "source": [
        "to be a leap year the year has to fallow this three conditions\n",
        "- A year is a leap year if it is divisible by 4.\n",
        "- However, a year is not a leap year if it is divisible by 100,\n",
        "- unless:It is also divisible by 400."
      ],
      "metadata": {
        "id": "5NxnJYfzR07G"
      }
    },
    {
      "cell_type": "code",
      "source": [
        "year = int(input('Enter a year: '))\n",
        "if year % 4 == 0:\n",
        "  if year % 100 != 0 or year % 400 == 0:\n",
        "    print(f'{year} is a leap year')\n",
        "  else:\n",
        "    print(f'{year} is not a leap year')\n",
        "else:\n",
        "  print(f'{year} is not a leap year')"
      ],
      "metadata": {
        "colab": {
          "base_uri": "https://localhost:8080/"
        },
        "id": "bw5W5J4JRaw_",
        "outputId": "6724fac1-9f64-4f0b-f509-fdad129078c8"
      },
      "execution_count": null,
      "outputs": [
        {
          "output_type": "stream",
          "name": "stdout",
          "text": [
            "Enter a year: 2400\n",
            "2400 is a leap year\n"
          ]
        }
      ]
    },
    {
      "cell_type": "markdown",
      "source": [
        "- 0+1 =1\n",
        "- 1+1 =2\n",
        "- 1+2= 3\n",
        "- 2+3= 5\n",
        "- 3+5= 8\n",
        "- 5+8= 13"
      ],
      "metadata": {
        "id": "cPHZONgUUHLq"
      }
    },
    {
      "cell_type": "code",
      "source": [
        "a= 0\n",
        "b = 1\n",
        "n = int(input('enter a number of terms: '))\n",
        "c = 0 # to count the no of iterations done\n",
        "while c <n:\n",
        "  print(a)\n",
        "  a,b = b,a+b # assiging b to a and a+b to b in same lime because if it is done in two line first a will be assingned and then while assigning a+b to b the updated a will be assigined\n",
        "  c +=1"
      ],
      "metadata": {
        "colab": {
          "base_uri": "https://localhost:8080/"
        },
        "id": "EBam-uljVvCd",
        "outputId": "d6a38495-fd24-4f23-d735-20f03c3dc690"
      },
      "execution_count": null,
      "outputs": [
        {
          "output_type": "stream",
          "name": "stdout",
          "text": [
            "enter a number of terms: 10\n",
            "0\n",
            "1\n",
            "1\n",
            "2\n",
            "3\n",
            "5\n",
            "8\n",
            "13\n",
            "21\n",
            "34\n"
          ]
        }
      ]
    },
    {
      "cell_type": "code",
      "source": [
        "num = int(input('enter no of first prime numbers to sum : '))\n",
        "assert num > 0, 'enter a valid number'\n",
        "c = 0 # assining count to number of first prime numbers\n",
        "a = 2 # updating a if a prime number is found firs prime number is 2 so it starts with 2\n",
        "sum = 0\n",
        "while c < num:\n",
        "  is_prime  = True\n",
        "  i =2\n",
        "  while  i in range(2,int(a//2)+1): # checking for all the factorials of given number, if there is no factorial before number//2 then there will not be after it so minimize the range this part is taken\n",
        "    if a % i == 0: # if true then it is not a prime number\n",
        "      is_prime = False # if conditions is met then the number is not a prime number so breaks after it to check next number\n",
        "      break\n",
        "    i+=1 # itirates the i value in range to check next number is factorial or not\n",
        "  if is_prime: # if is_prime is true then this code runs it update the prime_sum by adding number\n",
        "    sum+=a\n",
        "    c+=1 # it updates the count\n",
        "  a+=1  # it updates to check for anothe number until c<=5\n",
        "\n",
        "print(f'sum of first {num} prime_numbers is {sum}')\n"
      ],
      "metadata": {
        "colab": {
          "base_uri": "https://localhost:8080/"
        },
        "id": "y1SX6phTYkey",
        "outputId": "a363fc3b-7ec6-4533-e769-301a1594541f"
      },
      "execution_count": null,
      "outputs": [
        {
          "output_type": "stream",
          "name": "stdout",
          "text": [
            "enter no of first prime numbers to sum : 7\n",
            "sum of first 7 prime_numbers is 58\n"
          ]
        }
      ]
    },
    {
      "cell_type": "markdown",
      "source": [
        "Write a program to check if a given number is a palindrome (reads the same backward as forward) using a while loop. The program should compare the digits from the beginning and the end, and return True if the number is a palindrome, False otherwise.\n",
        "\n"
      ],
      "metadata": {
        "id": "hQTSeJj9nXHC"
      }
    },
    {
      "cell_type": "code",
      "source": [
        "number = str(input('enter a number: '))\n",
        "assert number.isdigit(), 'enter a valid number'\n",
        "len_num = len(number)\n",
        "i = 0\n",
        "palindrome = True\n",
        "while i <=len(number)-1:\n",
        "    if number[i] != number[len_num - 1-i]:\n",
        "        palindrome = False\n",
        "        break\n",
        "    i+=1\n",
        "print(palindrome)"
      ],
      "metadata": {
        "id": "YprVgBYJi-GH",
        "colab": {
          "base_uri": "https://localhost:8080/"
        },
        "outputId": "f117e7a9-c847-457e-8ada-27c9f2514323"
      },
      "execution_count": 27,
      "outputs": [
        {
          "output_type": "stream",
          "name": "stdout",
          "text": [
            "enter a number: 123321\n",
            "True\n"
          ]
        }
      ]
    },
    {
      "cell_type": "markdown",
      "source": [
        "Write a program that prints the multiplication table of a given number. The program should use a while loop to print the table up to 10. The program should handle the input and ensure the loop stops once the multiplication for the 10th time is printed."
      ],
      "metadata": {
        "id": "ha91m2hUq7qI"
      }
    },
    {
      "cell_type": "code",
      "source": [
        "number = int(input('enter a number: '))\n",
        "i = 1\n",
        "while i<=10:\n",
        "    print(f'{number} x {i}   = {number*i}')\n",
        "    i+=1"
      ],
      "metadata": {
        "colab": {
          "base_uri": "https://localhost:8080/"
        },
        "id": "ndrw-BHxq7Zy",
        "outputId": "5d8f81eb-2b6a-4620-bdcd-c27207b30f3a"
      },
      "execution_count": 29,
      "outputs": [
        {
          "output_type": "stream",
          "name": "stdout",
          "text": [
            "enter a number: 7\n",
            "7 x 1   = 7\n",
            "7 x 2   = 14\n",
            "7 x 3   = 21\n",
            "7 x 4   = 28\n",
            "7 x 5   = 35\n",
            "7 x 6   = 42\n",
            "7 x 7   = 49\n",
            "7 x 8   = 56\n",
            "7 x 9   = 63\n",
            "7 x 10   = 70\n"
          ]
        }
      ]
    }
  ]
}