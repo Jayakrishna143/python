{
  "nbformat": 4,
  "nbformat_minor": 0,
  "metadata": {
    "colab": {
      "provenance": [],
      "authorship_tag": "ABX9TyOgCr3zpZ5cD974VTqawxAr",
      "include_colab_link": true
    },
    "kernelspec": {
      "name": "python3",
      "display_name": "Python 3"
    },
    "language_info": {
      "name": "python"
    }
  },
  "cells": [
    {
      "cell_type": "markdown",
      "metadata": {
        "id": "view-in-github",
        "colab_type": "text"
      },
      "source": [
        "<a href=\"https://colab.research.google.com/github/Jayakrishna143/python/blob/main/task1.ipynb\" target=\"_parent\"><img src=\"https://colab.research.google.com/assets/colab-badge.svg\" alt=\"Open In Colab\"/></a>"
      ]
    },
    {
      "cell_type": "markdown",
      "source": [
        "Provide an explanation in your own words about variables, operators, functions, conditional statements, blocks, and loops, along with suitable examples for each."
      ],
      "metadata": {
        "id": "3mrP9NQgFPr_"
      }
    },
    {
      "cell_type": "markdown",
      "source": [
        "# variables:\n",
        "Variables are place holders for values,it can store value which can be reused later in the program\n",
        "- variables should start with a alphabet and should no contains any space in between\n",
        "\n",
        "# operators\n",
        "In Python, operators are special symbols that perform operations on variables and values. Here's a breakdown of the different types of operators\n",
        "1. Arithmetic Operators:\n",
        "\n",
        "-   Addition +\n",
        "-   Subtraction -\n",
        "-   Multiplication *\n",
        "- / Division\n",
        "- // Floor Division\n",
        "- % Modulus\n",
        "- ** Exponentiation\n",
        "\n",
        "2. Comparison Operators:\n",
        "\n",
        "- == Equal to\n",
        "- != Not equal to\n",
        "- Greater than >\n",
        "-  Less than <\n",
        "- Greater than or equal to >=\n",
        "- Less than or equal to <=\n",
        "\n",
        "3. Logical Operators:\n",
        "\n",
        "-  and\n",
        "-  or  \n",
        "-  not I\n",
        "\n",
        "4. Assignment Operators:\n",
        "\n",
        "-  ==\n",
        "-  +=\n",
        "-  -=\n",
        "-  *=\n",
        "-  /=\n",
        "-  //=\n",
        "-  %=\n",
        "-  **=\n",
        "5. Membership Operators:\n",
        "\n",
        "-  in Returns True if a value is found  \n",
        "-  not in Returns True if a value is not found  \n",
        "\n",
        "6. Identity Operators:\n",
        "\n",
        "-  is Returns True if both variables refer to the same object\n",
        "-  is not Returns True if both variables do not refer to the same object\n"
      ],
      "metadata": {
        "id": "HFAcRAquFScO"
      }
    },
    {
      "cell_type": "code",
      "source": [
        "a = 10\n",
        "b =12\n",
        "c = a+b\n",
        "d =a-b\n",
        "e = a*b\n",
        "f =a/b\n",
        "g =a//b\n",
        "h =a%b\n",
        "i =a**b\n",
        "print(c ,d,e,f,g,h,i)\n",
        "print(a==b,a!=b,a>b,a<b,a>=b,a<=b)"
      ],
      "metadata": {
        "colab": {
          "base_uri": "https://localhost:8080/"
        },
        "id": "_uJNPQhNJh3E",
        "outputId": "f13d3a7f-71bd-4dac-8bb5-dd0e0b565c81"
      },
      "execution_count": 10,
      "outputs": [
        {
          "output_type": "stream",
          "name": "stdout",
          "text": [
            "22 -2 120 0.8333333333333334 0 10 1000000000000\n",
            "False True False True False True\n",
            "12 10 False\n"
          ]
        }
      ]
    },
    {
      "cell_type": "markdown",
      "source": [
        "# loops\n",
        "##for loop\n",
        "   - for loop itirates until the range is completed does no require manual iterations\n",
        "\n",
        "## while loop\n",
        "- while loop only checks weather the condition given is true if true the loops starts and continues until the condition given is false\n",
        "- need to iterate after every loop"
      ],
      "metadata": {
        "id": "YELp7aLTHqXS"
      }
    },
    {
      "cell_type": "code",
      "execution_count": 5,
      "metadata": {
        "colab": {
          "base_uri": "https://localhost:8080/"
        },
        "id": "Tc_hySmZFFxg",
        "outputId": "34dc3ee5-165e-4cb4-b609-2db509ca878b"
      },
      "outputs": [
        {
          "output_type": "stream",
          "name": "stdout",
          "text": [
            "12345\n",
            "12345"
          ]
        }
      ],
      "source": [
        "# for loop\n",
        "for i in range(1,6):\n",
        "    print(i,end=\"\")\n",
        "print()\n",
        "# while loop\n",
        "i = 1\n",
        "while i <6:\n",
        "    print(i,end=\"\")\n",
        "    i+=1"
      ]
    },
    {
      "cell_type": "markdown",
      "source": [
        "Solve below:\n",
        "- s=\"your full name\"\n",
        "- S[-1], s[-3], s[2:7], s[2:7:1],\n",
        "- S[2:7:1],s[2:7:2],\n",
        "- S[2:7:-1],s[2:7:-2],\n",
        "- s[7:2:1],\n",
        "- S[7:2:-1], s[7:2:-2].\n"
      ],
      "metadata": {
        "id": "DP39nHcSIvzC"
      }
    },
    {
      "cell_type": "code",
      "source": [
        "s = 'Jaya krishna Reddy'\n",
        "s[-1], s[-3], s[2:7], s[2:7:1],s[2:7:2],s[2:7:-1],s[2:7:-2],s[7:2:1],s[7:2:-1], s[7:2:-2]"
      ],
      "metadata": {
        "colab": {
          "base_uri": "https://localhost:8080/"
        },
        "id": "Nqi1DTTGI19Y",
        "outputId": "edab7b3d-d288-4b87-c913-3a65cc873eb1"
      },
      "execution_count": 6,
      "outputs": [
        {
          "output_type": "execute_result",
          "data": {
            "text/plain": [
              "('y', 'd', 'ya kr', 'ya kr', 'y r', '', '', '', 'irk a', 'ika')"
            ]
          },
          "metadata": {},
          "execution_count": 6
        }
      ]
    }
  ]
}